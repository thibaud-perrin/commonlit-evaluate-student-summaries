{
 "cells": [
  {
   "cell_type": "markdown",
   "id": "0a14353b-46a1-4c60-9ee7-080174af9aa7",
   "metadata": {},
   "source": [
    "# Sentence Transformer"
   ]
  },
  {
   "cell_type": "code",
   "execution_count": 1,
   "id": "9c8f10e2-148a-44e1-8cf6-748a75601885",
   "metadata": {},
   "outputs": [],
   "source": [
    "import copy\n",
    "import numpy as np\n",
    "import pandas as pd\n",
    "\n",
    "import torch\n",
    "import torch.nn as nn\n",
    "import torch.nn.functional as F\n",
    "import torch.optim as optim\n",
    "from torch.utils.data import Dataset, DataLoader\n",
    "from datasets import load_from_disk\n",
    "\n",
    "import matplotlib.pyplot as plt \n",
    "import seaborn as sns\n",
    "%matplotlib inline"
   ]
  },
  {
   "cell_type": "markdown",
   "id": "e214c448-b292-4cd7-92e6-740be40bc11d",
   "metadata": {},
   "source": [
    "## GPU"
   ]
  },
  {
   "cell_type": "code",
   "execution_count": 2,
   "id": "959cac82-9842-4968-9597-4c8324936e66",
   "metadata": {},
   "outputs": [
    {
     "name": "stdout",
     "output_type": "stream",
     "text": [
      "Sun Aug 27 22:59:58 2023       \n",
      "+---------------------------------------------------------------------------------------+\n",
      "| NVIDIA-SMI 536.99                 Driver Version: 536.99       CUDA Version: 12.2     |\n",
      "|-----------------------------------------+----------------------+----------------------+\n",
      "| GPU  Name                     TCC/WDDM  | Bus-Id        Disp.A | Volatile Uncorr. ECC |\n",
      "| Fan  Temp   Perf          Pwr:Usage/Cap |         Memory-Usage | GPU-Util  Compute M. |\n",
      "|                                         |                      |               MIG M. |\n",
      "|=========================================+======================+======================|\n",
      "|   0  NVIDIA GeForce GTX 1070      WDDM  | 00000000:01:00.0  On |                  N/A |\n",
      "| 29%   44C    P8              12W / 151W |   1787MiB /  8192MiB |      9%      Default |\n",
      "|                                         |                      |                  N/A |\n",
      "+-----------------------------------------+----------------------+----------------------+\n",
      "                                                                                         \n",
      "+---------------------------------------------------------------------------------------+\n",
      "| Processes:                                                                            |\n",
      "|  GPU   GI   CI        PID   Type   Process name                            GPU Memory |\n",
      "|        ID   ID                                                             Usage      |\n",
      "|=======================================================================================|\n",
      "|    0   N/A  N/A      3148    C+G   ...CBS_cw5n1h2txyewy\\TextInputHost.exe    N/A      |\n",
      "|    0   N/A  N/A      3156    C+G   C:\\Windows\\explorer.exe                   N/A      |\n",
      "|    0   N/A  N/A      5048    C+G   ...ekyb3d8bbwe\\PhoneExperienceHost.exe    N/A      |\n",
      "|    0   N/A  N/A     10972    C+G   ...t.LockApp_cw5n1h2txyewy\\LockApp.exe    N/A      |\n",
      "|    0   N/A  N/A     11056    C+G   ...ejd91yc\\AdobeNotificationClient.exe    N/A      |\n",
      "|    0   N/A  N/A     11104    C+G   ....Search_cw5n1h2txyewy\\SearchApp.exe    N/A      |\n",
      "|    0   N/A  N/A     12148    C+G   ..._8wekyb3d8bbwe\\Microsoft.Photos.exe    N/A      |\n",
      "|    0   N/A  N/A     14000    C+G   ...8.0_x64__cv1g1gvanyjgm\\WhatsApp.exe    N/A      |\n",
      "|    0   N/A  N/A     15780    C+G   ...Brave-Browser\\Application\\brave.exe    N/A      |\n",
      "|    0   N/A  N/A     16468    C+G   ....0_x64__8wekyb3d8bbwe\\HxOutlook.exe    N/A      |\n",
      "|    0   N/A  N/A     16856    C+G   ...Data\\Local\\Programs\\Blitz\\Blitz.exe    N/A      |\n",
      "|    0   N/A  N/A     17492    C+G   ...1.0_x64__8wekyb3d8bbwe\\Video.UI.exe    N/A      |\n",
      "|    0   N/A  N/A     17856    C+G   ...5n1h2txyewy\\ShellExperienceHost.exe    N/A      |\n",
      "|    0   N/A  N/A     17884    C+G   ...GeForce Experience\\NVIDIA Share.exe    N/A      |\n",
      "|    0   N/A  N/A     20964    C+G   ...2txyewy\\StartMenuExperienceHost.exe    N/A      |\n",
      "|    0   N/A  N/A     22072      C   ...rograms\\Python\\Python311\\python.exe    N/A      |\n",
      "|    0   N/A  N/A     23612    C+G   ...aam7r\\AcrobatNotificationClient.exe    N/A      |\n",
      "|    0   N/A  N/A     26408    C+G   ...soft Office\\root\\Office16\\EXCEL.EXE    N/A      |\n",
      "+---------------------------------------------------------------------------------------+\n"
     ]
    }
   ],
   "source": [
    "!nvidia-smi"
   ]
  },
  {
   "cell_type": "code",
   "execution_count": 3,
   "id": "eceddb8b-556e-4e20-8137-a4e77efa0490",
   "metadata": {},
   "outputs": [
    {
     "data": {
      "text/plain": [
       "device(type='cuda')"
      ]
     },
     "execution_count": 3,
     "metadata": {},
     "output_type": "execute_result"
    }
   ],
   "source": [
    "# Check if CUDA is available, else use CPU\n",
    "device = torch.device('cuda' if torch.cuda.is_available() else 'cpu')\n",
    "device"
   ]
  },
  {
   "cell_type": "markdown",
   "id": "a2aa67ca-52c8-409e-8862-dac0997bafe0",
   "metadata": {},
   "source": [
    "## Path"
   ]
  },
  {
   "cell_type": "markdown",
   "id": "a1fd958f-82f1-4f6b-9a00-97c41e225c30",
   "metadata": {},
   "source": [
    "## Generate dataset and batch"
   ]
  },
  {
   "cell_type": "code",
   "execution_count": 4,
   "id": "fd6d7c30-5744-4c0d-824d-dcc667e50a9f",
   "metadata": {},
   "outputs": [],
   "source": [
    "class PromptDataset(Dataset):\n",
    "\n",
    "    def __init__(self, dataset, device):\n",
    "        self.dataset = dataset\n",
    "        self.device = device\n",
    "\n",
    "    def deserialize_array(self, binary_string, dtype, shape):\n",
    "        return np.frombuffer(binary_string, dtype=dtype).reshape(shape)\n",
    "\n",
    "    def __getitem__(self, index):\n",
    "        data = self.dataset[index]\n",
    "        # retrieve values\n",
    "        student_id = data['student_id']\n",
    "        prompt_id = data['prompt_id']\n",
    "        prompt_question = torch.tensor(self.deserialize_array(data['prompt_question'], np.float32, (768,))).to(self.device)\n",
    "        prompt_text = torch.tensor(self.deserialize_array(data['prompt_text'], np.float32, (768,))).to(self.device)\n",
    "        text = torch.tensor(self.deserialize_array(data['text'], np.float32, (768,))).to(self.device)\n",
    "        content = torch.tensor(data['content']).to(self.device)\n",
    "        wording = torch.tensor(data['wording']).to(self.device)\n",
    "        normalized_content = torch.tensor(data['normalized_content']).to(self.device)\n",
    "        normalized_wording = torch.tensor(data['normalized_wording']).to(self.device)\n",
    "        \n",
    "        return {\n",
    "            'student_id': student_id,\n",
    "            'prompt_id': prompt_id,\n",
    "            'prompt_question': prompt_question,\n",
    "            'prompt_text': prompt_text,\n",
    "            'text': text,\n",
    "            'content': content,\n",
    "            'wording': wording,\n",
    "            'normalized_content': normalized_content,\n",
    "            'normalized_wording': normalized_wording,\n",
    "        }\n",
    "\n",
    "    def __len__(self) -> int :\n",
    "        return self.dataset.num_rows"
   ]
  },
  {
   "cell_type": "code",
   "execution_count": 5,
   "id": "843e316c-df6c-485f-8561-6f890c556f87",
   "metadata": {},
   "outputs": [],
   "source": [
    "class DataLoaderFactory():\n",
    "\n",
    "    def __init__(self, path:str = './data/hugging_face', batch_size = 12, device = 'cpu'):\n",
    "        self.batch_size = batch_size\n",
    "        self.dataset = load_from_disk(path, keep_in_memory=True)\n",
    "        self.device = device\n",
    "\n",
    "        print(\"1. Loading dataset: ...\", end=\"\")\n",
    "        dataset = load_from_disk(path, keep_in_memory=True)\n",
    "        print(\"\\r1. Loading dataset: done ✔️\")\n",
    "\n",
    "        print(\"2. Split datasets: ...\", end=\"\")\n",
    "        train_validation_splits = self.dataset['train'].train_test_split(test_size=0.2)\n",
    "        print(\"\\r2. Preprocess datasets: done ✔️\")\n",
    "\n",
    "        print(\"3. Split datasets: ...\", end=\"\")\n",
    "        self.train_data = PromptDataset(train_validation_splits['train'], self.device)\n",
    "        self.val_data = PromptDataset(train_validation_splits['test'], self.device)\n",
    "        print(\"\\r3. Split datasets: done ✔️\")\n",
    "\n",
    "        self.dataloader_train = DataLoader(self.train_data, batch_size=batch_size, shuffle=True)\n",
    "        self.dataloader_val = DataLoader(self.val_data, batch_size=batch_size, shuffle=True)\n",
    "    \n",
    "    \n",
    "    def __len__(self) -> int :\n",
    "        print(\"\\033[95m\\033[1m\\033[4mNumber of data by datasets splits\\033[0m\")\n",
    "        print(f\"Train\\t\\t: {len(self.train_data)}\\t-> {len(self.train_data)/self.batch_size}\")\n",
    "        print(f\"Validation\\t: {len(self.val_data)}\\t\\t-> {len(self.val_data)/self.batch_size}\")\n",
    "        total = len(self.train_data) + len(self.val_data)\n",
    "        print(f\"Total\\t\\t: {total}\")\n",
    "        return total\n",
    "\n",
    "    def get_batch(self, split):\n",
    "        # choose the correct dataloader\n",
    "        if split == 'train':\n",
    "            dataloader = self.dataloader_train\n",
    "        else:\n",
    "            dataloader = self.dataloader_val\n",
    "\n",
    "        for batch in dataloader:\n",
    "            # Move tensors to device\n",
    "            batch_on_device = {k: v for k, v in batch.items()}\n",
    "            yield batch_on_device"
   ]
  },
  {
   "cell_type": "markdown",
   "id": "d18f4fc8-1830-4fab-ae74-d12fb945f374",
   "metadata": {},
   "source": [
    "### Load the dataset"
   ]
  },
  {
   "cell_type": "code",
   "execution_count": 6,
   "id": "f67182de-ccb8-4f77-87e0-5c88be245435",
   "metadata": {},
   "outputs": [
    {
     "name": "stdout",
     "output_type": "stream",
     "text": [
      "1. Loading dataset: done ✔️\n",
      "2. Preprocess datasets: done ✔️\n",
      "3. Split datasets: done ✔️\n",
      "\u001b[95m\u001b[1m\u001b[4mNumber of data by datasets splits\u001b[0m\n",
      "Train\t\t: 5732\t-> 477.6666666666667\n",
      "Validation\t: 1433\t\t-> 119.41666666666667\n",
      "Total\t\t: 7165\n"
     ]
    },
    {
     "data": {
      "text/plain": [
       "7165"
      ]
     },
     "execution_count": 6,
     "metadata": {},
     "output_type": "execute_result"
    }
   ],
   "source": [
    "dataset = DataLoaderFactory(device=device)\n",
    "len(dataset)"
   ]
  },
  {
   "cell_type": "markdown",
   "id": "1c5e512f-1fad-4c54-80c5-c0500a25f086",
   "metadata": {},
   "source": [
    "### Testing the dataset"
   ]
  },
  {
   "cell_type": "code",
   "execution_count": 7,
   "id": "fded6cee-24b5-4d28-a3df-a857fd1336c7",
   "metadata": {},
   "outputs": [],
   "source": [
    "batch = dataset.get_batch('train')\n",
    "nb = next(batch)"
   ]
  },
  {
   "cell_type": "code",
   "execution_count": 8,
   "id": "1ae8f919-4ba2-46be-be03-d47b248ddd70",
   "metadata": {},
   "outputs": [
    {
     "name": "stdout",
     "output_type": "stream",
     "text": [
      "student_id:              12\n",
      "prompt_id:               12\n",
      "prompt_question:         torch.Size([12, 768])\n",
      "prompt_text:             torch.Size([12, 768])\n",
      "text:                    torch.Size([12, 768])\n",
      "content:                 torch.Size([12])\n",
      "wording:                 torch.Size([12])\n",
      "normalized_content:      torch.Size([12])\n",
      "normalized_wording:      torch.Size([12])\n"
     ]
    }
   ],
   "source": [
    "print(f\"{'student_id:':<25}{len(nb['student_id'])}\")\n",
    "print(f\"{'prompt_id:':<25}{len(nb['prompt_id'])}\")\n",
    "print(f\"{'prompt_question:':<25}{nb['prompt_question'].shape}\")\n",
    "print(f\"{'prompt_text:':<25}{nb['prompt_text'].shape}\")\n",
    "print(f\"{'text:':<25}{nb['text'].shape}\")\n",
    "print(f\"{'content:':<25}{nb['content'].shape}\")\n",
    "print(f\"{'wording:':<25}{nb['wording'].shape}\")\n",
    "print(f\"{'normalized_content:':<25}{nb['normalized_content'].shape}\")\n",
    "print(f\"{'normalized_wording:':<25}{nb['normalized_wording'].shape}\")"
   ]
  },
  {
   "cell_type": "markdown",
   "id": "420d85e7-b1e4-4d22-b043-ee9374286d04",
   "metadata": {},
   "source": [
    "## Training model"
   ]
  },
  {
   "cell_type": "markdown",
   "id": "c0c70332-9c16-499c-9fc3-734f72e2ecf4",
   "metadata": {},
   "source": [
    "1. **Input Layer:** Accept the embeddings of the question, text, and answer. This would result in three separate input layers, each of dimension `[batch_size, embedding_size]`.\n",
    "2. **Concatenate Layer:** Concatenate the embeddings along the feature axis. This results in `[batch_size, 3 * embedding_size]` dimensions.\n",
    "3. **Dense Layers:** Add a couple of Dense layers with suitable dropout layers in between for regularization. For instance:\n",
    "    - Dense layer with `1024` units, `ReLU` activation.\n",
    "    - Dropout layer with rate `0.5`.\n",
    "    - Dense layer with `512` units, ReLU activation.\n",
    "    - Another Dropout layer with rate `0.5`.\n",
    "4. **Output Layer:** Single Dense layer with `2` units (since you want two values between -1 and 1) and a `tanh` activation function.\n",
    "5. **Loss Function:** If the output of your model is a vector with two values between -1 and 1, then you're essentially dealing with multi-output regression. You can use `Mean Squared Error` or `Mean Absolute Error`, but it'll be applied to each output.\n",
    "6. **Optimizer:** Remains the same; options include `Adam`, `RMSprop`, and `SGD`."
   ]
  },
  {
   "cell_type": "code",
   "execution_count": null,
   "id": "4e9b869b-eefb-4b68-b2c7-d6a000b60d25",
   "metadata": {},
   "outputs": [],
   "source": []
  },
  {
   "cell_type": "markdown",
   "id": "e151c3c0-9d49-423a-9347-e7ed526bdf18",
   "metadata": {},
   "source": [
    "### Define the Model"
   ]
  },
  {
   "cell_type": "code",
   "execution_count": 9,
   "id": "2c51e654-671e-496f-aa2d-c6668fdd8caf",
   "metadata": {},
   "outputs": [],
   "source": [
    "# Define the Model\n",
    "class QA_Score_Model(nn.Module):\n",
    "    def __init__(self, input_dim=2304, dropout_rate=0.5):\n",
    "        super(QA_Score_Model, self).__init__()\n",
    "\n",
    "        # Dense Layers\n",
    "        self.fc1 = nn.Linear(input_dim, 1024)\n",
    "        self.fc2 = nn.Linear(1024, 512)\n",
    "        self.fc3 = nn.Linear(512, 2)  # Output 2 values for each instance\n",
    "\n",
    "        # Dropout\n",
    "        self.dropout = nn.Dropout(dropout_rate)\n",
    "\n",
    "    def forward(self, x):\n",
    "        x = F.relu(self.fc1(x))\n",
    "        if self.training:\n",
    "            x = self.dropout(x)\n",
    "        x = F.relu(self.fc2(x))\n",
    "        if self.training:\n",
    "            x = self.dropout(x)\n",
    "        x = torch.tanh(self.fc3(x))  # tanh to get outputs in range [-1, 1]\n",
    "        return x"
   ]
  },
  {
   "cell_type": "markdown",
   "id": "c5e1345e-a55c-4636-b5ee-1078da5d812d",
   "metadata": {},
   "source": [
    "### Hyperparameters"
   ]
  },
  {
   "cell_type": "code",
   "execution_count": 10,
   "id": "05b6a852-9309-4923-848c-1eda295814ed",
   "metadata": {},
   "outputs": [],
   "source": [
    "# Hyperparameters\n",
    "LEARNING_RATE = 0.001\n",
    "BATCH_SIZE = 12\n",
    "EPOCHS = 10"
   ]
  },
  {
   "cell_type": "markdown",
   "id": "357d2d50-f523-4794-b993-49bf5497a153",
   "metadata": {},
   "source": [
    "### Create an instance of the model, loss function and the optimizer"
   ]
  },
  {
   "cell_type": "code",
   "execution_count": 11,
   "id": "11708a30-f4f4-41bc-b759-918d56b374a3",
   "metadata": {},
   "outputs": [],
   "source": [
    "# Create an instance of the model, loss function and the optimizer\n",
    "model = QA_Score_Model()\n",
    "model = model.to(device)\n",
    "criterion = nn.MSELoss()  # Mean Squared Error Loss\n",
    "optimizer = optim.Adam(model.parameters(), lr=LEARNING_RATE)"
   ]
  },
  {
   "cell_type": "markdown",
   "id": "aa399d64-ba3a-41b4-ae4d-d699d3a6be37",
   "metadata": {},
   "source": [
    "### MCRMSE loss"
   ]
  },
  {
   "cell_type": "code",
   "execution_count": 12,
   "id": "70e23974-ac03-4d23-a34a-251cf416c730",
   "metadata": {},
   "outputs": [],
   "source": [
    "def MCRMSE(targets, predictions):\n",
    "    \"\"\"\n",
    "    Compute the Mean Columnwise Root Mean Squared Error.\n",
    "    \n",
    "    Parameters:\n",
    "    - targets: Actual target values\n",
    "    - predictions: Model's predictions\n",
    "    \n",
    "    Returns:\n",
    "    - Mean Columnwise RMSE\n",
    "    \"\"\"\n",
    "    # Compute squared error\n",
    "    mse = torch.mean((targets - predictions) ** 2, dim=0)\n",
    "    \n",
    "    # Take square root of each column's MSE\n",
    "    rmse = torch.sqrt(mse)\n",
    "    \n",
    "    # Compute mean of RMSE across all columns\n",
    "    mcrmse = torch.mean(rmse)\n",
    "    \n",
    "    return mcrmse"
   ]
  },
  {
   "cell_type": "markdown",
   "id": "76493c03-5a20-4658-80c6-31a1bcb5c41f",
   "metadata": {},
   "source": [
    "### Training loop"
   ]
  },
  {
   "cell_type": "code",
   "execution_count": 13,
   "id": "51c3c6ec-b433-4efa-a5a5-8e8324d87836",
   "metadata": {},
   "outputs": [],
   "source": [
    "def training_loop(model, dataset, epoch):\n",
    "    model = model.train()\n",
    "    \n",
    "    total_train_loss = 0.0\n",
    "    total_train_mcrmse = 0.0\n",
    "    \n",
    "    batchs = dataset.get_batch('train')\n",
    "    \n",
    "    num_train_batches = len(dataset.train_data) // BATCH_SIZE\n",
    "    for i, batch in enumerate(batchs):\n",
    "        # Get the batch data\n",
    "        student_id = batch['student_id']\n",
    "        prompt_id = batch['prompt_id']\n",
    "        prompt_question = batch['prompt_question']\n",
    "        prompt_text = batch['prompt_text']\n",
    "        text = batch['text']\n",
    "        content = batch['content']\n",
    "        wording = batch['wording']\n",
    "        normalized_content = batch['normalized_content']\n",
    "        normalized_wording = batch['normalized_wording']\n",
    "\n",
    "        # create input targets\n",
    "        input_data = torch.cat((nb['prompt_question'], nb['prompt_text'], nb['text']), dim=1).to(device)\n",
    "        targets = torch.stack((nb['normalized_content'], nb['normalized_wording']), dim=1).to(device)\n",
    "        \n",
    "        # Zero the gradients\n",
    "        optimizer.zero_grad()\n",
    "\n",
    "        # Forward pass\n",
    "        outputs = model(input_data)\n",
    "\n",
    "        # Loss\n",
    "        loss = criterion(outputs, targets)\n",
    "        eval_metric = MCRMSE(targets, outputs)\n",
    "\n",
    "        # Backward pass and optimization\n",
    "        loss.backward()\n",
    "        optimizer.step()\n",
    "\n",
    "        # Print loss (you might want to print every N batches, not every batch)\n",
    "        print(f\"\\rEpoch [{epoch + 1}/{EPOCHS}], Batch [{i}/{num_train_batches}], Loss: {loss.item()}, MCRMSE: {eval_metric.item()}\", end=\"\")\n",
    "        \n",
    "\n",
    "        total_train_loss += loss.item()\n",
    "        total_train_mcrmse += eval_metric.item()\n",
    "\n",
    "    avg_train_loss = total_train_loss / num_train_batches\n",
    "    avg_train_mcrmse = total_train_mcrmse / num_train_batches\n",
    "\n",
    "    return model, avg_train_loss, avg_train_mcrmse"
   ]
  },
  {
   "cell_type": "markdown",
   "id": "3938650b-cf46-4e24-88ea-1d46cc827f3f",
   "metadata": {},
   "source": [
    "### Validation loop"
   ]
  },
  {
   "cell_type": "code",
   "execution_count": 14,
   "id": "50b820d0-8dd1-4292-9806-4d20186bb524",
   "metadata": {},
   "outputs": [],
   "source": [
    "def validation_loop(model, dataset, epoch):\n",
    "    print(f\"\\nValidating...\", end=\"\")\n",
    "    # Validation Evaluation\n",
    "    model = model.eval()  # Set the model to evaluation mode\n",
    "    \n",
    "    total_val_loss = 0.0\n",
    "    total_val_mcrmse = 0.0\n",
    "    \n",
    "    val_batches = dataset.get_batch('val')\n",
    "    \n",
    "    num_val_batches = len(dataset.val_data) // BATCH_SIZE\n",
    "    with torch.no_grad():  # Disable gradient computations\n",
    "        for i, val_batch in enumerate(val_batches):\n",
    "            student_id = val_batch['student_id']\n",
    "            prompt_id = val_batch['prompt_id']\n",
    "            prompt_question = val_batch['prompt_question']\n",
    "            prompt_text = val_batch['prompt_text']\n",
    "            text = val_batch['text']\n",
    "            content = val_batch['content']\n",
    "            wording = val_batch['wording']\n",
    "            normalized_content = val_batch['normalized_content']\n",
    "            normalized_wording = val_batch['normalized_wording']\n",
    "\n",
    "            # Create input and targets\n",
    "            val_input_data = torch.cat((val_batch['prompt_question'], val_batch['prompt_text'], val_batch['text']), dim=1).to(device)\n",
    "            val_targets = torch.stack((val_batch['normalized_content'], val_batch['normalized_wording']), dim=1).to(device)\n",
    "            \n",
    "            # Forward pass\n",
    "            val_outputs = model(val_input_data)\n",
    "\n",
    "            # Compute loss and MCRMSE\n",
    "            val_loss = criterion(val_outputs, val_targets)\n",
    "            val_mcrmse = MCRMSE(val_targets, val_outputs)\n",
    "\n",
    "            total_val_loss += val_loss.item()\n",
    "            total_val_mcrmse += val_mcrmse.item()\n",
    "\n",
    "    avg_val_loss = total_val_loss / num_val_batches\n",
    "    avg_val_mcrmse = total_val_mcrmse / num_val_batches\n",
    "\n",
    "    print(f\"\\rValidation Loss after Epoch {epoch + 1}: {avg_val_loss}, Avg MCRMSE: {avg_val_mcrmse}\\n\")\n",
    "    \n",
    "    return avg_val_loss, avg_val_mcrmse"
   ]
  },
  {
   "cell_type": "code",
   "execution_count": 15,
   "id": "892f78e8-72a3-48ab-8deb-d3443311b6e2",
   "metadata": {},
   "outputs": [
    {
     "name": "stdout",
     "output_type": "stream",
     "text": [
      "Epoch [1/10], Batch [477/477], Loss: 0.006040909793227911, MCRMSE: 0.0775237232446670506\n",
      "Validation Loss after Epoch 1: 0.1541466398336807, Avg MCRMSE: 0.3856927093838443\n",
      "\n",
      "Epoch [2/10], Batch [477/477], Loss: 0.005373592954128981, MCRMSE: 0.0726540684700012234\n",
      "Validation Loss after Epoch 2: 0.14620079137697942, Avg MCRMSE: 0.3768302362506129\n",
      "\n",
      "Epoch [3/10], Batch [477/477], Loss: 0.0016688331961631775, MCRMSE: 0.040672469884157186\n",
      "Validation Loss after Epoch 3: 0.1473747462409885, Avg MCRMSE: 0.3771490028926304\n",
      "\n",
      "Epoch [4/10], Batch [477/477], Loss: 0.0009036263218149543, MCRMSE: 0.029730098322033882\n",
      "Validation Loss after Epoch 4: 0.15136077085963817, Avg MCRMSE: 0.38196268640145536\n",
      "\n",
      "Epoch [5/10], Batch [477/477], Loss: 0.0014070247998461127, MCRMSE: 0.037411719560623175\n",
      "Validation Loss after Epoch 5: 0.1635958672571583, Avg MCRMSE: 0.3964530426163633\n",
      "\n",
      "Epoch [6/10], Batch [477/477], Loss: 0.0010586132993921638, MCRMSE: 0.032483451068401346\n",
      "Validation Loss after Epoch 6: 0.15004180684810928, Avg MCRMSE: 0.3808445886654012\n",
      "\n",
      "Epoch [7/10], Batch [477/477], Loss: 0.0033724643290042877, MCRMSE: 0.0567324459552764925\n",
      "Validation Loss after Epoch 7: 0.1493790449590242, Avg MCRMSE: 0.3796032192576833\n",
      "\n",
      "Early stopping on epoch 6. Best epoch was 1 with val loss: 0.1462.\n"
     ]
    }
   ],
   "source": [
    "# Early stopping parameters\n",
    "patience = 5  # Number of epochs with no improvement after which training will be stopped\n",
    "counter = 0  # To count number of epochs with no improvement\n",
    "best_val_loss = None  # To keep track of best validation loss\n",
    "best_model_state = None  # To store best model's state\n",
    "\n",
    "train_losses = []\n",
    "train_mcrmse = []\n",
    "val_losses = []\n",
    "val_mcrmse = []\n",
    "\n",
    "for epoch in range(EPOCHS):\n",
    "    # training loop\n",
    "    model, epoch_train_loss, epoch_train_mcrmse = training_loop(model, dataset, epoch)\n",
    "    train_losses.append(epoch_train_loss)\n",
    "    train_mcrmse.append(epoch_train_mcrmse)\n",
    "    \n",
    "    # validation loop\n",
    "    epoch_val_loss, epoch_val_mcrmse = validation_loop(model, dataset, epoch)\n",
    "    val_losses.append(epoch_val_loss)\n",
    "    val_mcrmse.append(epoch_val_mcrmse)\n",
    "\n",
    "    # Check if this epoch's validation loss is the best we've seen so far.\n",
    "    if best_val_loss is None or epoch_val_loss < best_val_loss:\n",
    "        best_val_loss = epoch_val_loss\n",
    "        best_model_state = copy.deepcopy(model.state_dict())  # Save best model\n",
    "        counter = 0  # Reset counter\n",
    "    else:\n",
    "        counter += 1  # Increment counter as no improvement in validation loss\n",
    "\n",
    "    # If we've had patience number of epochs without improvement, stop training\n",
    "    if counter >= patience:\n",
    "        print(f\"Early stopping on epoch {epoch}. Best epoch was {epoch - counter} with val loss: {best_val_loss:.4f}.\")\n",
    "        break\n",
    "\n",
    "# Load best model weights\n",
    "model.load_state_dict(best_model_state)\n",
    "torch.save(model.state_dict(), './out/best_model.pt')  # Save the best model to disk"
   ]
  },
  {
   "cell_type": "markdown",
   "id": "62f186fe-aa77-4f32-9332-b46a53d6407b",
   "metadata": {},
   "source": [
    "### Loss visualization"
   ]
  },
  {
   "cell_type": "code",
   "execution_count": 16,
   "id": "5ab4c6a2-d3e5-474d-9a69-b60e59513a6d",
   "metadata": {},
   "outputs": [],
   "source": [
    "def plot_graphs(train_losses, val_losses, train_mcrmse, val_mcrmse):\n",
    "    # Monokai color palette\n",
    "    colors = ['#F92672', '#A6E22E', '#66D9EF', '#FD971F']\n",
    "    \n",
    "    # Set the background color and grid color\n",
    "    sns.set_style(\"darkgrid\", {\n",
    "        \"axes.facecolor\": \".1\",  # Dark background\n",
    "        \"grid.color\": \".15\",  # Slightly grayish grid lines\n",
    "        \"axes.labelcolor\": \"white\",\n",
    "        \"xtick.color\": \"white\",\n",
    "        \"ytick.color\": \"white\"\n",
    "    })\n",
    "\n",
    "    epochs = range(1, len(train_losses) + 1)\n",
    "\n",
    "    # Plotting the losses\n",
    "    plt.figure(figsize=(12, 6))\n",
    "\n",
    "    # Set entire background color\n",
    "    fig = plt.gcf()\n",
    "    fig.patch.set_facecolor('.1')  # Color for the whole backgroun\n",
    "\n",
    "    plt.subplot(1, 2, 1)\n",
    "    sns.lineplot(x=epochs, y=train_losses, label='Train Loss', marker='o', color=colors[0])\n",
    "    sns.lineplot(x=epochs, y=val_losses, label='Validation Loss', marker='o', color=colors[1])\n",
    "    plt.title('Training and Validation Loss', color='white')\n",
    "    plt.xlabel('Epochs')\n",
    "    plt.ylabel('Loss')\n",
    "    legend = plt.legend()\n",
    "    for text in legend.get_texts():\n",
    "        text.set_color(\"white\")  # Set the legend text color to white\n",
    "\n",
    "    # Plotting the MCRMSE\n",
    "    plt.subplot(1, 2, 2)\n",
    "    sns.lineplot(x=epochs, y=train_mcrmse, label='Train MCRMSE', marker='o', color=colors[2])\n",
    "    sns.lineplot(x=epochs, y=val_mcrmse, label='Validation MCRMSE', marker='o', color=colors[3])\n",
    "    plt.title('Training and Validation MCRMSE', color='white')\n",
    "    plt.xlabel('Epochs')\n",
    "    plt.ylabel('MCRMSE')\n",
    "    legend = plt.legend()\n",
    "    for text in legend.get_texts():\n",
    "        text.set_color(\"white\")  # Set the legend text color to white\n",
    "\n",
    "    plt.tight_layout()\n",
    "    plt.show()"
   ]
  },
  {
   "cell_type": "code",
   "execution_count": 17,
   "id": "9d2a845c-f61e-4ae4-9a69-58b0c85f6d73",
   "metadata": {},
   "outputs": [
    {
     "data": {
      "image/png": "[encoded data removed]",
      "text/plain": [
       "<Figure size 1200x600 with 2 Axes>"
      ]
     },
     "metadata": {},
     "output_type": "display_data"
    }
   ],
   "source": [
    "# After training, call the function to plot\n",
    "plot_graphs(train_losses, val_losses, train_mcrmse, val_mcrmse)"
   ]
  },
  {
   "cell_type": "markdown",
   "id": "b28171c7-d418-404a-a7e7-cfb3567c7c12",
   "metadata": {},
   "source": [
    "## Saving torch script"
   ]
  },
  {
   "cell_type": "code",
   "execution_count": 18,
   "id": "6a58131d-0d65-4e15-bd16-c67008f19d80",
   "metadata": {},
   "outputs": [
    {
     "data": {
      "text/plain": [
       "<All keys matched successfully>"
      ]
     },
     "execution_count": 18,
     "metadata": {},
     "output_type": "execute_result"
    }
   ],
   "source": [
    "model.load_state_dict(torch.load('./out/best_model.pt'))"
   ]
  },
  {
   "cell_type": "code",
   "execution_count": 19,
   "id": "2a21393b-2e29-436e-bc9e-bc93f32469cc",
   "metadata": {},
   "outputs": [],
   "source": [
    "exemple_batches = dataset.get_batch('train')\n",
    "ex_batch = next(exemple_batches)\n",
    "prompt_question = ex_batch['prompt_question']\n",
    "prompt_text = ex_batch['prompt_text']\n",
    "text = ex_batch['text']\n",
    "example_input_tensor = torch.cat((prompt_question, prompt_text, text), dim=1)"
   ]
  },
  {
   "cell_type": "code",
   "execution_count": 20,
   "id": "72f85c4d-47fb-42d5-8b08-e90af1199874",
   "metadata": {},
   "outputs": [],
   "source": [
    "# Trace the model\n",
    "traced_model = torch.jit.trace(model.to('cpu'), example_input_tensor.to('cpu'))\n",
    "# Save the traced model\n",
    "traced_model.save(\"./out/best_model_script.pt\")"
   ]
  },
  {
   "cell_type": "markdown",
   "id": "f58a7665-b682-436b-a62e-a0365521f75a",
   "metadata": {},
   "source": [
    "## Load the Traced Model"
   ]
  },
  {
   "cell_type": "code",
   "execution_count": 21,
   "id": "113464e4-6ea3-4ce7-9fd0-2b4074602278",
   "metadata": {},
   "outputs": [],
   "source": [
    "loaded_model = torch.jit.load(\"./out/best_model_script.pt\").to(device)"
   ]
  },
  {
   "cell_type": "code",
   "execution_count": 22,
   "id": "c66825f1-b925-463f-bec3-f5a3b20646b9",
   "metadata": {},
   "outputs": [
    {
     "data": {
      "text/plain": [
       "tensor([[-0.2974, -0.3928],\n",
       "        [-0.2182, -0.1461],\n",
       "        [-0.3617, -0.5341],\n",
       "        [-0.0850, -0.3860],\n",
       "        [-0.1660, -0.2751],\n",
       "        [-0.2886, -0.3470],\n",
       "        [-0.3674, -0.3947],\n",
       "        [-0.0973, -0.2352],\n",
       "        [-0.0388, -0.1762],\n",
       "        [-0.2521, -0.0943],\n",
       "        [-0.0879, -0.2638],\n",
       "        [-0.0586, -0.2261]], device='cuda:0', grad_fn=<TanhBackward0>)"
      ]
     },
     "execution_count": 22,
     "metadata": {},
     "output_type": "execute_result"
    }
   ],
   "source": [
    "loaded_model(example_input_tensor.to(device))"
   ]
  },
  {
   "cell_type": "code",
   "execution_count": null,
   "id": "a221be5a-52b0-4665-af62-191aaf8822ad",
   "metadata": {},
   "outputs": [],
   "source": []
  }
 ],
 "metadata": {
  "kernelspec": {
   "display_name": "Python 3 (ipykernel)",
   "language": "python",
   "name": "python3"
  },
  "language_info": {
   "codemirror_mode": {
    "name": "ipython",
    "version": 3
   },
   "file_extension": ".py",
   "mimetype": "text/x-python",
   "name": "python",
   "nbconvert_exporter": "python",
   "pygments_lexer": "ipython3",
   "version": "3.11.2"
  }
 },
 "nbformat": 4,
 "nbformat_minor": 5
}
