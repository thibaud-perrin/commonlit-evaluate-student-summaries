{
 "cells": [
  {
   "cell_type": "markdown",
   "id": "0a14353b-46a1-4c60-9ee7-080174af9aa7",
   "metadata": {},
   "source": [
    "# Sentence Transformer"
   ]
  },
  {
   "cell_type": "code",
   "execution_count": 1,
   "id": "9c8f10e2-148a-44e1-8cf6-748a75601885",
   "metadata": {},
   "outputs": [],
   "source": [
    "import copy\n",
    "import numpy as np\n",
    "import pandas as pd\n",
    "\n",
    "import torch\n",
    "import torch.nn as nn\n",
    "import torch.nn.functional as F\n",
    "import torch.optim as optim\n",
    "from torch.utils.data import Dataset, DataLoader\n",
    "from datasets import load_from_disk\n",
    "from transformers import DebertaV2Tokenizer, DebertaV2Model\n",
    "\n",
    "import matplotlib.pyplot as plt \n",
    "import seaborn as sns\n",
    "%matplotlib inline"
   ]
  },
  {
   "cell_type": "markdown",
   "id": "e214c448-b292-4cd7-92e6-740be40bc11d",
   "metadata": {},
   "source": [
    "## GPU"
   ]
  },
  {
   "cell_type": "code",
   "execution_count": 2,
   "id": "959cac82-9842-4968-9597-4c8324936e66",
   "metadata": {},
   "outputs": [
    {
     "name": "stdout",
     "output_type": "stream",
     "text": [
      "Sun Oct  1 13:41:42 2023       \n",
      "+---------------------------------------------------------------------------------------+\n",
      "| NVIDIA-SMI 536.99                 Driver Version: 536.99       CUDA Version: 12.2     |\n",
      "|-----------------------------------------+----------------------+----------------------+\n",
      "| GPU  Name                     TCC/WDDM  | Bus-Id        Disp.A | Volatile Uncorr. ECC |\n",
      "| Fan  Temp   Perf          Pwr:Usage/Cap |         Memory-Usage | GPU-Util  Compute M. |\n",
      "|                                         |                      |               MIG M. |\n",
      "|=========================================+======================+======================|\n",
      "|   0  NVIDIA GeForce GTX 1070      WDDM  | 00000000:01:00.0  On |                  N/A |\n",
      "| 27%   40C    P8              11W / 151W |   1282MiB /  8192MiB |      2%      Default |\n",
      "|                                         |                      |                  N/A |\n",
      "+-----------------------------------------+----------------------+----------------------+\n",
      "                                                                                         \n",
      "+---------------------------------------------------------------------------------------+\n",
      "| Processes:                                                                            |\n",
      "|  GPU   GI   CI        PID   Type   Process name                            GPU Memory |\n",
      "|        ID   ID                                                             Usage      |\n",
      "|=======================================================================================|\n",
      "|    0   N/A  N/A      2720    C+G   ...Data\\Local\\Programs\\Blitz\\Blitz.exe    N/A      |\n",
      "|    0   N/A  N/A      3380      C   ...rograms\\Python\\Python311\\python.exe    N/A      |\n",
      "|    0   N/A  N/A     12856    C+G   C:\\Windows\\explorer.exe                   N/A      |\n",
      "|    0   N/A  N/A     13724    C+G   ...5n1h2txyewy\\ShellExperienceHost.exe    N/A      |\n",
      "|    0   N/A  N/A     16048    C+G   ....Search_cw5n1h2txyewy\\SearchApp.exe    N/A      |\n",
      "|    0   N/A  N/A     18744    C+G   ...crosoft\\Edge\\Application\\msedge.exe    N/A      |\n",
      "|    0   N/A  N/A     21740    C+G   ...GeForce Experience\\NVIDIA Share.exe    N/A      |\n",
      "|    0   N/A  N/A     22368    C+G   ...aam7r\\AcrobatNotificationClient.exe    N/A      |\n",
      "|    0   N/A  N/A     23384    C+G   ...siveControlPanel\\SystemSettings.exe    N/A      |\n",
      "|    0   N/A  N/A     24280    C+G   ...ejd91yc\\AdobeNotificationClient.exe    N/A      |\n",
      "|    0   N/A  N/A     25144    C+G   ...CBS_cw5n1h2txyewy\\TextInputHost.exe    N/A      |\n",
      "|    0   N/A  N/A     26628    C+G   ....0_x64__8wekyb3d8bbwe\\HxOutlook.exe    N/A      |\n",
      "|    0   N/A  N/A     27644    C+G   ...Brave-Browser\\Application\\brave.exe    N/A      |\n",
      "|    0   N/A  N/A     28944    C+G   ...7.0_x64__cv1g1gvanyjgm\\WhatsApp.exe    N/A      |\n",
      "|    0   N/A  N/A     29716    C+G   ...t.LockApp_cw5n1h2txyewy\\LockApp.exe    N/A      |\n",
      "|    0   N/A  N/A     31436    C+G   ...Programs\\Microsoft VS Code\\Code.exe    N/A      |\n",
      "+---------------------------------------------------------------------------------------+\n"
     ]
    }
   ],
   "source": [
    "!nvidia-smi"
   ]
  },
  {
   "cell_type": "code",
   "execution_count": 3,
   "id": "eceddb8b-556e-4e20-8137-a4e77efa0490",
   "metadata": {},
   "outputs": [
    {
     "data": {
      "text/plain": [
       "device(type='cuda')"
      ]
     },
     "execution_count": 3,
     "metadata": {},
     "output_type": "execute_result"
    }
   ],
   "source": [
    "# Check if CUDA is available, else use CPU\n",
    "device = torch.device('cuda' if torch.cuda.is_available() else 'cpu')\n",
    "device"
   ]
  },
  {
   "cell_type": "markdown",
   "id": "c5e1345e-a55c-4636-b5ee-1078da5d812d",
   "metadata": {},
   "source": [
    "### Hyperparameters"
   ]
  },
  {
   "cell_type": "code",
   "execution_count": 4,
   "id": "05b6a852-9309-4923-848c-1eda295814ed",
   "metadata": {},
   "outputs": [],
   "source": [
    "# Hyperparameters\n",
    "LEARNING_RATE = 0.000005\n",
    "BATCH_SIZE = 24\n",
    "EPOCHS = 200"
   ]
  },
  {
   "cell_type": "markdown",
   "id": "a2aa67ca-52c8-409e-8862-dac0997bafe0",
   "metadata": {},
   "source": [
    "## Path"
   ]
  },
  {
   "cell_type": "markdown",
   "id": "a1fd958f-82f1-4f6b-9a00-97c41e225c30",
   "metadata": {},
   "source": [
    "## Generate dataset and batch"
   ]
  },
  {
   "cell_type": "code",
   "execution_count": 5,
   "id": "fd6d7c30-5744-4c0d-824d-dcc667e50a9f",
   "metadata": {},
   "outputs": [],
   "source": [
    "class PromptDataset(Dataset):\n",
    "\n",
    "    def __init__(self, dataset, device):\n",
    "        self.dataset = dataset\n",
    "        self.device = device\n",
    "\n",
    "    def deserialize_array(self, binary_string, dtype, shape):\n",
    "        return np.frombuffer(binary_string, dtype=dtype).reshape(shape)\n",
    "\n",
    "    def __getitem__(self, index):\n",
    "        data = self.dataset[index]\n",
    "        # retrieve values\n",
    "        student_id = data['student_id']\n",
    "        prompt_id = data['prompt_id']\n",
    "        sentence = data['sentence']\n",
    "        t_q_a_embeddings = torch.tensor(self.deserialize_array(data['t_q_a_embeddings'], np.float32, (768,))).to(self.device)\n",
    "        embeddings_text = torch.tensor(self.deserialize_array(data['embeddings_text'], np.float32, (768,))).to(self.device)\n",
    "        content = torch.tensor(data['content']).to(self.device)\n",
    "        wording = torch.tensor(data['wording']).to(self.device)\n",
    "        normalized_lexical_density = torch.tensor(data['normalized_lexical_density']).unsqueeze(0).to(self.device)\n",
    "        normalized_spell_checker = torch.tensor(data['normalized_spell_checker']).unsqueeze(0).to(self.device)\n",
    "        normalized_tf_idf_question_score = torch.tensor(data['normalized_tf_idf_question_score']).unsqueeze(0).to(self.device)\n",
    "        normalized_avg_word_length = torch.tensor(data['normalized_avg_word_length']).unsqueeze(0).to(self.device)\n",
    "        normalized_smog_index = torch.tensor(data['normalized_smog_index']).unsqueeze(0).to(self.device)\n",
    "        normalized_coleman_liau_index = torch.tensor(data['normalized_coleman_liau_index']).unsqueeze(0).to(self.device)\n",
    "        normalized_flesch_reading_ease = torch.tensor(data['normalized_flesch_reading_ease']).unsqueeze(0).to(self.device)\n",
    "        \n",
    "        return {\n",
    "            'student_id': student_id,\n",
    "            'prompt_id': prompt_id,\n",
    "            'sentence': sentence,\n",
    "            't_q_a_embeddings': t_q_a_embeddings,\n",
    "            'embeddings_text': embeddings_text,\n",
    "            'content': content,\n",
    "            'wording': wording,\n",
    "            'normalized_lexical_density': normalized_lexical_density,\n",
    "            'normalized_spell_checker': normalized_spell_checker,\n",
    "            'normalized_tf_idf_question_score': normalized_tf_idf_question_score,\n",
    "            'normalized_avg_word_length': normalized_avg_word_length,\n",
    "            'normalized_smog_index': normalized_smog_index,\n",
    "            'normalized_coleman_liau_index': normalized_coleman_liau_index,\n",
    "            'normalized_flesch_reading_ease': normalized_flesch_reading_ease,\n",
    "        }\n",
    "\n",
    "    def __len__(self) -> int :\n",
    "        return self.dataset.num_rows"
   ]
  },
  {
   "cell_type": "code",
   "execution_count": 6,
   "id": "843e316c-df6c-485f-8561-6f890c556f87",
   "metadata": {},
   "outputs": [],
   "source": [
    "class DataLoaderFactory():\n",
    "\n",
    "    def __init__(self, path:str = './data/hugging_face', batch_size = 12, device = 'cpu'):\n",
    "        self.batch_size = batch_size\n",
    "        self.dataset = load_from_disk(path, keep_in_memory=True)\n",
    "        self.device = device\n",
    "\n",
    "        print(\"1. Loading dataset: ...\", end=\"\")\n",
    "        dataset = load_from_disk(path, keep_in_memory=True)\n",
    "        print(\"\\r1. Loading dataset: done ✔️\")\n",
    "\n",
    "        print(\"2. Split datasets: ...\", end=\"\")\n",
    "        train_validation_splits = self.dataset['train'].train_test_split(test_size=0.3)\n",
    "        validation_test_splits = train_validation_splits['test'].train_test_split(test_size=0.4)\n",
    "        print(\"\\r2. Preprocess datasets: done ✔️\")\n",
    "\n",
    "        print(\"3. Split datasets: ...\", end=\"\")\n",
    "        self.train_data = PromptDataset(train_validation_splits['train'], self.device)\n",
    "        self.val_data = PromptDataset(validation_test_splits['train'], self.device)\n",
    "        self.test_data = PromptDataset(validation_test_splits['test'], self.device)\n",
    "        print(\"\\r3. Split datasets: done ✔️\")\n",
    "\n",
    "        self.dataloader_train = DataLoader(self.train_data, batch_size=batch_size, shuffle=True)\n",
    "        self.dataloader_val = DataLoader(self.val_data, batch_size=batch_size, shuffle=True)\n",
    "        self.dataloader_test = DataLoader(self.test_data, batch_size=batch_size, shuffle=True)\n",
    "    \n",
    "    \n",
    "    def __len__(self) -> int :\n",
    "        print(\"\\033[95m\\033[1m\\033[4mNumber of data by datasets splits\\033[0m\")\n",
    "        print(f\"Train\\t\\t: {len(self.train_data)}\\t-> {len(self.train_data)/self.batch_size}\")\n",
    "        print(f\"Validation\\t: {len(self.val_data)}\\t\\t-> {len(self.val_data)/self.batch_size}\")\n",
    "        print(f\"Test\\t\\t: {len(self.test_data)}\\t\\t-> {len(self.test_data)/self.batch_size}\")\n",
    "        total = len(self.train_data) + len(self.val_data)\n",
    "        print(f\"Total\\t\\t: {total}\")\n",
    "        return total\n",
    "\n",
    "    def get_batch(self, split):\n",
    "        # choose the correct dataloader\n",
    "        if split == 'train':\n",
    "            dataloader = self.dataloader_train\n",
    "        elif split == 'val':\n",
    "            dataloader = self.dataloader_val\n",
    "        else:\n",
    "            dataloader = self.dataloader_test\n",
    "\n",
    "        for batch in dataloader:\n",
    "            # Move tensors to device\n",
    "            batch_on_device = {k: v for k, v in batch.items()}\n",
    "            yield batch_on_device"
   ]
  },
  {
   "cell_type": "markdown",
   "id": "d18f4fc8-1830-4fab-ae74-d12fb945f374",
   "metadata": {},
   "source": [
    "### Load the dataset"
   ]
  },
  {
   "cell_type": "code",
   "execution_count": 7,
   "id": "f67182de-ccb8-4f77-87e0-5c88be245435",
   "metadata": {},
   "outputs": [
    {
     "name": "stdout",
     "output_type": "stream",
     "text": [
      "1. Loading dataset: done ✔️\n",
      "2. Preprocess datasets: done ✔️\n",
      "3. Split datasets: done ✔️\n",
      "\u001b[95m\u001b[1m\u001b[4mNumber of data by datasets splits\u001b[0m\n",
      "Train\t\t: 5015\t-> 208.95833333333334\n",
      "Validation\t: 1290\t\t-> 53.75\n",
      "Test\t\t: 860\t\t-> 35.833333333333336\n",
      "Total\t\t: 6305\n"
     ]
    },
    {
     "data": {
      "text/plain": [
       "6305"
      ]
     },
     "execution_count": 7,
     "metadata": {},
     "output_type": "execute_result"
    }
   ],
   "source": [
    "dataset = DataLoaderFactory(device=device, batch_size=BATCH_SIZE)\n",
    "len(dataset)"
   ]
  },
  {
   "cell_type": "markdown",
   "id": "1c5e512f-1fad-4c54-80c5-c0500a25f086",
   "metadata": {},
   "source": [
    "### Testing the dataset"
   ]
  },
  {
   "cell_type": "code",
   "execution_count": 8,
   "id": "fded6cee-24b5-4d28-a3df-a857fd1336c7",
   "metadata": {},
   "outputs": [],
   "source": [
    "batch = dataset.get_batch('train')\n",
    "nb = next(batch)"
   ]
  },
  {
   "cell_type": "code",
   "execution_count": 9,
   "id": "1ae8f919-4ba2-46be-be03-d47b248ddd70",
   "metadata": {},
   "outputs": [
    {
     "name": "stdout",
     "output_type": "stream",
     "text": [
      "student_id:              24\n",
      "prompt_id:               24\n",
      "sentence:                24\n",
      "t_q_a_embeddings:        torch.Size([24, 768])\n",
      "embeddings_text:         torch.Size([24, 768])\n",
      "content:                 torch.Size([24])\n",
      "wording:                 torch.Size([24])\n",
      "normalized_lexical_density:torch.Size([24, 1])\n",
      "normalized_spell_checker:torch.Size([24, 1])\n",
      "normalized_tf_idf_question_score:torch.Size([24, 1])\n",
      "normalized_avg_word_length:torch.Size([24, 1])\n",
      "normalized_smog_index:   torch.Size([24, 1])\n",
      "normalized_coleman_liau_index:torch.Size([24, 1])\n",
      "normalized_flesch_reading_ease:torch.Size([24, 1])\n"
     ]
    }
   ],
   "source": [
    "print(f\"{'student_id:':<25}{len(nb['student_id'])}\")\n",
    "print(f\"{'prompt_id:':<25}{len(nb['prompt_id'])}\")\n",
    "print(f\"{'sentence:':<25}{len(nb['sentence'])}\")\n",
    "print(f\"{'t_q_a_embeddings:':<25}{nb['t_q_a_embeddings'].shape}\")\n",
    "print(f\"{'embeddings_text:':<25}{nb['embeddings_text'].shape}\")\n",
    "print(f\"{'content:':<25}{nb['content'].shape}\")\n",
    "print(f\"{'wording:':<25}{nb['wording'].shape}\")\n",
    "print(f\"{'normalized_lexical_density:':<25}{nb['normalized_lexical_density'].shape}\")\n",
    "print(f\"{'normalized_spell_checker:':<25}{nb['normalized_spell_checker'].shape}\")\n",
    "print(f\"{'normalized_tf_idf_question_score:':<25}{nb['normalized_tf_idf_question_score'].shape}\")\n",
    "print(f\"{'normalized_avg_word_length:':<25}{nb['normalized_avg_word_length'].shape}\")\n",
    "print(f\"{'normalized_smog_index:':<25}{nb['normalized_smog_index'].shape}\")\n",
    "print(f\"{'normalized_coleman_liau_index:':<25}{nb['normalized_coleman_liau_index'].shape}\")\n",
    "print(f\"{'normalized_flesch_reading_ease:':<25}{nb['normalized_flesch_reading_ease'].shape}\")"
   ]
  },
  {
   "cell_type": "markdown",
   "id": "420d85e7-b1e4-4d22-b043-ee9374286d04",
   "metadata": {},
   "source": [
    "## Training model"
   ]
  },
  {
   "cell_type": "markdown",
   "id": "c0c70332-9c16-499c-9fc3-734f72e2ecf4",
   "metadata": {},
   "source": [
    "1. **Input Layer:** Accept the embeddings of the question, text, and answer. This would result in three separate input layers, each of dimension `[batch_size, embedding_size]`.\n",
    "2. **Concatenate Layer:** Concatenate the embeddings along the feature axis. This results in `[batch_size, 3 * embedding_size]` dimensions.\n",
    "3. **Dense Layers:** Add a couple of Dense layers with suitable dropout layers in between for regularization. For instance:\n",
    "    - Dense layer with `1024` units, `ReLU` activation.\n",
    "    - Dropout layer with rate `0.5`.\n",
    "    - Dense layer with `512` units, ReLU activation.\n",
    "    - Another Dropout layer with rate `0.5`.\n",
    "4. **Output Layer:** Single Dense layer with `2` units (since you want two values between -1 and 1) and a `tanh` activation function.\n",
    "5. **Loss Function:** If the output of your model is a vector with two values between -1 and 1, then you're essentially dealing with multi-output regression. You can use `Mean Squared Error` or `Mean Absolute Error`, but it'll be applied to each output.\n",
    "6. **Optimizer:** Remains the same; options include `Adam`, `RMSprop`, and `SGD`."
   ]
  },
  {
   "cell_type": "markdown",
   "id": "cf7a39cc-86ee-419b-b045-12f1a9d8dac1",
   "metadata": {},
   "source": [
    "## Utils"
   ]
  },
  {
   "cell_type": "code",
   "execution_count": 10,
   "id": "9565edec-5034-4e98-baa3-7f9e8c466857",
   "metadata": {},
   "outputs": [],
   "source": [
    "class DebertaV3Batch(torch.nn.Module):\n",
    "    def __init__(self):\n",
    "        super(DebertaV3Batch, self).__init__()\n",
    "        # Load the tokenizer and model\n",
    "        self.tokenizer = DebertaV2Tokenizer.from_pretrained('microsoft/deberta-v3-base')\n",
    "        self.model = DebertaV2Model.from_pretrained('microsoft/deberta-v3-base')\n",
    "    \n",
    "\n",
    "    def encode(self, sentences):\n",
    "        # Tokenize sentences\n",
    "        encoded_input = self.tokenizer(sentences, padding=True, truncation=True, return_tensors='pt')\n",
    "        # Compute token embeddings\n",
    "        with torch.no_grad():\n",
    "            model_output = self.model(**encoded_input)\n",
    "\n",
    "        # Only take the embeddings of the [CLS] token (or use the mean of the token embeddings if desired)\n",
    "        sentence_embeddings = model_output.last_hidden_state[:, 0, :]\n",
    "        \n",
    "        return sentence_embeddings"
   ]
  },
  {
   "cell_type": "code",
   "execution_count": 11,
   "id": "35ee62c9-4c41-479d-a208-0e508c11e946",
   "metadata": {},
   "outputs": [],
   "source": [
    "class DebertaV3(torch.nn.Module):\n",
    "    def __init__(self):\n",
    "        super(DebertaV3, self).__init__()\n",
    "        # Load the tokenizer and model\n",
    "        self.tokenizer = DebertaV2Tokenizer.from_pretrained('microsoft/deberta-v3-base')\n",
    "        self.model = DebertaV2Model.from_pretrained('microsoft/deberta-v3-base')\n",
    "\n",
    "\n",
    "    def sliding_window(self, text, window_size=512, overlap_size=256):\n",
    "        tokenized_text = self.tokenizer(text, return_tensors=\"pt\", truncation=False, padding=False)[\"input_ids\"][0]\n",
    "        windows = []\n",
    "        for start_idx in range(0, len(tokenized_text) - window_size + 1, window_size - overlap_size):\n",
    "            end_idx = start_idx + window_size\n",
    "            windows.append(tokenized_text[start_idx:end_idx])\n",
    "        return windows\n",
    "\n",
    "    def process_windows(self, windows):\n",
    "        embeddings = []\n",
    "        for window in windows:\n",
    "            inputs = {\"input_ids\": window.unsqueeze(0)}\n",
    "            outputs = self.model(**inputs)\n",
    "            cls_embedding = outputs.last_hidden_state[:, 0, :]\n",
    "            embeddings.append(cls_embedding)\n",
    "        return embeddings\n",
    "    \n",
    "\n",
    "    def encode(self, sentences):\n",
    "        # Tokenize sentences\n",
    "        encoded_input = self.tokenizer(sentences, padding=True, truncation=True, return_tensors='pt')\n",
    "        # Compute token embeddings\n",
    "        with torch.no_grad():\n",
    "            model_output = self.model(**encoded_input)\n",
    "\n",
    "        if len(encoded_input['input_ids'][0]) > 512:\n",
    "            windows = self.sliding_window(sentences)\n",
    "            window_embeddings = self.process_windows(windows)\n",
    "            \n",
    "            # Optionally, you can aggregate the window embeddings to get a single embedding for the entire text\n",
    "            # For example, by averaging:\n",
    "            average_embedding = torch.mean(torch.cat(window_embeddings), dim=0)\n",
    "            return average_embedding\n",
    "        else:\n",
    "            # Only take the embeddings of the [CLS] token (or use the mean of the token embeddings if desired)\n",
    "            sentence_embeddings = model_output.last_hidden_state[:, 0, :]\n",
    "            \n",
    "            return sentence_embeddings[0]"
   ]
  },
  {
   "cell_type": "code",
   "execution_count": 12,
   "id": "b9381011-354c-4a66-aa20-565a15ff9bc3",
   "metadata": {},
   "outputs": [
    {
     "name": "stderr",
     "output_type": "stream",
     "text": [
      "Special tokens have been added in the vocabulary, make sure the associated word embeddings are fine-tuned or trained.\n",
      "Special tokens have been added in the vocabulary, make sure the associated word embeddings are fine-tuned or trained.\n"
     ]
    }
   ],
   "source": [
    "deberta = DebertaV3()\n",
    "debertaBatch = DebertaV3Batch()"
   ]
  },
  {
   "cell_type": "markdown",
   "id": "e151c3c0-9d49-423a-9347-e7ed526bdf18",
   "metadata": {},
   "source": [
    "### Define the Model"
   ]
  },
  {
   "cell_type": "code",
   "execution_count": 13,
   "id": "2c51e654-671e-496f-aa2d-c6668fdd8caf",
   "metadata": {},
   "outputs": [],
   "source": [
    "# # Define the Model\n",
    "# class QA_Score_Model(nn.Module):\n",
    "#     def __init__(self, input_dim=3*768+7, dropout_rate=0.5):\n",
    "#         super(QA_Score_Model, self).__init__()\n",
    "\n",
    "#         # Dense Layers\n",
    "#         self.fc1 = nn.Linear(input_dim, 1024)\n",
    "#         self.fc2 = nn.Linear(1024, 512)\n",
    "#         self.fc3 = nn.Linear(512, 2)  # Output 2 values for each instance\n",
    "\n",
    "#         # Dropout\n",
    "#         self.dropout = nn.Dropout(dropout_rate)\n",
    "\n",
    "#     def forward(self, x):\n",
    "#         x = F.relu(self.fc1(x))\n",
    "#         if self.training:\n",
    "#             x = self.dropout(x)\n",
    "#         x = F.relu(self.fc2(x))\n",
    "#         if self.training:\n",
    "#             x = self.dropout(x)\n",
    "#         x = torch.tanh(self.fc3(x))  # tanh to get outputs in range [-1, 1]\n",
    "#         return x"
   ]
  },
  {
   "cell_type": "code",
   "execution_count": 14,
   "id": "3cd958cb-ca28-4a23-9910-93c28ac51584",
   "metadata": {},
   "outputs": [],
   "source": [
    "class QA_Score_Model(nn.Module):\n",
    "    def __init__(self, embedding_dim, dropout_rate=0.5):\n",
    "        super(QA_Score_Model, self).__init__()\n",
    "\n",
    "        # Embedding processors\n",
    "        self.fc_text = nn.Linear(embedding_dim, 256)\n",
    "        self.fc_t_q_a = nn.Linear(embedding_dim, 256)\n",
    "\n",
    "        # Scalar Processors\n",
    "        self.fc_lexical = nn.Linear(1, 16)\n",
    "        self.fc_spell = nn.Linear(1, 16)\n",
    "        self.fc_tfidf = nn.Linear(1, 16)\n",
    "        self.fc_avg_word_length = nn.Linear(1, 16)\n",
    "        self.fc_smog = nn.Linear(1, 16)\n",
    "        self.fc_coleman = nn.Linear(1, 16)\n",
    "        self.fc_flesch = nn.Linear(1, 16)\n",
    "\n",
    "        # Dropout layers\n",
    "        self.dropout = nn.Dropout(dropout_rate)\n",
    "\n",
    "        # Shared Dense Layers\n",
    "        self.fc1 = nn.Linear(256*2 + 16*7, 512)\n",
    "        self.fc2 = nn.Linear(512, 256)\n",
    "        \n",
    "        # Output Layers\n",
    "        self.out_content = nn.Linear(256, 1)\n",
    "        self.out_wording = nn.Linear(256, 1)\n",
    "        \n",
    "    def forward(self, text, t_q_a, features):\n",
    "        lexical, spell, tfidf, avg_word_length, smog, coleman, flesch = features\n",
    "        # Pass through convolutional layers\n",
    "        x_text = F.relu(self.fc_text(text))\n",
    "        x_t_q_a = F.relu(self.fc_t_q_a(t_q_a))\n",
    "\n",
    "        # Pass through scalar processors\n",
    "        x_lexical = F.relu(self.fc_lexical(lexical))\n",
    "        x_spell = F.relu(self.fc_spell(spell))\n",
    "        x_tfidf = F.relu(self.fc_tfidf(tfidf))\n",
    "        x_avg_word_length = F.relu(self.fc_avg_word_length(avg_word_length))\n",
    "        x_smog = F.relu(self.fc_smog(smog))\n",
    "        x_coleman = F.relu(self.fc_coleman(coleman))\n",
    "        x_flesch = F.relu(self.fc_flesch(flesch))\n",
    "        \n",
    "        # Concatenate\n",
    "        x = torch.cat((x_text, x_t_q_a, x_lexical, x_spell, x_tfidf, x_avg_word_length, x_smog, x_coleman, x_flesch), dim=1)\n",
    "        \n",
    "        # Pass through shared dense layers with dropout\n",
    "        x = F.relu(self.fc1(x))\n",
    "        x = self.dropout(x)\n",
    "        x = F.relu(self.fc2(x))\n",
    "        x = self.dropout(x)\n",
    "        \n",
    "        # Output\n",
    "        content = self.out_content(x)\n",
    "        wording = self.out_wording(x)\n",
    "        \n",
    "        return torch.cat((content, wording), dim=1).to(device)"
   ]
  },
  {
   "cell_type": "markdown",
   "id": "aa399d64-ba3a-41b4-ae4d-d699d3a6be37",
   "metadata": {},
   "source": [
    "### MCRMSE loss"
   ]
  },
  {
   "cell_type": "code",
   "execution_count": 15,
   "id": "11708a30-f4f4-41bc-b759-918d56b374a3",
   "metadata": {},
   "outputs": [],
   "source": [
    "class MCRMSELoss(nn.Module):\n",
    "    def __init__(self):\n",
    "        super(MCRMSELoss, self).__init__()\n",
    "\n",
    "    def forward(self, y_true, y_pred):\n",
    "        colwise_mse = torch.mean(torch.square(y_true - y_pred), dim=0)\n",
    "        return torch.mean(torch.sqrt(colwise_mse), dim=0)"
   ]
  },
  {
   "cell_type": "code",
   "execution_count": 16,
   "id": "70e23974-ac03-4d23-a34a-251cf416c730",
   "metadata": {},
   "outputs": [],
   "source": [
    "def MCRMSE(targets, predictions):\n",
    "    \"\"\"\n",
    "    Compute the Mean Columnwise Root Mean Squared Error.\n",
    "    \n",
    "    Parameters:\n",
    "    - targets: Actual target values\n",
    "    - predictions: Model's predictions\n",
    "    \n",
    "    Returns:\n",
    "    - Mean Columnwise RMSE\n",
    "    \"\"\"\n",
    "    # Compute squared error\n",
    "    mse = torch.mean((targets - predictions) ** 2, dim=0)\n",
    "    \n",
    "    # Take square root of each column's MSE\n",
    "    rmse = torch.sqrt(mse)\n",
    "    \n",
    "    # Compute mean of RMSE across all columns\n",
    "    mcrmse = torch.mean(rmse)\n",
    "    \n",
    "    return mcrmse"
   ]
  },
  {
   "cell_type": "markdown",
   "id": "357d2d50-f523-4794-b993-49bf5497a153",
   "metadata": {},
   "source": [
    "### Create an instance of the model, loss function and the optimizer"
   ]
  },
  {
   "cell_type": "code",
   "execution_count": 17,
   "id": "f889db9f",
   "metadata": {},
   "outputs": [],
   "source": [
    "# Create an instance of the model, loss function and the optimizer\n",
    "model = QA_Score_Model(768)\n",
    "model = model.to(device)\n",
    "criterion = MCRMSELoss()  # Mean Absolute Error less sensitive to outliers # MSELoss Mean Squared Error Loss\n",
    "# criterion = nn.L1Loss()  # Mean Absolute Error less sensitive to outliers # MSELoss Mean Squared Error Loss\n",
    "optimizer = optim.Adam(model.parameters(), lr=LEARNING_RATE)"
   ]
  },
  {
   "cell_type": "markdown",
   "id": "76493c03-5a20-4658-80c6-31a1bcb5c41f",
   "metadata": {},
   "source": [
    "### Training loop"
   ]
  },
  {
   "cell_type": "code",
   "execution_count": 18,
   "id": "51c3c6ec-b433-4efa-a5a5-8e8324d87836",
   "metadata": {},
   "outputs": [],
   "source": [
    "def training_loop(model, dataset, epoch):\n",
    "    model = model.train()\n",
    "    \n",
    "    total_train_loss = 0.0\n",
    "    # total_train_mcrmse = 0.0\n",
    "    \n",
    "    batchs = dataset.get_batch('train')\n",
    "    \n",
    "    num_train_batches = len(dataset.train_data) // BATCH_SIZE\n",
    "    for i, batch in enumerate(batchs):\n",
    "        # Get the batch data\n",
    "        student_id = batch['student_id']\n",
    "        prompt_id = batch['prompt_id']\n",
    "        t_q_a_embeddings = batch['t_q_a_embeddings']\n",
    "        embeddings_text = batch['embeddings_text']\n",
    "        content = batch['content']\n",
    "        wording = batch['wording']\n",
    "        normalized_lexical_density = batch['normalized_lexical_density']\n",
    "        normalized_spell_checker = batch['normalized_spell_checker']\n",
    "        normalized_tf_idf_question_score = batch['normalized_tf_idf_question_score']\n",
    "        normalized_avg_word_length = batch['normalized_avg_word_length']\n",
    "        normalized_smog_index = batch['normalized_smog_index']\n",
    "        normalized_coleman_liau_index = batch['normalized_coleman_liau_index']\n",
    "        normalized_flesch_reading_ease = batch['normalized_flesch_reading_ease']\n",
    "        \n",
    "        # create input targets\n",
    "        targets = torch.stack(\n",
    "            (\n",
    "                content,\n",
    "                wording\n",
    "            ), dim=1).to(device)\n",
    "        \n",
    "        # Zero the gradients\n",
    "        optimizer.zero_grad()\n",
    "\n",
    "        # Forward pass\n",
    "        features = (normalized_lexical_density, \\\n",
    "                    normalized_spell_checker, \\\n",
    "                    normalized_tf_idf_question_score, \\\n",
    "                    normalized_avg_word_length, \\\n",
    "                    normalized_smog_index, \\\n",
    "                    normalized_coleman_liau_index, \\\n",
    "                    normalized_flesch_reading_ease \\\n",
    "                   )\n",
    "        outputs = model(embeddings_text.to(device), t_q_a_embeddings.to(device), features)\n",
    "\n",
    "        # Loss\n",
    "        loss = criterion(targets, outputs)\n",
    "        # eval_metric = MCRMSE(targets, outputs)\n",
    "\n",
    "        # Backward pass and optimization\n",
    "        loss.backward()\n",
    "        optimizer.step()\n",
    "\n",
    "        # Print loss (you might want to print every N batches, not every batch)\n",
    "        print(f\"\\rEpoch [{epoch + 1}/{EPOCHS}], Batch [{i}/{num_train_batches}], Loss: {loss.item()}\", end=\"\")\n",
    "        # print(f\"\\rEpoch [{epoch + 1}/{EPOCHS}], Batch [{i}/{num_train_batches}], Loss: {loss.item()}, MCRMSE: {eval_metric.item()}\", end=\"\")\n",
    "        \n",
    "\n",
    "        total_train_loss += loss.item()\n",
    "        # total_train_mcrmse += eval_metric.item()\n",
    "\n",
    "    avg_train_loss = total_train_loss / num_train_batches\n",
    "    # avg_train_mcrmse = total_train_mcrmse / num_train_batches\n",
    "\n",
    "    # return model, avg_train_loss, avg_train_mcrmse\n",
    "    return model, avg_train_loss"
   ]
  },
  {
   "cell_type": "markdown",
   "id": "3938650b-cf46-4e24-88ea-1d46cc827f3f",
   "metadata": {},
   "source": [
    "### Validation loop"
   ]
  },
  {
   "cell_type": "code",
   "execution_count": 19,
   "id": "50b820d0-8dd1-4292-9806-4d20186bb524",
   "metadata": {},
   "outputs": [],
   "source": [
    "def validation_loop(model, dataset, epoch):\n",
    "    print(f\"\\nValidating...\", end=\"\")\n",
    "    # Validation Evaluation\n",
    "    model = model.eval()  # Set the model to evaluation mode\n",
    "    \n",
    "    total_val_loss = 0.0\n",
    "    # total_val_mcrmse = 0.0\n",
    "    \n",
    "    val_batches = dataset.get_batch('val')\n",
    "    \n",
    "    num_val_batches = len(dataset.val_data) // BATCH_SIZE\n",
    "    with torch.no_grad():  # Disable gradient computations\n",
    "        for i, val_batch in enumerate(val_batches):\n",
    "            student_id = val_batch['student_id']\n",
    "            prompt_id = val_batch['prompt_id']\n",
    "            t_q_a_embeddings = val_batch['t_q_a_embeddings']\n",
    "            embeddings_text = val_batch['embeddings_text']\n",
    "            content = val_batch['content']\n",
    "            wording = val_batch['wording']\n",
    "            normalized_lexical_density = val_batch['normalized_lexical_density']\n",
    "            normalized_spell_checker = val_batch['normalized_spell_checker']\n",
    "            normalized_tf_idf_question_score = val_batch['normalized_tf_idf_question_score']\n",
    "            normalized_avg_word_length = val_batch['normalized_avg_word_length']\n",
    "            normalized_smog_index = val_batch['normalized_smog_index']\n",
    "            normalized_coleman_liau_index = val_batch['normalized_coleman_liau_index']\n",
    "            normalized_flesch_reading_ease = val_batch['normalized_flesch_reading_ease']\n",
    "\n",
    "            # Create input\n",
    "            val_targets = torch.stack((content, wording), dim=1).to(device)\n",
    "            \n",
    "            features = (normalized_lexical_density, \\\n",
    "                        normalized_spell_checker, \\\n",
    "                        normalized_tf_idf_question_score, \\\n",
    "                        normalized_avg_word_length, \\\n",
    "                        normalized_smog_index, \\\n",
    "                        normalized_coleman_liau_index, \\\n",
    "                        normalized_flesch_reading_ease \\\n",
    "                       )\n",
    "            # Forward pass\n",
    "            val_outputs = model(embeddings_text.to(device), t_q_a_embeddings.to(device), features)\n",
    "\n",
    "            # Compute loss and MCRMSE\n",
    "            val_loss = criterion(val_targets, val_outputs)\n",
    "            # val_mcrmse = MCRMSE(val_targets, val_outputs)\n",
    "\n",
    "            total_val_loss += val_loss.item()\n",
    "            # total_val_mcrmse += val_mcrmse.item()\n",
    "\n",
    "    avg_val_loss = total_val_loss / num_val_batches\n",
    "    # avg_val_mcrmse = total_val_mcrmse / num_val_batches\n",
    "\n",
    "    print(f\"\\rValidation Loss after Epoch {epoch + 1}: {avg_val_loss}\\n\")\n",
    "    # print(f\"\\rValidation Loss after Epoch {epoch + 1}: {avg_val_loss}, Avg MCRMSE: {avg_val_mcrmse}\\n\")\n",
    "    \n",
    "    # return avg_val_loss, avg_val_mcrmse\n",
    "    return avg_val_loss"
   ]
  },
  {
   "cell_type": "code",
   "execution_count": 20,
   "id": "892f78e8-72a3-48ab-8deb-d3443311b6e2",
   "metadata": {},
   "outputs": [
    {
     "name": "stdout",
     "output_type": "stream",
     "text": [
      "Epoch [1/200], Batch [208/208], Loss: 0.7625353932380676\n",
      "Validation Loss after Epoch 1: 1.0380466872791074\n",
      "\n",
      "Epoch [2/200], Batch [208/208], Loss: 0.9459432363510132\n",
      "Validation Loss after Epoch 2: 1.0246290958152626\n",
      "\n",
      "Epoch [3/200], Batch [208/208], Loss: 0.9054850339889526\n",
      "Validation Loss after Epoch 3: 1.0146108989445668\n",
      "\n",
      "Epoch [4/200], Batch [208/208], Loss: 0.9380904436111457\n",
      "Validation Loss after Epoch 4: 1.0092729532493736\n",
      "\n",
      "Epoch [5/200], Batch [208/208], Loss: 0.9524594545364384\n",
      "Validation Loss after Epoch 5: 0.9951925795033293\n",
      "\n",
      "Epoch [6/200], Batch [208/208], Loss: 1.1359655857086182\n",
      "Validation Loss after Epoch 6: 0.9796222943180012\n",
      "\n",
      "Epoch [7/200], Batch [208/208], Loss: 0.8963077068328857\n",
      "Validation Loss after Epoch 7: 0.9596243961802069\n",
      "\n",
      "Epoch [8/200], Batch [208/208], Loss: 0.8449782133102417\n",
      "Validation Loss after Epoch 8: 0.9395739424903438\n",
      "\n",
      "Epoch [9/200], Batch [208/208], Loss: 1.1621955633163452\n",
      "Validation Loss after Epoch 9: 0.9170923930294109\n",
      "\n",
      "Epoch [10/200], Batch [208/208], Loss: 1.0213930606842045\n",
      "Validation Loss after Epoch 10: 0.8933981173443344\n",
      "\n",
      "Epoch [11/200], Batch [208/208], Loss: 0.9466041326522827\n",
      "Validation Loss after Epoch 11: 0.8676438668988785\n",
      "\n",
      "Epoch [12/200], Batch [208/208], Loss: 0.7984513044357308\n",
      "Validation Loss after Epoch 12: 0.8438103986236284\n",
      "\n",
      "Epoch [13/200], Batch [208/208], Loss: 0.9111475348472595\n",
      "Validation Loss after Epoch 13: 0.8206637974055309\n",
      "\n",
      "Epoch [14/200], Batch [208/208], Loss: 0.7497924566268921\n",
      "Validation Loss after Epoch 14: 0.8003554130500218\n",
      "\n",
      "Epoch [15/200], Batch [208/208], Loss: 0.8488920927047738\n",
      "Validation Loss after Epoch 15: 0.7847927212715149\n",
      "\n",
      "Epoch [16/200], Batch [208/208], Loss: 0.7109659314155579\n",
      "Validation Loss after Epoch 16: 0.7727670422140157\n",
      "\n",
      "Epoch [17/200], Batch [208/208], Loss: 0.9568620920181274\n",
      "Validation Loss after Epoch 17: 0.7605034337853486\n",
      "\n",
      "Epoch [18/200], Batch [208/208], Loss: 0.7430381774902344\n",
      "Validation Loss after Epoch 18: 0.7511864788127396\n",
      "\n",
      "Epoch [19/200], Batch [208/208], Loss: 0.8166999816894531\n",
      "Validation Loss after Epoch 19: 0.7465512201471148\n",
      "\n",
      "Epoch [20/200], Batch [208/208], Loss: 0.8517158627510071\n",
      "Validation Loss after Epoch 20: 0.7425740001336584\n",
      "\n",
      "Epoch [21/200], Batch [208/208], Loss: 0.69241154193878177\n",
      "Validation Loss after Epoch 21: 0.7436930019900484\n",
      "\n",
      "Epoch [22/200], Batch [208/208], Loss: 0.6549341678619385\n",
      "Validation Loss after Epoch 22: 0.7328591785340939\n",
      "\n",
      "Epoch [23/200], Batch [208/208], Loss: 0.6639263629913333\n",
      "Validation Loss after Epoch 23: 0.7306007495466268\n",
      "\n",
      "Epoch [24/200], Batch [208/208], Loss: 0.7707894444465637\n",
      "Validation Loss after Epoch 24: 0.7271356897534065\n",
      "\n",
      "Epoch [25/200], Batch [208/208], Loss: 0.7648680210113525\n",
      "Validation Loss after Epoch 25: 0.7263474127031723\n",
      "\n",
      "Epoch [26/200], Batch [208/208], Loss: 0.6888392567634583\n",
      "Validation Loss after Epoch 26: 0.7228865584112564\n",
      "\n",
      "Epoch [27/200], Batch [208/208], Loss: 0.9154447317123413\n",
      "Validation Loss after Epoch 27: 0.7162945203061374\n",
      "\n",
      "Epoch [28/200], Batch [208/208], Loss: 0.4994243383407593\n",
      "Validation Loss after Epoch 28: 0.7141284166641955\n",
      "\n",
      "Epoch [29/200], Batch [208/208], Loss: 0.5369472503662109\n",
      "Validation Loss after Epoch 29: 0.7121518299264727\n",
      "\n",
      "Epoch [30/200], Batch [208/208], Loss: 0.7832142114639282\n",
      "Validation Loss after Epoch 30: 0.7109407872523902\n",
      "\n",
      "Epoch [31/200], Batch [208/208], Loss: 0.71075212955474855\n",
      "Validation Loss after Epoch 31: 0.7083152127715776\n",
      "\n",
      "Epoch [32/200], Batch [208/208], Loss: 0.8345098495483398\n",
      "Validation Loss after Epoch 32: 0.7060734236015463\n",
      "\n",
      "Epoch [33/200], Batch [208/208], Loss: 0.45127010345458984\n",
      "Validation Loss after Epoch 33: 0.7051806478005536\n",
      "\n",
      "Epoch [34/200], Batch [208/208], Loss: 0.94432085752487185\n",
      "Validation Loss after Epoch 34: 0.7024779443470937\n",
      "\n",
      "Epoch [35/200], Batch [208/208], Loss: 0.6470990180969238\n",
      "Validation Loss after Epoch 35: 0.7007175037321055\n",
      "\n",
      "Epoch [36/200], Batch [208/208], Loss: 0.7240531444549561\n",
      "Validation Loss after Epoch 36: 0.702823947060783\n",
      "\n",
      "Epoch [37/200], Batch [208/208], Loss: 0.8811816573143005\n",
      "Validation Loss after Epoch 37: 0.6980627494038276\n",
      "\n",
      "Epoch [38/200], Batch [208/208], Loss: 0.6030833125114441\n",
      "Validation Loss after Epoch 38: 0.6960310576097021\n",
      "\n",
      "Epoch [39/200], Batch [208/208], Loss: 0.6163716316223145\n",
      "Validation Loss after Epoch 39: 0.6947736807589261\n",
      "\n",
      "Epoch [40/200], Batch [208/208], Loss: 0.94017219543457033\n",
      "Validation Loss after Epoch 40: 0.6906330034417926\n",
      "\n",
      "Epoch [41/200], Batch [208/208], Loss: 0.7014445662498474\n",
      "Validation Loss after Epoch 41: 0.6906895423835179\n",
      "\n",
      "Epoch [42/200], Batch [208/208], Loss: 0.6688339710235596\n",
      "Validation Loss after Epoch 42: 0.6899387341625286\n",
      "\n",
      "Epoch [43/200], Batch [208/208], Loss: 0.68190509080886844\n",
      "Validation Loss after Epoch 43: 0.6852817445431115\n",
      "\n",
      "Epoch [44/200], Batch [208/208], Loss: 0.7026606798171997\n",
      "Validation Loss after Epoch 44: 0.6854788312372172\n",
      "\n",
      "Epoch [45/200], Batch [208/208], Loss: 0.68521809577941973\n",
      "Validation Loss after Epoch 45: 0.6842826211227561\n",
      "\n",
      "Epoch [46/200], Batch [208/208], Loss: 0.6461218595504761\n",
      "Validation Loss after Epoch 46: 0.6843700622612575\n",
      "\n",
      "Epoch [47/200], Batch [208/208], Loss: 0.5456404685974121\n",
      "Validation Loss after Epoch 47: 0.6803165876640463\n",
      "\n",
      "Epoch [48/200], Batch [208/208], Loss: 0.9041115045547485\n",
      "Validation Loss after Epoch 48: 0.6790669133078377\n",
      "\n",
      "Epoch [49/200], Batch [208/208], Loss: 0.5389679670333862\n",
      "Validation Loss after Epoch 49: 0.6759238428664658\n",
      "\n",
      "Epoch [50/200], Batch [208/208], Loss: 0.6558759808540344\n",
      "Validation Loss after Epoch 50: 0.6776032380337985\n",
      "\n",
      "Epoch [51/200], Batch [208/208], Loss: 0.4531715512275696\n",
      "Validation Loss after Epoch 51: 0.674724427596578\n",
      "\n",
      "Epoch [52/200], Batch [208/208], Loss: 0.8083701133728027\n",
      "Validation Loss after Epoch 52: 0.6751874876472185\n",
      "\n",
      "Epoch [53/200], Batch [208/208], Loss: 0.6965663433074951\n",
      "Validation Loss after Epoch 53: 0.6717035871631695\n",
      "\n",
      "Epoch [54/200], Batch [208/208], Loss: 0.62912905216217045\n",
      "Validation Loss after Epoch 54: 0.6696255218307927\n",
      "\n",
      "Epoch [55/200], Batch [208/208], Loss: 0.53969019651412965\n",
      "Validation Loss after Epoch 55: 0.66947632859338\n",
      "\n",
      "Epoch [56/200], Batch [208/208], Loss: 0.70731139183044437\n",
      "Validation Loss after Epoch 56: 0.6688999432437824\n",
      "\n",
      "Epoch [57/200], Batch [208/208], Loss: 0.72658729553222664\n",
      "Validation Loss after Epoch 57: 0.6672633076613804\n",
      "\n",
      "Epoch [58/200], Batch [208/208], Loss: 0.7223550677299577\n",
      "Validation Loss after Epoch 58: 0.6642359253370537\n",
      "\n",
      "Epoch [59/200], Batch [208/208], Loss: 0.54792988300323493\n",
      "Validation Loss after Epoch 59: 0.6646396528999761\n",
      "\n",
      "Epoch [60/200], Batch [208/208], Loss: 0.8038418292999268\n",
      "Validation Loss after Epoch 60: 0.6608622861358354\n",
      "\n",
      "Epoch [61/200], Batch [208/208], Loss: 0.7364038228988647\n",
      "Validation Loss after Epoch 61: 0.6630705527539523\n",
      "\n",
      "Epoch [62/200], Batch [208/208], Loss: 0.65484178066253666\n",
      "Validation Loss after Epoch 62: 0.6613789060205784\n",
      "\n",
      "Epoch [63/200], Batch [208/208], Loss: 0.6573531031608582\n",
      "Validation Loss after Epoch 63: 0.6595612539435333\n",
      "\n",
      "Epoch [64/200], Batch [208/208], Loss: 0.66078233718872077\n",
      "Validation Loss after Epoch 64: 0.6566746724101732\n",
      "\n",
      "Epoch [65/200], Batch [208/208], Loss: 0.7144622802734375\n",
      "Validation Loss after Epoch 65: 0.6564135602060354\n",
      "\n",
      "Epoch [66/200], Batch [208/208], Loss: 0.59228861331939757\n",
      "Validation Loss after Epoch 66: 0.6584777539631106\n",
      "\n",
      "Epoch [67/200], Batch [208/208], Loss: 0.6513870954513559\n",
      "Validation Loss after Epoch 67: 0.655758169462096\n",
      "\n",
      "Epoch [68/200], Batch [208/208], Loss: 0.7264819741249084\n",
      "Validation Loss after Epoch 68: 0.6530398647740202\n",
      "\n",
      "Epoch [69/200], Batch [208/208], Loss: 0.69790446758270264\n",
      "Validation Loss after Epoch 69: 0.6523506236526201\n",
      "\n",
      "Epoch [70/200], Batch [208/208], Loss: 0.57630622386932375\n",
      "Validation Loss after Epoch 70: 0.6520267134567477\n",
      "\n",
      "Epoch [71/200], Batch [208/208], Loss: 0.77905964851379454\n",
      "Validation Loss after Epoch 71: 0.6512143538807923\n",
      "\n",
      "Epoch [72/200], Batch [208/208], Loss: 0.71919059753417977\n",
      "Validation Loss after Epoch 72: 0.6496619891445592\n",
      "\n",
      "Epoch [73/200], Batch [208/208], Loss: 0.6266514658927917\n",
      "Validation Loss after Epoch 73: 0.6515311778716322\n",
      "\n",
      "Epoch [74/200], Batch [208/208], Loss: 0.71809136867523194\n",
      "Validation Loss after Epoch 74: 0.6475526892913962\n",
      "\n",
      "Epoch [75/200], Batch [208/208], Loss: 0.6002809405326843\n",
      "Validation Loss after Epoch 75: 0.6469429748238258\n",
      "\n",
      "Epoch [76/200], Batch [208/208], Loss: 0.5239318609237671\n",
      "Validation Loss after Epoch 76: 0.6442913396178551\n",
      "\n",
      "Epoch [77/200], Batch [208/208], Loss: 0.62441301345825225\n",
      "Validation Loss after Epoch 77: 0.6432134154832588\n",
      "\n",
      "Epoch [78/200], Batch [208/208], Loss: 0.66997587680816656\n",
      "Validation Loss after Epoch 78: 0.6453280347698139\n",
      "\n",
      "Epoch [79/200], Batch [208/208], Loss: 0.64302855730056767\n",
      "Validation Loss after Epoch 79: 0.6440483770280514\n",
      "\n",
      "Epoch [80/200], Batch [208/208], Loss: 0.58271127939224247\n",
      "Validation Loss after Epoch 80: 0.6416401520090284\n",
      "\n",
      "Epoch [81/200], Batch [208/208], Loss: 0.5333070158958435\n",
      "Validation Loss after Epoch 81: 0.6423597920615718\n",
      "\n",
      "Epoch [82/200], Batch [208/208], Loss: 0.60143184661865234\n",
      "Validation Loss after Epoch 82: 0.6401386294724807\n",
      "\n",
      "Epoch [83/200], Batch [208/208], Loss: 0.6317259073257446\n",
      "Validation Loss after Epoch 83: 0.6408145000349801\n",
      "\n",
      "Epoch [84/200], Batch [208/208], Loss: 0.60429549217224123\n",
      "Validation Loss after Epoch 84: 0.6429790230292194\n",
      "\n",
      "Epoch [85/200], Batch [208/208], Loss: 0.68477916717529377\n",
      "Validation Loss after Epoch 85: 0.63787693909879\n",
      "\n",
      "Epoch [86/200], Batch [208/208], Loss: 0.55330210924148567\n",
      "Validation Loss after Epoch 86: 0.6374221438506864\n",
      "\n",
      "Epoch [87/200], Batch [208/208], Loss: 0.59316986799240116\n",
      "Validation Loss after Epoch 87: 0.637825016705495\n",
      "\n",
      "Epoch [88/200], Batch [208/208], Loss: 0.73139190673828123\n",
      "Validation Loss after Epoch 88: 0.6399146813266682\n",
      "\n",
      "Epoch [89/200], Batch [208/208], Loss: 0.5928225517272949\n",
      "Validation Loss after Epoch 89: 0.6370965366093617\n",
      "\n",
      "Epoch [90/200], Batch [208/208], Loss: 0.66124653816223145\n",
      "Validation Loss after Epoch 90: 0.6343577712211969\n",
      "\n",
      "Epoch [91/200], Batch [208/208], Loss: 0.73710203170776374\n",
      "Validation Loss after Epoch 91: 0.6345677803147514\n",
      "\n",
      "Epoch [92/200], Batch [208/208], Loss: 0.68596482276916596\n",
      "Validation Loss after Epoch 92: 0.6353661288630288\n",
      "\n",
      "Epoch [93/200], Batch [208/208], Loss: 0.73696649074554446\n",
      "Validation Loss after Epoch 93: 0.6338168000275234\n",
      "\n",
      "Epoch [94/200], Batch [208/208], Loss: 0.54683554172515876\n",
      "Validation Loss after Epoch 94: 0.6344166622971589\n",
      "\n",
      "Epoch [95/200], Batch [208/208], Loss: 0.55079549551010136\n",
      "Validation Loss after Epoch 95: 0.632071501803848\n",
      "\n",
      "Epoch [96/200], Batch [208/208], Loss: 0.62931829690933237\n",
      "Validation Loss after Epoch 96: 0.6312538840860691\n",
      "\n",
      "Epoch [97/200], Batch [208/208], Loss: 0.49850699305534363\n",
      "Validation Loss after Epoch 97: 0.631839247244709\n",
      "\n",
      "Epoch [98/200], Batch [208/208], Loss: 0.53823566436767587\n",
      "Validation Loss after Epoch 98: 0.6326222116092466\n",
      "\n",
      "Epoch [99/200], Batch [208/208], Loss: 0.8552576303482056\n",
      "Validation Loss after Epoch 99: 0.6311743591191634\n",
      "\n",
      "Epoch [100/200], Batch [208/208], Loss: 0.92038929462432864\n",
      "Validation Loss after Epoch 100: 0.6278133223641593\n",
      "\n",
      "Epoch [101/200], Batch [208/208], Loss: 0.6302760839462288\n",
      "Validation Loss after Epoch 101: 0.6275275400224721\n",
      "\n",
      "Epoch [102/200], Batch [208/208], Loss: 0.73565649986267094\n",
      "Validation Loss after Epoch 102: 0.6315903967281558\n",
      "\n",
      "Epoch [103/200], Batch [208/208], Loss: 0.53650927543640143\n",
      "Validation Loss after Epoch 103: 0.6288046297037376\n",
      "\n",
      "Epoch [104/200], Batch [208/208], Loss: 0.7253184318542482\n",
      "Validation Loss after Epoch 104: 0.6290975859705007\n",
      "\n",
      "Epoch [105/200], Batch [208/208], Loss: 0.53925430774688725\n",
      "Validation Loss after Epoch 105: 0.6250734312354393\n",
      "\n",
      "Epoch [106/200], Batch [208/208], Loss: 0.44911190867424015\n",
      "Validation Loss after Epoch 106: 0.6275814175605774\n",
      "\n",
      "Epoch [107/200], Batch [208/208], Loss: 0.66235888004302987\n",
      "Validation Loss after Epoch 107: 0.6246363239468269\n",
      "\n",
      "Epoch [108/200], Batch [208/208], Loss: 0.84596145153045654\n",
      "Validation Loss after Epoch 108: 0.6252300131995723\n",
      "\n",
      "Epoch [109/200], Batch [208/208], Loss: 0.55578756332397464\n",
      "Validation Loss after Epoch 109: 0.6232648992313529\n",
      "\n",
      "Epoch [110/200], Batch [208/208], Loss: 0.5667216181755066\n",
      "Validation Loss after Epoch 110: 0.6239878344085982\n",
      "\n",
      "Epoch [111/200], Batch [208/208], Loss: 0.63731014728546145\n",
      "Validation Loss after Epoch 111: 0.6271702928363152\n",
      "\n",
      "Epoch [112/200], Batch [208/208], Loss: 0.54236364364624027\n",
      "Validation Loss after Epoch 112: 0.6199028891212536\n",
      "\n",
      "Epoch [113/200], Batch [208/208], Loss: 0.6822340488433838\n",
      "Validation Loss after Epoch 113: 0.6247723327492768\n",
      "\n",
      "Epoch [114/200], Batch [208/208], Loss: 0.4428480565547943\n",
      "Validation Loss after Epoch 114: 0.6215619973416598\n",
      "\n",
      "Epoch [115/200], Batch [208/208], Loss: 0.56629753112792973\n",
      "Validation Loss after Epoch 115: 0.62272432390249\n",
      "\n",
      "Epoch [116/200], Batch [208/208], Loss: 0.53729325532913216\n",
      "Validation Loss after Epoch 116: 0.6206394911936994\n",
      "\n",
      "Epoch [117/200], Batch [208/208], Loss: 0.55252462625503545\n",
      "Validation Loss after Epoch 117: 0.6212133911420714\n",
      "\n",
      "Early stopping on epoch 116. Best epoch was 111 with val loss: 0.6199.\n"
     ]
    }
   ],
   "source": [
    "# Early stopping parameters\n",
    "patience = 5  # Number of epochs with no improvement after which training will be stopped\n",
    "counter = 0  # To count number of epochs with no improvement\n",
    "best_val_loss = None  # To keep track of best validation loss\n",
    "best_model_state = None  # To store best model's state\n",
    "\n",
    "train_losses = []\n",
    "# train_mcrmse = []\n",
    "val_losses = []\n",
    "# val_mcrmse = []\n",
    "\n",
    "for epoch in range(EPOCHS):\n",
    "    # training loop\n",
    "    model, epoch_train_loss = training_loop(model, dataset, epoch)\n",
    "    train_losses.append(epoch_train_loss)\n",
    "    # train_mcrmse.append(epoch_train_mcrmse)\n",
    "    \n",
    "    # validation loop\n",
    "    epoch_val_loss = validation_loop(model, dataset, epoch)\n",
    "    val_losses.append(epoch_val_loss)\n",
    "    # val_mcrmse.append(epoch_val_mcrmse)\n",
    "\n",
    "    # Check if this epoch's validation loss is the best we've seen so far.\n",
    "    if best_val_loss is None or epoch_val_loss < best_val_loss:\n",
    "        best_val_loss = epoch_val_loss\n",
    "        best_model_state = copy.deepcopy(model.state_dict())  # Save best model\n",
    "        counter = 0  # Reset counter\n",
    "    else:\n",
    "        counter += 1  # Increment counter as no improvement in validation loss\n",
    "\n",
    "    # If we've had patience number of epochs without improvement, stop training\n",
    "    if counter >= patience:\n",
    "        print(f\"Early stopping on epoch {epoch}. Best epoch was {epoch - counter} with val loss: {best_val_loss:.4f}.\")\n",
    "        break\n",
    "\n",
    "# Load best model weights\n",
    "model.load_state_dict(best_model_state)\n",
    "torch.save(model.state_dict(), './out/best_model.pt')  # Save the best model to disk\n",
    "\n"
   ]
  },
  {
   "cell_type": "markdown",
   "id": "62f186fe-aa77-4f32-9332-b46a53d6407b",
   "metadata": {},
   "source": [
    "### Loss visualization"
   ]
  },
  {
   "cell_type": "code",
   "execution_count": 21,
   "id": "5ab4c6a2-d3e5-474d-9a69-b60e59513a6d",
   "metadata": {},
   "outputs": [],
   "source": [
    "def plot_graphs(train_losses, val_losses):\n",
    "    # Monokai color palette\n",
    "    colors = ['#F92672', '#A6E22E', '#66D9EF', '#FD971F']\n",
    "    \n",
    "    # Set the background color and grid color\n",
    "    sns.set_style(\"darkgrid\", {\n",
    "        \"axes.facecolor\": \".1\",  # Dark background\n",
    "        \"grid.color\": \".15\",  # Slightly grayish grid lines\n",
    "        \"axes.labelcolor\": \"white\",\n",
    "        \"xtick.color\": \"white\",\n",
    "        \"ytick.color\": \"white\"\n",
    "    })\n",
    "\n",
    "    epochs = range(1, len(train_losses) + 1)\n",
    "\n",
    "    # Plotting the losses\n",
    "    plt.figure(figsize=(12, 6))\n",
    "\n",
    "    # Set entire background color\n",
    "    fig = plt.gcf()\n",
    "    fig.patch.set_facecolor('.1')  # Color for the whole backgroun\n",
    "\n",
    "    plt.subplot(1, 2, 1)\n",
    "    sns.lineplot(x=epochs, y=train_losses, label='Train Loss', marker='o', color=colors[0])\n",
    "    sns.lineplot(x=epochs, y=val_losses, label='Validation Loss', marker='o', color=colors[1])\n",
    "    plt.title('Training and Validation Loss', color='white')\n",
    "    plt.xlabel('Epochs')\n",
    "    plt.ylabel('Loss')\n",
    "    legend = plt.legend()\n",
    "    for text in legend.get_texts():\n",
    "        text.set_color(\"white\")  # Set the legend text color to white\n",
    "\n",
    "    plt.tight_layout()\n",
    "    plt.show()"
   ]
  },
  {
   "cell_type": "code",
   "execution_count": 22,
   "id": "9d2a845c-f61e-4ae4-9a69-58b0c85f6d73",
   "metadata": {},
   "outputs": [
    {
     "name": "stderr",
     "output_type": "stream",
     "text": [
      "C:\\Users\\thiba\\.virtualenvs\\commonlit-evaluate-student-summaries-bVvbF_GV\\Lib\\site-packages\\seaborn\\_oldcore.py:1498: FutureWarning: is_categorical_dtype is deprecated and will be removed in a future version. Use isinstance(dtype, CategoricalDtype) instead\n",
      "  if pd.api.types.is_categorical_dtype(vector):\n",
      "C:\\Users\\thiba\\.virtualenvs\\commonlit-evaluate-student-summaries-bVvbF_GV\\Lib\\site-packages\\seaborn\\_oldcore.py:1498: FutureWarning: is_categorical_dtype is deprecated and will be removed in a future version. Use isinstance(dtype, CategoricalDtype) instead\n",
      "  if pd.api.types.is_categorical_dtype(vector):\n",
      "C:\\Users\\thiba\\.virtualenvs\\commonlit-evaluate-student-summaries-bVvbF_GV\\Lib\\site-packages\\seaborn\\_oldcore.py:1119: FutureWarning: use_inf_as_na option is deprecated and will be removed in a future version. Convert inf values to NaN before operating instead.\n",
      "  with pd.option_context('mode.use_inf_as_na', True):\n",
      "C:\\Users\\thiba\\.virtualenvs\\commonlit-evaluate-student-summaries-bVvbF_GV\\Lib\\site-packages\\seaborn\\_oldcore.py:1119: FutureWarning: use_inf_as_na option is deprecated and will be removed in a future version. Convert inf values to NaN before operating instead.\n",
      "  with pd.option_context('mode.use_inf_as_na', True):\n",
      "C:\\Users\\thiba\\.virtualenvs\\commonlit-evaluate-student-summaries-bVvbF_GV\\Lib\\site-packages\\seaborn\\_oldcore.py:1498: FutureWarning: is_categorical_dtype is deprecated and will be removed in a future version. Use isinstance(dtype, CategoricalDtype) instead\n",
      "  if pd.api.types.is_categorical_dtype(vector):\n",
      "C:\\Users\\thiba\\.virtualenvs\\commonlit-evaluate-student-summaries-bVvbF_GV\\Lib\\site-packages\\seaborn\\_oldcore.py:1498: FutureWarning: is_categorical_dtype is deprecated and will be removed in a future version. Use isinstance(dtype, CategoricalDtype) instead\n",
      "  if pd.api.types.is_categorical_dtype(vector):\n",
      "C:\\Users\\thiba\\.virtualenvs\\commonlit-evaluate-student-summaries-bVvbF_GV\\Lib\\site-packages\\seaborn\\_oldcore.py:1119: FutureWarning: use_inf_as_na option is deprecated and will be removed in a future version. Convert inf values to NaN before operating instead.\n",
      "  with pd.option_context('mode.use_inf_as_na', True):\n",
      "C:\\Users\\thiba\\.virtualenvs\\commonlit-evaluate-student-summaries-bVvbF_GV\\Lib\\site-packages\\seaborn\\_oldcore.py:1119: FutureWarning: use_inf_as_na option is deprecated and will be removed in a future version. Convert inf values to NaN before operating instead.\n",
      "  with pd.option_context('mode.use_inf_as_na', True):\n"
     ]
    },
    {
     "data": {
      "image/png": "[encoded data removed]",
      "text/plain": [
       "<Figure size 1200x600 with 1 Axes>"
      ]
     },
     "metadata": {},
     "output_type": "display_data"
    }
   ],
   "source": [
    "# After training, call the function to plot\n",
    "plot_graphs(train_losses, val_losses)"
   ]
  },
  {
   "cell_type": "markdown",
   "id": "b28171c7-d418-404a-a7e7-cfb3567c7c12",
   "metadata": {},
   "source": [
    "## Saving torch script"
   ]
  },
  {
   "cell_type": "code",
   "execution_count": 23,
   "id": "6a58131d-0d65-4e15-bd16-c67008f19d80",
   "metadata": {},
   "outputs": [
    {
     "data": {
      "text/plain": [
       "<All keys matched successfully>"
      ]
     },
     "execution_count": 23,
     "metadata": {},
     "output_type": "execute_result"
    }
   ],
   "source": [
    "model.load_state_dict(torch.load('./out/best_model.pt'))"
   ]
  },
  {
   "cell_type": "code",
   "execution_count": 24,
   "id": "2a21393b-2e29-436e-bc9e-bc93f32469cc",
   "metadata": {},
   "outputs": [],
   "source": [
    "exemple_batches = dataset.get_batch('train')\n",
    "ex_batch = next(exemple_batches)\n",
    "t_q_a_embeddings = ex_batch['t_q_a_embeddings']\n",
    "embeddings_text = ex_batch['embeddings_text']\n",
    "content = ex_batch['content']\n",
    "wording = ex_batch['wording']\n",
    "normalized_lexical_density = ex_batch['normalized_lexical_density']\n",
    "normalized_spell_checker = ex_batch['normalized_spell_checker']\n",
    "normalized_tf_idf_question_score = ex_batch['normalized_tf_idf_question_score']\n",
    "normalized_avg_word_length = ex_batch['normalized_avg_word_length']\n",
    "normalized_smog_index = ex_batch['normalized_smog_index']\n",
    "normalized_coleman_liau_index = ex_batch['normalized_coleman_liau_index']\n",
    "normalized_flesch_reading_ease = ex_batch['normalized_flesch_reading_ease']\n",
    "\n",
    "features = (normalized_lexical_density.to('cpu'), \\\n",
    "            normalized_spell_checker.to('cpu'), \\\n",
    "            normalized_tf_idf_question_score.to('cpu'), \\\n",
    "            normalized_avg_word_length.to('cpu'), \\\n",
    "            normalized_smog_index.to('cpu'), \\\n",
    "            normalized_coleman_liau_index.to('cpu'), \\\n",
    "            normalized_flesch_reading_ease.to('cpu') \\\n",
    "           )"
   ]
  },
  {
   "cell_type": "code",
   "execution_count": 25,
   "id": "72f85c4d-47fb-42d5-8b08-e90af1199874",
   "metadata": {},
   "outputs": [],
   "source": [
    "# Trace the model\n",
    "traced_model = torch.jit.trace(model.to('cpu'), (embeddings_text.to('cpu'), t_q_a_embeddings.to('cpu'), features))\n",
    "# Save the traced model\n",
    "traced_model.save(\"./out/best_model_script.pt\")"
   ]
  },
  {
   "cell_type": "code",
   "execution_count": 26,
   "id": "7860f40b-e9c7-4f20-9c9f-71ca695f20b7",
   "metadata": {},
   "outputs": [],
   "source": [
    "import math"
   ]
  },
  {
   "cell_type": "code",
   "execution_count": 27,
   "id": "70ad3e0e-5421-4bf2-9b25-6a77b4c40f33",
   "metadata": {},
   "outputs": [],
   "source": [
    "def t_round(x, decimals = 3):\n",
    "    multiplicator = 10**decimals\n",
    "    return torch.round(x * 1000) / 1000"
   ]
  },
  {
   "cell_type": "code",
   "execution_count": 29,
   "id": "8782aac0-bd1d-433b-b849-f4b784bb41ba",
   "metadata": {},
   "outputs": [
    {
     "name": "stdout",
     "output_type": "stream",
     "text": [
      "[-0.691 => -1.002 = -0.311] \t | \t [-0.646 =>  0.468 =  1.113]\n",
      "[-0.910 => -0.126 =  0.784] \t | \t [-0.901 => -1.050 = -0.150]\n",
      "[-1.082 => -1.547 = -0.465] \t | \t [-1.063 => -1.461 = -0.398]\n",
      "[ 1.338 =>  1.526 =  0.187] \t | \t [ 0.937 =>  0.167 = -0.770]\n",
      "[-0.870 => -0.382 =  0.488] \t | \t [-0.920 => -1.795 = -0.875]\n",
      "[-0.906 => -0.981 = -0.075] \t | \t [-0.977 => -1.549 = -0.572]\n",
      "[-0.511 => -0.382 =  0.128] \t | \t [-0.464 => -1.795 = -1.331]\n",
      "[ 1.305 =>  1.830 =  0.525] \t | \t [ 1.122 =>  2.429 =  1.307]\n",
      "[-0.975 => -0.783 =  0.193] \t | \t [-0.910 => -0.246 =  0.664]\n",
      "[-0.676 => -1.356 = -0.680] \t | \t [-0.812 => -0.956 = -0.144]\n",
      "[-0.218 =>  0.623 =  0.840] \t | \t [-0.170 =>  0.035 =  0.205]\n",
      "[ 0.723 =>  0.698 = -0.025] \t | \t [ 0.775 =>  0.333 = -0.442]\n",
      "[-1.065 => -1.264 = -0.199] \t | \t [-1.053 => -1.505 = -0.452]\n",
      "[-0.717 => -0.974 = -0.257] \t | \t [-0.613 => -0.751 = -0.138]\n",
      "[-0.097 => -0.002 =  0.095] \t | \t [ 0.207 => -0.045 = -0.252]\n",
      "[-0.318 =>  0.206 =  0.524] \t | \t [-0.259 =>  0.381 =  0.640]\n",
      "[ 1.028 => -0.072 = -1.101] \t | \t [ 0.779 => -1.555 = -2.333]\n",
      "[-0.707 => -0.302 =  0.405] \t | \t [-0.650 =>  0.078 =  0.728]\n",
      "[ 1.332 =>  0.607 = -0.726] \t | \t [ 1.119 =>  0.882 = -0.237]\n",
      "[ 0.007 =>  0.206 =  0.199] \t | \t [ 0.000 =>  0.381 =  0.380]\n",
      "[ 0.173 =>  0.297 =  0.125] \t | \t [ 0.099 => -0.169 = -0.267]\n",
      "[ 0.920 => -0.382 = -1.303] \t | \t [ 0.486 => -1.795 = -2.281]\n",
      "[-1.029 => -1.547 = -0.518] \t | \t [-1.030 => -1.461 = -0.431]\n",
      "[-0.701 =>  0.174 =  0.874] \t | \t [-0.678 => -1.174 = -0.496]\n"
     ]
    }
   ],
   "source": [
    "tensor1, tensor2 = model(embeddings_text.to('cpu'), t_q_a_embeddings.to('cpu'), features), torch.stack((content, wording), dim=1)\n",
    "\n",
    "\n",
    "for (col1_tensor1, col2_tensor1), (col1_tensor2, col2_tensor2) in zip(tensor1, tensor2):\n",
    "    print(f\"[{col1_tensor1:>6.3f} => {col1_tensor2:>6.3f} = {col1_tensor2-col1_tensor1:>6.3f}] \\t | \\t [{col2_tensor1:>6.3f} => {col2_tensor2:>6.3f} = {col2_tensor2 - col2_tensor1:>6.3f}]\")"
   ]
  },
  {
   "cell_type": "code",
   "execution_count": null,
   "id": "a30afdbd-630e-4182-97e0-9e0174dbe3b7",
   "metadata": {},
   "outputs": [],
   "source": [
    "# [-0.418 => -0.234 =  0.184] \t | \t [-0.422 => -0.390 =  0.032]\n",
    "# [-0.261 => -0.114 =  0.147] \t | \t [-0.298 => -0.193 =  0.105]\n",
    "# [-0.543 => -0.621 = -0.078] \t | \t [-0.391 => -0.668 = -0.277]\n",
    "# [-0.205 => -0.204 =  0.001] \t | \t [-0.242 => -0.573 = -0.331]\n",
    "# [-0.383 => -0.285 =  0.098] \t | \t [-0.383 => -0.318 =  0.065]\n",
    "# [ 0.008 =>  0.095 =  0.087] \t | \t [-0.194 => -0.167 =  0.027]\n",
    "# [-0.041 =>  0.257 =  0.298] \t | \t [-0.188 => -0.151 =  0.037]\n",
    "# [-0.130 => -0.187 = -0.057] \t | \t [-0.060 =>  0.044 =  0.104]\n",
    "# [-0.370 => -0.464 = -0.094] \t | \t [-0.374 => -0.640 = -0.266]\n",
    "# [-0.434 =>  0.341 =  0.775] \t | \t [-0.396 => -0.182 =  0.214]\n",
    "# [-0.757 => -0.849 = -0.092] \t | \t [-0.694 => -0.820 = -0.126]\n",
    "# [ 0.091 =>  0.250 =  0.159] \t | \t [ 0.057 =>  0.265 =  0.208]"
   ]
  },
  {
   "cell_type": "markdown",
   "id": "f58a7665-b682-436b-a62e-a0365521f75a",
   "metadata": {},
   "source": [
    "## Load the Traced Model"
   ]
  },
  {
   "cell_type": "code",
   "execution_count": 41,
   "id": "113464e4-6ea3-4ce7-9fd0-2b4074602278",
   "metadata": {},
   "outputs": [],
   "source": [
    "loaded_model = torch.jit.load(\"./out/best_model_script.pt\").to(device)"
   ]
  },
  {
   "cell_type": "code",
   "execution_count": 42,
   "id": "c45cdfba-440d-4de0-ac11-22382d876f89",
   "metadata": {},
   "outputs": [],
   "source": [
    "features = (normalized_lexical_density.to(device), \\\n",
    "            normalized_spell_checker.to(device), \\\n",
    "            normalized_tf_idf_question_score.to(device), \\\n",
    "            normalized_avg_word_length.to(device), \\\n",
    "            normalized_smog_index.to(device), \\\n",
    "            normalized_coleman_liau_index.to(device), \\\n",
    "            normalized_flesch_reading_ease.to(device) \\\n",
    "           )"
   ]
  },
  {
   "cell_type": "code",
   "execution_count": 43,
   "id": "c66825f1-b925-463f-bec3-f5a3b20646b9",
   "metadata": {},
   "outputs": [
    {
     "data": {
      "text/plain": [
       "tensor([[-6.9140e-01, -6.4572e-01],\n",
       "        [-9.0999e-01, -9.0071e-01],\n",
       "        [-1.0820e+00, -1.0633e+00],\n",
       "        [ 1.3382e+00,  9.3653e-01],\n",
       "        [-8.6997e-01, -9.2039e-01],\n",
       "        [-9.0580e-01, -9.7705e-01],\n",
       "        [-5.1064e-01, -4.6428e-01],\n",
       "        [ 1.3050e+00,  1.1221e+00],\n",
       "        [-9.7545e-01, -9.1025e-01],\n",
       "        [-6.7576e-01, -8.1222e-01],\n",
       "        [-2.1768e-01, -1.7005e-01],\n",
       "        [ 7.2287e-01,  7.7470e-01],\n",
       "        [-1.0649e+00, -1.0531e+00],\n",
       "        [-7.1711e-01, -6.1301e-01],\n",
       "        [-9.7254e-02,  2.0675e-01],\n",
       "        [-3.1803e-01, -2.5916e-01],\n",
       "        [ 1.0284e+00,  7.7869e-01],\n",
       "        [-7.0704e-01, -6.5048e-01],\n",
       "        [ 1.3324e+00,  1.1191e+00],\n",
       "        [ 6.5655e-03,  2.6071e-04],\n",
       "        [ 1.7251e-01,  9.8680e-02],\n",
       "        [ 9.2027e-01,  4.8555e-01],\n",
       "        [-1.0288e+00, -1.0299e+00],\n",
       "        [-7.0067e-01, -6.7806e-01]], device='cuda:0', grad_fn=<CatBackward0>)"
      ]
     },
     "execution_count": 43,
     "metadata": {},
     "output_type": "execute_result"
    }
   ],
   "source": [
    "loaded_model(embeddings_text.to(device), t_q_a_embeddings.to(device), features)"
   ]
  },
  {
   "cell_type": "code",
   "execution_count": 50,
   "id": "2e2af4b4-9728-46ab-974c-cc7ec23224bb",
   "metadata": {},
   "outputs": [],
   "source": [
    "def test_model():\n",
    "    test_batches = dataset.get_batch('test')\n",
    "    list_mcrmse = []\n",
    "    list_outputs = []\n",
    "    list_targets = []\n",
    "    loaded_model2 = loaded_model.to('cpu')\n",
    "    for index, test_batch in enumerate(test_batches):\n",
    "        print(f\"\\r [{index}/{len(dataset.test_data) // BATCH_SIZE}]\", end=\"\")\n",
    "        \n",
    "        t_q_a_embeddings = test_batch['t_q_a_embeddings']\n",
    "        embeddings_text = test_batch['embeddings_text']\n",
    "        content = test_batch['content']\n",
    "        wording = test_batch['wording']\n",
    "        normalized_lexical_density = test_batch['normalized_lexical_density']\n",
    "        normalized_spell_checker = test_batch['normalized_spell_checker']\n",
    "        normalized_tf_idf_question_score = test_batch['normalized_tf_idf_question_score']\n",
    "        normalized_avg_word_length = test_batch['normalized_avg_word_length']\n",
    "        normalized_smog_index = test_batch['normalized_smog_index']\n",
    "        normalized_coleman_liau_index = test_batch['normalized_coleman_liau_index']\n",
    "        normalized_flesch_reading_ease = test_batch['normalized_flesch_reading_ease']\n",
    "        \n",
    "        features = (normalized_lexical_density.to('cpu'), \\\n",
    "                    normalized_spell_checker.to('cpu'), \\\n",
    "                    normalized_tf_idf_question_score.to('cpu'), \\\n",
    "                    normalized_avg_word_length.to('cpu'), \\\n",
    "                    normalized_smog_index.to('cpu'), \\\n",
    "                    normalized_coleman_liau_index.to('cpu'), \\\n",
    "                    normalized_flesch_reading_ease.to('cpu') \\\n",
    "                   )\n",
    "        outputs = loaded_model2(embeddings_text.to('cpu'), t_q_a_embeddings.to('cpu'), features)\n",
    "        targets = torch.stack(\n",
    "            (\n",
    "                content,\n",
    "                wording\n",
    "            ), dim=1).to('cpu')\n",
    "        \n",
    "        val_mcrmse = MCRMSE(targets, outputs.to('cpu'))\n",
    "        list_mcrmse.append(val_mcrmse.item())\n",
    "        list_outputs += outputs.detach().cpu().numpy().tolist()\n",
    "        list_targets += targets.detach().cpu().numpy().tolist()\n",
    "    print()\n",
    "    return list_mcrmse, list_outputs, list_targets\n"
   ]
  },
  {
   "cell_type": "code",
   "execution_count": 51,
   "id": "36518bbf-1146-482f-a148-3ee4f626860c",
   "metadata": {},
   "outputs": [
    {
     "name": "stdout",
     "output_type": "stream",
     "text": [
      " [35/35]\n"
     ]
    }
   ],
   "source": [
    "list_mcrmse, list_pred, list_targets = test_model()"
   ]
  },
  {
   "cell_type": "code",
   "execution_count": 52,
   "id": "a6b145c5-1765-41d0-aa6a-38a0c34a8a03",
   "metadata": {},
   "outputs": [
    {
     "data": {
      "text/plain": [
       "(860, 2, 860, 2)"
      ]
     },
     "execution_count": 52,
     "metadata": {},
     "output_type": "execute_result"
    }
   ],
   "source": [
    "len(list_pred), len(list_pred[0]), len(list_targets), len(list_targets[0])"
   ]
  },
  {
   "cell_type": "code",
   "execution_count": 53,
   "id": "df9b0f83-950b-4fb2-97cb-04c1fdbaadd1",
   "metadata": {
    "scrolled": true
   },
   "outputs": [],
   "source": [
    "def cal_accu(pred, real):\n",
    "    predicted_labels = torch.argmax(pred, dim=1)\n",
    "\n",
    "    # Get the true labels\n",
    "    true_labels = torch.argmax(real, dim=1)\n",
    "    \n",
    "    # Calculate the number of correct predictions\n",
    "    correct = (predicted_labels == true_labels).sum().item()\n",
    "    \n",
    "    # Calculate accuracy\n",
    "    accuracy = correct / pred.size(0) * 100  # pred.size(0) gives the batch size\n",
    "    \n",
    "    print(f\"Accuracy: {accuracy}%\")"
   ]
  },
  {
   "cell_type": "code",
   "execution_count": 54,
   "id": "b56ad30f-6e7f-4f70-b3a6-ec631fd12831",
   "metadata": {},
   "outputs": [
    {
     "name": "stdout",
     "output_type": "stream",
     "text": [
      "Accuracy: 61.395348837209305%\n"
     ]
    }
   ],
   "source": [
    "cal_accu(torch.tensor(list_pred), torch.tensor(list_targets))"
   ]
  },
  {
   "cell_type": "markdown",
   "id": "b2b1ca51-515b-483c-ae92-3ac33f2f54a8",
   "metadata": {},
   "source": [
    "Accuracy: 69.65116279069767%"
   ]
  },
  {
   "cell_type": "code",
   "execution_count": 55,
   "id": "ae610d03-9a00-4b4f-87b6-2de99bb9ef8b",
   "metadata": {},
   "outputs": [
    {
     "data": {
      "text/plain": [
       "0.6075288446413146"
      ]
     },
     "execution_count": 55,
     "metadata": {},
     "output_type": "execute_result"
    }
   ],
   "source": [
    "import math\n",
    "sum(list_mcrmse) / len(list_mcrmse)"
   ]
  },
  {
   "cell_type": "markdown",
   "id": "4fe2b692-f8dd-4f68-aa6a-4b56c9781cce",
   "metadata": {},
   "source": [
    "0.1883068767686685"
   ]
  },
  {
   "cell_type": "code",
   "execution_count": 56,
   "id": "83e6baac-3699-4602-ac14-78a704a8a08e",
   "metadata": {},
   "outputs": [
    {
     "data": {
      "image/png": "[encoded data removed]",
      "text/plain": [
       "<Figure size 640x480 with 1 Axes>"
      ]
     },
     "metadata": {},
     "output_type": "display_data"
    }
   ],
   "source": [
    "plt.ioff()  # Turn off interactive mode\n",
    "plt.plot(list_mcrmse)\n",
    "\n",
    "# Setting axes labels and title\n",
    "plt.xlabel('X-axis Label')\n",
    "plt.ylabel('Y-axis Label')\n",
    "plt.title('Plot Title')\n",
    "# Setting ticks explicitly\n",
    "plt.tick_params(axis='both', labelcolor='black', labelsize='medium')\n",
    "\n",
    "plt.draw()  # Explicitly redraw the figure\n",
    "plt.show()"
   ]
  },
  {
   "cell_type": "code",
   "execution_count": null,
   "id": "2a4c3179-2251-4bd1-8f2d-6b83b13f9879",
   "metadata": {},
   "outputs": [],
   "source": []
  }
 ],
 "metadata": {
  "kernelspec": {
   "display_name": "Python 3 (ipykernel)",
   "language": "python",
   "name": "python3"
  },
  "language_info": {
   "codemirror_mode": {
    "name": "ipython",
    "version": 3
   },
   "file_extension": ".py",
   "mimetype": "text/x-python",
   "name": "python",
   "nbconvert_exporter": "python",
   "pygments_lexer": "ipython3",
   "version": "3.11.2"
  }
 },
 "nbformat": 4,
 "nbformat_minor": 5
}
