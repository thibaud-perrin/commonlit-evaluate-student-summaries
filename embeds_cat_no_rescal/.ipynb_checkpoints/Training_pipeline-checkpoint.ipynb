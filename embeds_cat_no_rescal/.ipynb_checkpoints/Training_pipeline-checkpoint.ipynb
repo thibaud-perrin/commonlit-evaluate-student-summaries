{
 "cells": [
  {
   "cell_type": "markdown",
   "id": "0a14353b-46a1-4c60-9ee7-080174af9aa7",
   "metadata": {},
   "source": [
    "# Sentence Transformer"
   ]
  },
  {
   "cell_type": "code",
   "execution_count": 1,
   "id": "9c8f10e2-148a-44e1-8cf6-748a75601885",
   "metadata": {},
   "outputs": [],
   "source": [
    "import copy\n",
    "import numpy as np\n",
    "import pandas as pd\n",
    "\n",
    "import torch\n",
    "import torch.nn as nn\n",
    "import torch.nn.functional as F\n",
    "import torch.optim as optim\n",
    "from torch.utils.data import Dataset, DataLoader\n",
    "from datasets import load_from_disk\n",
    "\n",
    "import matplotlib.pyplot as plt \n",
    "import seaborn as sns\n",
    "%matplotlib inline"
   ]
  },
  {
   "cell_type": "markdown",
   "id": "e214c448-b292-4cd7-92e6-740be40bc11d",
   "metadata": {},
   "source": [
    "## GPU"
   ]
  },
  {
   "cell_type": "code",
   "execution_count": 2,
   "id": "959cac82-9842-4968-9597-4c8324936e66",
   "metadata": {},
   "outputs": [
    {
     "name": "stdout",
     "output_type": "stream",
     "text": [
      "zsh:1: command not found: nvidia-smi\n"
     ]
    }
   ],
   "source": [
    "!nvidia-smi"
   ]
  },
  {
   "cell_type": "code",
   "execution_count": 3,
   "id": "eceddb8b-556e-4e20-8137-a4e77efa0490",
   "metadata": {},
   "outputs": [
    {
     "data": {
      "text/plain": [
       "device(type='cpu')"
      ]
     },
     "execution_count": 3,
     "metadata": {},
     "output_type": "execute_result"
    }
   ],
   "source": [
    "# Check if CUDA is available, else use CPU\n",
    "device = torch.device('cuda' if torch.cuda.is_available() else 'cpu')\n",
    "device"
   ]
  },
  {
   "cell_type": "markdown",
   "id": "c5e1345e-a55c-4636-b5ee-1078da5d812d",
   "metadata": {},
   "source": [
    "### Hyperparameters"
   ]
  },
  {
   "cell_type": "code",
   "execution_count": 4,
   "id": "05b6a852-9309-4923-848c-1eda295814ed",
   "metadata": {},
   "outputs": [],
   "source": [
    "# Hyperparameters\n",
    "LEARNING_RATE = 0.000005\n",
    "BATCH_SIZE = 24\n",
    "EPOCHS = 200"
   ]
  },
  {
   "cell_type": "markdown",
   "id": "a2aa67ca-52c8-409e-8862-dac0997bafe0",
   "metadata": {},
   "source": [
    "## Path"
   ]
  },
  {
   "cell_type": "code",
   "execution_count": null,
   "id": "dac6f086-4f3e-48ea-b64b-f78b9f8acb94",
   "metadata": {},
   "outputs": [],
   "source": [
    "OUT_PATH = '../out'\n",
    "DATA_PATH = '../data'"
   ]
  },
  {
   "cell_type": "markdown",
   "id": "a1fd958f-82f1-4f6b-9a00-97c41e225c30",
   "metadata": {},
   "source": [
    "## Generate dataset and batch"
   ]
  },
  {
   "cell_type": "code",
   "execution_count": 5,
   "id": "fd6d7c30-5744-4c0d-824d-dcc667e50a9f",
   "metadata": {},
   "outputs": [],
   "source": [
    "class PromptDataset(Dataset):\n",
    "\n",
    "    def __init__(self, dataset, device):\n",
    "        self.dataset = dataset\n",
    "        self.device = device\n",
    "\n",
    "    def deserialize_array(self, binary_string, dtype, shape):\n",
    "        return np.frombuffer(binary_string, dtype=dtype).reshape(shape)\n",
    "\n",
    "    def __getitem__(self, index):\n",
    "        data = self.dataset[index]\n",
    "        # retrieve values\n",
    "        student_id = data['student_id']\n",
    "        prompt_id = data['prompt_id']\n",
    "        embeddings_question = torch.tensor(self.deserialize_array(data['embeddings_question'], np.float32, (768,))).to(self.device)\n",
    "        embeddings_text = torch.tensor(self.deserialize_array(data['embeddings_text'], np.float32, (768,))).to(self.device)\n",
    "        text = torch.tensor(self.deserialize_array(data['text'], np.float32, (768,))).to(self.device)\n",
    "        content = torch.tensor(data['content']).to(self.device)\n",
    "        wording = torch.tensor(data['wording']).to(self.device)\n",
    "        normalized_lexical_density = torch.tensor(data['normalized_lexical_density']).unsqueeze(0).to(self.device)\n",
    "        normalized_spell_checker = torch.tensor(data['normalized_spell_checker']).unsqueeze(0).to(self.device)\n",
    "        normalized_tf_idf_question_score = torch.tensor(data['normalized_tf_idf_question_score']).unsqueeze(0).to(self.device)\n",
    "        normalized_avg_word_length = torch.tensor(data['normalized_avg_word_length']).unsqueeze(0).to(self.device)\n",
    "        normalized_smog_index = torch.tensor(data['normalized_smog_index']).unsqueeze(0).to(self.device)\n",
    "        normalized_coleman_liau_index = torch.tensor(data['normalized_coleman_liau_index']).unsqueeze(0).to(self.device)\n",
    "        normalized_flesch_reading_ease = torch.tensor(data['normalized_flesch_reading_ease']).unsqueeze(0).to(self.device)\n",
    "        \n",
    "        return {\n",
    "            'student_id': student_id,\n",
    "            'prompt_id': prompt_id,\n",
    "            'embeddings_question': embeddings_question,\n",
    "            'embeddings_text': embeddings_text,\n",
    "            'text': text,\n",
    "            'content': content,\n",
    "            'wording': wording,\n",
    "            'normalized_lexical_density': normalized_lexical_density,\n",
    "            'normalized_spell_checker': normalized_spell_checker,\n",
    "            'normalized_tf_idf_question_score': normalized_tf_idf_question_score,\n",
    "            'normalized_avg_word_length': normalized_avg_word_length,\n",
    "            'normalized_smog_index': normalized_smog_index,\n",
    "            'normalized_coleman_liau_index': normalized_coleman_liau_index,\n",
    "            'normalized_flesch_reading_ease': normalized_flesch_reading_ease,\n",
    "        }\n",
    "\n",
    "    def __len__(self) -> int :\n",
    "        return self.dataset.num_rows"
   ]
  },
  {
   "cell_type": "code",
   "execution_count": 6,
   "id": "843e316c-df6c-485f-8561-6f890c556f87",
   "metadata": {},
   "outputs": [],
   "source": [
    "class DataLoaderFactory():\n",
    "\n",
    "    def __init__(self, path:str = f\"{DATA_PATH}/hugging_face\", batch_size = 12, device = 'cpu'):\n",
    "        self.batch_size = batch_size\n",
    "        self.dataset = load_from_disk(path, keep_in_memory=True)\n",
    "        self.device = device\n",
    "\n",
    "        print(\"1. Loading dataset: ...\", end=\"\")\n",
    "        dataset = load_from_disk(path, keep_in_memory=True)\n",
    "        print(\"\\r1. Loading dataset: done ✔️\")\n",
    "\n",
    "        print(\"2. Split datasets: ...\", end=\"\")\n",
    "        train_validation_splits = self.dataset['train'].train_test_split(test_size=0.3)\n",
    "        validation_test_splits = train_validation_splits['test'].train_test_split(test_size=0.4)\n",
    "        print(\"\\r2. Preprocess datasets: done ✔️\")\n",
    "\n",
    "        print(\"3. Split datasets: ...\", end=\"\")\n",
    "        self.train_data = PromptDataset(train_validation_splits['train'], self.device)\n",
    "        self.val_data = PromptDataset(validation_test_splits['train'], self.device)\n",
    "        self.test_data = PromptDataset(validation_test_splits['test'], self.device)\n",
    "        print(\"\\r3. Split datasets: done ✔️\")\n",
    "\n",
    "        self.dataloader_train = DataLoader(self.train_data, batch_size=batch_size, shuffle=True)\n",
    "        self.dataloader_val = DataLoader(self.val_data, batch_size=batch_size, shuffle=True)\n",
    "        self.dataloader_test = DataLoader(self.test_data, batch_size=batch_size, shuffle=True)\n",
    "    \n",
    "    \n",
    "    def __len__(self) -> int :\n",
    "        print(\"\\033[95m\\033[1m\\033[4mNumber of data by datasets splits\\033[0m\")\n",
    "        print(f\"Train\\t\\t: {len(self.train_data)}\\t-> {len(self.train_data)/self.batch_size}\")\n",
    "        print(f\"Validation\\t: {len(self.val_data)}\\t\\t-> {len(self.val_data)/self.batch_size}\")\n",
    "        print(f\"Test\\t\\t: {len(self.test_data)}\\t\\t-> {len(self.test_data)/self.batch_size}\")\n",
    "        total = len(self.train_data) + len(self.val_data)\n",
    "        print(f\"Total\\t\\t: {total}\")\n",
    "        return total\n",
    "\n",
    "    def get_batch(self, split):\n",
    "        # choose the correct dataloader\n",
    "        if split == 'train':\n",
    "            dataloader = self.dataloader_train\n",
    "        elif split == 'val':\n",
    "            dataloader = self.dataloader_val\n",
    "        else:\n",
    "            dataloader = self.dataloader_test\n",
    "\n",
    "        for batch in dataloader:\n",
    "            # Move tensors to device\n",
    "            batch_on_device = {k: v for k, v in batch.items()}\n",
    "            yield batch_on_device"
   ]
  },
  {
   "cell_type": "markdown",
   "id": "d18f4fc8-1830-4fab-ae74-d12fb945f374",
   "metadata": {},
   "source": [
    "### Load the dataset"
   ]
  },
  {
   "cell_type": "code",
   "execution_count": 7,
   "id": "f67182de-ccb8-4f77-87e0-5c88be245435",
   "metadata": {},
   "outputs": [
    {
     "name": "stdout",
     "output_type": "stream",
     "text": [
      "1. Loading dataset: done ✔️\n",
      "2. Preprocess datasets: done ✔️\n",
      "3. Split datasets: done ✔️\n",
      "\u001b[95m\u001b[1m\u001b[4mNumber of data by datasets splits\u001b[0m\n",
      "Train\t\t: 5015\t-> 208.95833333333334\n",
      "Validation\t: 1290\t\t-> 53.75\n",
      "Test\t\t: 860\t\t-> 35.833333333333336\n",
      "Total\t\t: 6305\n"
     ]
    },
    {
     "data": {
      "text/plain": [
       "6305"
      ]
     },
     "execution_count": 7,
     "metadata": {},
     "output_type": "execute_result"
    }
   ],
   "source": [
    "dataset = DataLoaderFactory(device=device, batch_size=BATCH_SIZE)\n",
    "len(dataset)"
   ]
  },
  {
   "cell_type": "markdown",
   "id": "1c5e512f-1fad-4c54-80c5-c0500a25f086",
   "metadata": {},
   "source": [
    "### Testing the dataset"
   ]
  },
  {
   "cell_type": "code",
   "execution_count": 8,
   "id": "fded6cee-24b5-4d28-a3df-a857fd1336c7",
   "metadata": {},
   "outputs": [],
   "source": [
    "batch = dataset.get_batch('train')\n",
    "nb = next(batch)"
   ]
  },
  {
   "cell_type": "code",
   "execution_count": 9,
   "id": "1ae8f919-4ba2-46be-be03-d47b248ddd70",
   "metadata": {},
   "outputs": [
    {
     "name": "stdout",
     "output_type": "stream",
     "text": [
      "student_id:              24\n",
      "prompt_id:               24\n",
      "embeddings_question:     torch.Size([24, 768])\n",
      "embeddings_text:         torch.Size([24, 768])\n",
      "text:                    torch.Size([24, 768])\n",
      "content:                 torch.Size([24])\n",
      "wording:                 torch.Size([24])\n",
      "normalized_lexical_density:torch.Size([24, 1])\n",
      "normalized_spell_checker:torch.Size([24, 1])\n",
      "normalized_tf_idf_question_score:torch.Size([24, 1])\n",
      "normalized_avg_word_length:torch.Size([24, 1])\n",
      "normalized_smog_index:   torch.Size([24, 1])\n",
      "normalized_coleman_liau_index:torch.Size([24, 1])\n",
      "normalized_flesch_reading_ease:torch.Size([24, 1])\n"
     ]
    }
   ],
   "source": [
    "print(f\"{'student_id:':<25}{len(nb['student_id'])}\")\n",
    "print(f\"{'prompt_id:':<25}{len(nb['prompt_id'])}\")\n",
    "print(f\"{'embeddings_question:':<25}{nb['embeddings_question'].shape}\")\n",
    "print(f\"{'embeddings_text:':<25}{nb['embeddings_text'].shape}\")\n",
    "print(f\"{'text:':<25}{nb['text'].shape}\")\n",
    "print(f\"{'content:':<25}{nb['content'].shape}\")\n",
    "print(f\"{'wording:':<25}{nb['wording'].shape}\")\n",
    "print(f\"{'normalized_lexical_density:':<25}{nb['normalized_lexical_density'].shape}\")\n",
    "print(f\"{'normalized_spell_checker:':<25}{nb['normalized_spell_checker'].shape}\")\n",
    "print(f\"{'normalized_tf_idf_question_score:':<25}{nb['normalized_tf_idf_question_score'].shape}\")\n",
    "print(f\"{'normalized_avg_word_length:':<25}{nb['normalized_avg_word_length'].shape}\")\n",
    "print(f\"{'normalized_smog_index:':<25}{nb['normalized_smog_index'].shape}\")\n",
    "print(f\"{'normalized_coleman_liau_index:':<25}{nb['normalized_coleman_liau_index'].shape}\")\n",
    "print(f\"{'normalized_flesch_reading_ease:':<25}{nb['normalized_flesch_reading_ease'].shape}\")"
   ]
  },
  {
   "cell_type": "markdown",
   "id": "420d85e7-b1e4-4d22-b043-ee9374286d04",
   "metadata": {},
   "source": [
    "## Training model"
   ]
  },
  {
   "cell_type": "markdown",
   "id": "c0c70332-9c16-499c-9fc3-734f72e2ecf4",
   "metadata": {},
   "source": [
    "1. **Input Layer:** Accept the embeddings of the question, text, and answer. This would result in three separate input layers, each of dimension `[batch_size, embedding_size]`.\n",
    "2. **Concatenate Layer:** Concatenate the embeddings along the feature axis. This results in `[batch_size, 3 * embedding_size]` dimensions.\n",
    "3. **Dense Layers:** Add a couple of Dense layers with suitable dropout layers in between for regularization. For instance:\n",
    "    - Dense layer with `1024` units, `ReLU` activation.\n",
    "    - Dropout layer with rate `0.5`.\n",
    "    - Dense layer with `512` units, ReLU activation.\n",
    "    - Another Dropout layer with rate `0.5`.\n",
    "4. **Output Layer:** Single Dense layer with `2` units (since you want two values between -1 and 1) and a `tanh` activation function.\n",
    "5. **Loss Function:** If the output of your model is a vector with two values between -1 and 1, then you're essentially dealing with multi-output regression. You can use `Mean Squared Error` or `Mean Absolute Error`, but it'll be applied to each output.\n",
    "6. **Optimizer:** Remains the same; options include `Adam`, `RMSprop`, and `SGD`."
   ]
  },
  {
   "cell_type": "markdown",
   "id": "e151c3c0-9d49-423a-9347-e7ed526bdf18",
   "metadata": {},
   "source": [
    "### Define the Model"
   ]
  },
  {
   "cell_type": "code",
   "execution_count": 10,
   "id": "2c51e654-671e-496f-aa2d-c6668fdd8caf",
   "metadata": {},
   "outputs": [],
   "source": [
    "# # Define the Model\n",
    "# class QA_Score_Model(nn.Module):\n",
    "#     def __init__(self, input_dim=3*768+7, dropout_rate=0.5):\n",
    "#         super(QA_Score_Model, self).__init__()\n",
    "\n",
    "#         # Dense Layers\n",
    "#         self.fc1 = nn.Linear(input_dim, 1024)\n",
    "#         self.fc2 = nn.Linear(1024, 512)\n",
    "#         self.fc3 = nn.Linear(512, 2)  # Output 2 values for each instance\n",
    "\n",
    "#         # Dropout\n",
    "#         self.dropout = nn.Dropout(dropout_rate)\n",
    "\n",
    "#     def forward(self, x):\n",
    "#         x = F.relu(self.fc1(x))\n",
    "#         if self.training:\n",
    "#             x = self.dropout(x)\n",
    "#         x = F.relu(self.fc2(x))\n",
    "#         if self.training:\n",
    "#             x = self.dropout(x)\n",
    "#         x = torch.tanh(self.fc3(x))  # tanh to get outputs in range [-1, 1]\n",
    "#         return x"
   ]
  },
  {
   "cell_type": "code",
   "execution_count": 11,
   "id": "3cd958cb-ca28-4a23-9910-93c28ac51584",
   "metadata": {},
   "outputs": [],
   "source": [
    "class QA_Score_Model(nn.Module):\n",
    "    def __init__(self, embedding_dim, dropout_rate=0.5):\n",
    "        super(QA_Score_Model, self).__init__()\n",
    "\n",
    "        # Embedding processors\n",
    "        self.fc_text_question_answer = nn.Linear(embedding_dim * 3, 256*3)\n",
    "        # self.fc_question = nn.Linear(embedding_dim, 256)\n",
    "        # self.fc_answer = nn.Linear(embedding_dim, 256)\n",
    "\n",
    "        # Scalar Processors\n",
    "        self.fc_lexical = nn.Linear(1, 16)\n",
    "        self.fc_spell = nn.Linear(1, 16)\n",
    "        self.fc_tfidf = nn.Linear(1, 16)\n",
    "        self.fc_avg_word_length = nn.Linear(1, 16)\n",
    "        self.fc_smog = nn.Linear(1, 16)\n",
    "        self.fc_coleman = nn.Linear(1, 16)\n",
    "        self.fc_flesch = nn.Linear(1, 16)\n",
    "\n",
    "        # Dropout layers\n",
    "        self.dropout = nn.Dropout(dropout_rate)\n",
    "\n",
    "        # Shared Dense Layers\n",
    "        self.fc1 = nn.Linear(256*3 + 16*7, 512)\n",
    "        self.fc2 = nn.Linear(512, 256)\n",
    "        \n",
    "        # Output Layers\n",
    "        self.out_content = nn.Linear(256, 1)\n",
    "        self.out_wording = nn.Linear(256, 1)\n",
    "        \n",
    "    def forward(self, text_question_answer, features):\n",
    "        lexical, spell, tfidf, avg_word_length, smog, coleman, flesch = features\n",
    "        # Pass through convolutional layers\n",
    "        x_text_question_answer = F.relu(self.fc_text_question_answer(text_question_answer))\n",
    "        # x_question = F.relu(self.fc_question(question))\n",
    "        # x_answer = F.relu(self.fc_answer(answer))\n",
    "\n",
    "        # Pass through scalar processors\n",
    "        x_lexical = F.relu(self.fc_lexical(lexical))\n",
    "        x_spell = F.relu(self.fc_spell(spell))\n",
    "        x_tfidf = F.relu(self.fc_tfidf(tfidf))\n",
    "        x_avg_word_length = F.relu(self.fc_avg_word_length(avg_word_length))\n",
    "        x_smog = F.relu(self.fc_smog(smog))\n",
    "        x_coleman = F.relu(self.fc_coleman(coleman))\n",
    "        x_flesch = F.relu(self.fc_flesch(flesch))\n",
    "        \n",
    "        # Concatenate\n",
    "        x = torch.cat((x_text_question_answer, x_lexical, x_spell, x_tfidf, x_avg_word_length, x_smog, x_coleman, x_flesch), dim=1)\n",
    "        \n",
    "        # Pass through shared dense layers with dropout\n",
    "        x = F.relu(self.fc1(x))\n",
    "        x = self.dropout(x)\n",
    "        x = F.relu(self.fc2(x))\n",
    "        x = self.dropout(x)\n",
    "        \n",
    "        # Output\n",
    "        content = self.out_content(x)\n",
    "        wording = self.out_wording(x)\n",
    "        \n",
    "        return torch.cat((content, wording), dim=1).to(device)"
   ]
  },
  {
   "cell_type": "markdown",
   "id": "aa399d64-ba3a-41b4-ae4d-d699d3a6be37",
   "metadata": {},
   "source": [
    "### MCRMSE loss"
   ]
  },
  {
   "cell_type": "code",
   "execution_count": 12,
   "id": "4dbcf449-f3f2-4cf6-a2e5-6ff55b88e955",
   "metadata": {},
   "outputs": [],
   "source": [
    "class MCRMSELoss(nn.Module):\n",
    "    def __init__(self):\n",
    "        super(MCRMSELoss, self).__init__()\n",
    "\n",
    "    def forward(self, y_true, y_pred):\n",
    "        colwise_mse = torch.mean(torch.square(y_true - y_pred), dim=0)\n",
    "        return torch.mean(torch.sqrt(colwise_mse), dim=0)"
   ]
  },
  {
   "cell_type": "code",
   "execution_count": 13,
   "id": "70e23974-ac03-4d23-a34a-251cf416c730",
   "metadata": {},
   "outputs": [],
   "source": [
    "def MCRMSE(targets, predictions):\n",
    "    \"\"\"\n",
    "    Compute the Mean Columnwise Root Mean Squared Error.\n",
    "    \n",
    "    Parameters:\n",
    "    - targets: Actual target values\n",
    "    - predictions: Model's predictions\n",
    "    \n",
    "    Returns:\n",
    "    - Mean Columnwise RMSE\n",
    "    \"\"\"\n",
    "    # Compute squared error\n",
    "    mse = torch.mean((targets - predictions) ** 2, dim=0)\n",
    "    \n",
    "    # Take square root of each column's MSE\n",
    "    rmse = torch.sqrt(mse)\n",
    "    \n",
    "    # Compute mean of RMSE across all columns\n",
    "    mcrmse = torch.mean(rmse)\n",
    "    \n",
    "    return mcrmse"
   ]
  },
  {
   "cell_type": "markdown",
   "id": "357d2d50-f523-4794-b993-49bf5497a153",
   "metadata": {},
   "source": [
    "### Create an instance of the model, loss function and the optimizer"
   ]
  },
  {
   "cell_type": "code",
   "execution_count": 14,
   "id": "11708a30-f4f4-41bc-b759-918d56b374a3",
   "metadata": {},
   "outputs": [],
   "source": [
    "# Create an instance of the model, loss function and the optimizer\n",
    "model = QA_Score_Model(768)\n",
    "model = model.to(device)\n",
    "criterion = MCRMSELoss()  # Mean Absolute Error less sensitive to outliers # MSELoss Mean Squared Error Loss\n",
    "# criterion = nn.L1Loss()  # Mean Absolute Error less sensitive to outliers # MSELoss Mean Squared Error Loss\n",
    "optimizer = optim.Adam(model.parameters(), lr=LEARNING_RATE)"
   ]
  },
  {
   "cell_type": "markdown",
   "id": "76493c03-5a20-4658-80c6-31a1bcb5c41f",
   "metadata": {},
   "source": [
    "### Training loop"
   ]
  },
  {
   "cell_type": "code",
   "execution_count": 15,
   "id": "51c3c6ec-b433-4efa-a5a5-8e8324d87836",
   "metadata": {},
   "outputs": [],
   "source": [
    "def training_loop(model, dataset, epoch):\n",
    "    model = model.train()\n",
    "    \n",
    "    total_train_loss = 0.0\n",
    "    # total_train_mcrmse = 0.0\n",
    "    \n",
    "    batchs = dataset.get_batch('train')\n",
    "    \n",
    "    num_train_batches = len(dataset.train_data) // BATCH_SIZE\n",
    "    for i, batch in enumerate(batchs):\n",
    "        # Get the batch data\n",
    "        student_id = batch['student_id']\n",
    "        prompt_id = batch['prompt_id']\n",
    "        embeddings_question = batch['embeddings_question']\n",
    "        embeddings_text = batch['embeddings_text']\n",
    "        embeddings_answer = batch['text']\n",
    "        content = batch['content']\n",
    "        wording = batch['wording']\n",
    "        normalized_lexical_density = batch['normalized_lexical_density']\n",
    "        normalized_spell_checker = batch['normalized_spell_checker']\n",
    "        normalized_tf_idf_question_score = batch['normalized_tf_idf_question_score']\n",
    "        normalized_avg_word_length = batch['normalized_avg_word_length']\n",
    "        normalized_smog_index = batch['normalized_smog_index']\n",
    "        normalized_coleman_liau_index = batch['normalized_coleman_liau_index']\n",
    "        normalized_flesch_reading_ease = batch['normalized_flesch_reading_ease']\n",
    "        \n",
    "        # create input targets\n",
    "        input_data = torch.cat(\n",
    "            (\n",
    "                embeddings_text,\n",
    "                embeddings_question,\n",
    "                embeddings_answer\n",
    "            ), dim=1).to(device)\n",
    "        targets = torch.stack(\n",
    "            (\n",
    "                content,\n",
    "                wording\n",
    "            ), dim=1).to(device)\n",
    "        \n",
    "        # Zero the gradients\n",
    "        optimizer.zero_grad()\n",
    "\n",
    "        # Forward pass\n",
    "        features = (normalized_lexical_density, \\\n",
    "                    normalized_spell_checker, \\\n",
    "                    normalized_tf_idf_question_score, \\\n",
    "                    normalized_avg_word_length, \\\n",
    "                    normalized_smog_index, \\\n",
    "                    normalized_coleman_liau_index, \\\n",
    "                    normalized_flesch_reading_ease \\\n",
    "                   )\n",
    "        outputs = model(input_data, features)\n",
    "\n",
    "        # Loss\n",
    "        loss = criterion(targets, outputs)\n",
    "\n",
    "        # Backward pass and optimization\n",
    "        loss.backward()\n",
    "        optimizer.step()\n",
    "\n",
    "        # Print loss (you might want to print every N batches, not every batch)\n",
    "        print(f\"\\rEpoch [{epoch + 1}/{EPOCHS}], Batch [{i}/{num_train_batches}], Loss: {loss.item()}\", end=\"\")        \n",
    "\n",
    "        total_train_loss += loss.item()\n",
    "        # total_train_mcrmse += eval_metric.item()\n",
    "\n",
    "    avg_train_loss = total_train_loss / num_train_batches\n",
    "    # avg_train_mcrmse = total_train_mcrmse / num_train_batches\n",
    "\n",
    "    # return model, avg_train_loss, avg_train_mcrmse\n",
    "    return model, avg_train_loss"
   ]
  },
  {
   "cell_type": "markdown",
   "id": "3938650b-cf46-4e24-88ea-1d46cc827f3f",
   "metadata": {},
   "source": [
    "### Validation loop"
   ]
  },
  {
   "cell_type": "code",
   "execution_count": 16,
   "id": "50b820d0-8dd1-4292-9806-4d20186bb524",
   "metadata": {},
   "outputs": [],
   "source": [
    "def validation_loop(model, dataset, epoch):\n",
    "    print(f\"\\nValidating...\", end=\"\")\n",
    "    # Validation Evaluation\n",
    "    model = model.eval()  # Set the model to evaluation mode\n",
    "    \n",
    "    total_val_loss = 0.0\n",
    "    # total_val_mcrmse = 0.0\n",
    "    \n",
    "    val_batches = dataset.get_batch('val')\n",
    "    \n",
    "    num_val_batches = len(dataset.val_data) // BATCH_SIZE\n",
    "    with torch.no_grad():  # Disable gradient computations\n",
    "        for i, val_batch in enumerate(val_batches):\n",
    "            student_id = val_batch['student_id']\n",
    "            prompt_id = val_batch['prompt_id']\n",
    "            embeddings_question = val_batch['embeddings_question']\n",
    "            embeddings_text = val_batch['embeddings_text']\n",
    "            embeddings_answer = val_batch['text']\n",
    "            content = val_batch['content']\n",
    "            wording = val_batch['wording']\n",
    "            normalized_lexical_density = val_batch['normalized_lexical_density']\n",
    "            normalized_spell_checker = val_batch['normalized_spell_checker']\n",
    "            normalized_tf_idf_question_score = val_batch['normalized_tf_idf_question_score']\n",
    "            normalized_avg_word_length = val_batch['normalized_avg_word_length']\n",
    "            normalized_smog_index = val_batch['normalized_smog_index']\n",
    "            normalized_coleman_liau_index = val_batch['normalized_coleman_liau_index']\n",
    "            normalized_flesch_reading_ease = val_batch['normalized_flesch_reading_ease']\n",
    "\n",
    "            # Create input\n",
    "            val_input_data = torch.cat(\n",
    "                (\n",
    "                    embeddings_text,\n",
    "                    embeddings_question,\n",
    "                    embeddings_answer\n",
    "                ), dim=1).to(device)\n",
    "            val_targets = torch.stack((content, wording), dim=1).to(device)\n",
    "            \n",
    "            features = (normalized_lexical_density, \\\n",
    "                        normalized_spell_checker, \\\n",
    "                        normalized_tf_idf_question_score, \\\n",
    "                        normalized_avg_word_length, \\\n",
    "                        normalized_smog_index, \\\n",
    "                        normalized_coleman_liau_index, \\\n",
    "                        normalized_flesch_reading_ease \\\n",
    "                       )\n",
    "            # Forward pass\n",
    "            val_outputs = model(val_input_data, features)\n",
    "\n",
    "            # Compute MCRMSE loss\n",
    "            val_loss = criterion(val_targets, val_outputs)\n",
    "\n",
    "            total_val_loss += val_loss.item()\n",
    "\n",
    "    avg_val_loss = total_val_loss / num_val_batches\n",
    "\n",
    "    print(f\"\\rValidation Loss after Epoch {epoch + 1}: {avg_val_loss}\\n\")\n",
    "    \n",
    "    # return avg_val_loss, avg_val_mcrmse\n",
    "    return avg_val_loss"
   ]
  },
  {
   "cell_type": "code",
   "execution_count": 17,
   "id": "892f78e8-72a3-48ab-8deb-d3443311b6e2",
   "metadata": {},
   "outputs": [
    {
     "name": "stdout",
     "output_type": "stream",
     "text": [
      "Epoch [1/200], Batch [208/208], Loss: 0.9547303915023804\n",
      "Validation Loss after Epoch 1: 1.042882944053074\n",
      "\n",
      "Epoch [2/200], Batch [208/208], Loss: 0.9717097282409668\n",
      "Validation Loss after Epoch 2: 1.0337587156385746\n",
      "\n",
      "Epoch [3/200], Batch [208/208], Loss: 1.0435347557067875\n",
      "Validation Loss after Epoch 3: 1.0296814081803807\n",
      "\n",
      "Epoch [4/200], Batch [208/208], Loss: 0.9977941513061523\n",
      "Validation Loss after Epoch 4: 1.0195069526726346\n",
      "\n",
      "Epoch [5/200], Batch [208/208], Loss: 1.1499814987182617\n",
      "Validation Loss after Epoch 5: 1.0065563467313658\n",
      "\n",
      "Epoch [6/200], Batch [208/208], Loss: 0.6325789690017798\n",
      "Validation Loss after Epoch 6: 0.9890769911262224\n",
      "\n",
      "Epoch [7/200], Batch [208/208], Loss: 0.8931311368942261\n",
      "Validation Loss after Epoch 7: 0.9687972304955969\n",
      "\n",
      "Epoch [8/200], Batch [208/208], Loss: 1.0120923519134521\n",
      "Validation Loss after Epoch 8: 0.9450016640267282\n",
      "\n",
      "Epoch [9/200], Batch [208/208], Loss: 0.8497403860092163\n",
      "Validation Loss after Epoch 9: 0.9249938861379083\n",
      "\n",
      "Epoch [10/200], Batch [208/208], Loss: 0.9851047396659851\n",
      "Validation Loss after Epoch 10: 0.8986989259719849\n",
      "\n",
      "Epoch [11/200], Batch [208/208], Loss: 0.8481105566024788\n",
      "Validation Loss after Epoch 11: 0.8652460372672891\n",
      "\n",
      "Epoch [12/200], Batch [208/208], Loss: 0.8642837405204773\n",
      "Validation Loss after Epoch 12: 0.8375811228212321\n",
      "\n",
      "Epoch [13/200], Batch [208/208], Loss: 0.7763185501098633\n",
      "Validation Loss after Epoch 13: 0.8110953119565856\n",
      "\n",
      "Epoch [14/200], Batch [208/208], Loss: 0.8439395427703857\n",
      "Validation Loss after Epoch 14: 0.7882177481111491\n",
      "\n",
      "Epoch [15/200], Batch [208/208], Loss: 0.6709076762199402\n",
      "Validation Loss after Epoch 15: 0.7678422399286954\n",
      "\n",
      "Epoch [16/200], Batch [208/208], Loss: 0.88869357109069825\n",
      "Validation Loss after Epoch 16: 0.7561211147398319\n",
      "\n",
      "Epoch [17/200], Batch [208/208], Loss: 0.8996570110321045\n",
      "Validation Loss after Epoch 17: 0.7442265681500705\n",
      "\n",
      "Epoch [18/200], Batch [208/208], Loss: 0.7398653030395508\n",
      "Validation Loss after Epoch 18: 0.736293263030502\n",
      "\n",
      "Epoch [19/200], Batch [208/208], Loss: 0.5454149246215827\n",
      "Validation Loss after Epoch 19: 0.7316372675715752\n",
      "\n",
      "Epoch [20/200], Batch [208/208], Loss: 0.49225524067878723\n",
      "Validation Loss after Epoch 20: 0.7234242198602209\n",
      "\n",
      "Epoch [21/200], Batch [208/208], Loss: 0.74686282873153693\n",
      "Validation Loss after Epoch 21: 0.7169814885787245\n",
      "\n",
      "Epoch [22/200], Batch [208/208], Loss: 0.7296167612075806\n",
      "Validation Loss after Epoch 22: 0.7161439786542136\n",
      "\n",
      "Epoch [23/200], Batch [208/208], Loss: 0.8322657346725464\n",
      "Validation Loss after Epoch 23: 0.7120307807652455\n",
      "\n",
      "Epoch [24/200], Batch [208/208], Loss: 0.7133128643035889\n",
      "Validation Loss after Epoch 24: 0.7085654724319026\n",
      "\n",
      "Epoch [25/200], Batch [208/208], Loss: 0.58264070749282843\n",
      "Validation Loss after Epoch 25: 0.7028136703203309\n",
      "\n",
      "Epoch [26/200], Batch [208/208], Loss: 0.7144237160682678\n",
      "Validation Loss after Epoch 26: 0.6984336904759677\n",
      "\n",
      "Epoch [27/200], Batch [208/208], Loss: 0.8915427923202515\n",
      "Validation Loss after Epoch 27: 0.6996836493600089\n",
      "\n",
      "Epoch [28/200], Batch [208/208], Loss: 0.6987209320068359\n",
      "Validation Loss after Epoch 28: 0.6960750722660208\n",
      "\n",
      "Epoch [29/200], Batch [208/208], Loss: 0.8219425678253174\n",
      "Validation Loss after Epoch 29: 0.6912650702134618\n",
      "\n",
      "Epoch [30/200], Batch [208/208], Loss: 0.58488309383392333\n",
      "Validation Loss after Epoch 30: 0.6894453122930707\n",
      "\n",
      "Epoch [31/200], Batch [208/208], Loss: 0.68844807147979743\n",
      "Validation Loss after Epoch 31: 0.6844119092203537\n",
      "\n",
      "Epoch [32/200], Batch [208/208], Loss: 0.78446692228317267\n",
      "Validation Loss after Epoch 32: 0.6838101710913316\n",
      "\n",
      "Epoch [33/200], Batch [208/208], Loss: 0.81193846464157177\n",
      "Validation Loss after Epoch 33: 0.6822496073425941\n",
      "\n",
      "Epoch [34/200], Batch [208/208], Loss: 0.62848681211471564\n",
      "Validation Loss after Epoch 34: 0.6769356092192093\n",
      "\n",
      "Epoch [35/200], Batch [208/208], Loss: 0.6497746706008911\n",
      "Validation Loss after Epoch 35: 0.6778265220938988\n",
      "\n",
      "Epoch [36/200], Batch [208/208], Loss: 0.7161587476730347\n",
      "Validation Loss after Epoch 36: 0.6739544935946195\n",
      "\n",
      "Epoch [37/200], Batch [208/208], Loss: 0.5936748981475833\n",
      "Validation Loss after Epoch 37: 0.6717714931604997\n",
      "\n",
      "Epoch [38/200], Batch [208/208], Loss: 0.69761514663696296\n",
      "Validation Loss after Epoch 38: 0.6723329874704469\n",
      "\n",
      "Epoch [39/200], Batch [208/208], Loss: 0.6143300533294678\n",
      "Validation Loss after Epoch 39: 0.6699568764218744\n",
      "\n",
      "Epoch [40/200], Batch [208/208], Loss: 0.65188050270080573\n",
      "Validation Loss after Epoch 40: 0.6663974602267427\n",
      "\n",
      "Epoch [41/200], Batch [208/208], Loss: 0.57870441675186164\n",
      "Validation Loss after Epoch 41: 0.6656158572097994\n",
      "\n",
      "Epoch [42/200], Batch [208/208], Loss: 0.6403676271438599\n",
      "Validation Loss after Epoch 42: 0.6649501739807848\n",
      "\n",
      "Epoch [43/200], Batch [208/208], Loss: 0.65234661102294923\n",
      "Validation Loss after Epoch 43: 0.6631769768471988\n",
      "\n",
      "Epoch [44/200], Batch [208/208], Loss: 0.6369633674621582\n",
      "Validation Loss after Epoch 44: 0.6604294405793244\n",
      "\n",
      "Epoch [45/200], Batch [208/208], Loss: 0.70006871223449717\n",
      "Validation Loss after Epoch 45: 0.6583677766458044\n",
      "\n",
      "Epoch [46/200], Batch [208/208], Loss: 0.6361317634582523\n",
      "Validation Loss after Epoch 46: 0.6589378905746172\n",
      "\n",
      "Epoch [47/200], Batch [208/208], Loss: 0.63397389650344854\n",
      "Validation Loss after Epoch 47: 0.6565256163759051\n",
      "\n",
      "Epoch [48/200], Batch [208/208], Loss: 0.60335826873779363\n",
      "Validation Loss after Epoch 48: 0.6574816748781024\n",
      "\n",
      "Epoch [49/200], Batch [208/208], Loss: 0.57552754878997856\n",
      "Validation Loss after Epoch 49: 0.652492492828729\n",
      "\n",
      "Epoch [50/200], Batch [208/208], Loss: 0.64778590202331547\n",
      "Validation Loss after Epoch 50: 0.6542280732460741\n",
      "\n",
      "Epoch [51/200], Batch [208/208], Loss: 0.62758982181549076\n",
      "Validation Loss after Epoch 51: 0.6537368449400056\n",
      "\n",
      "Epoch [52/200], Batch [208/208], Loss: 0.56764423847198496\n",
      "Validation Loss after Epoch 52: 0.6535602380644601\n",
      "\n",
      "Epoch [53/200], Batch [208/208], Loss: 0.73843038082122846\n",
      "Validation Loss after Epoch 53: 0.6498498770425905\n",
      "\n",
      "Epoch [54/200], Batch [208/208], Loss: 0.62170886993408277\n",
      "Validation Loss after Epoch 54: 0.6508864394898685\n",
      "\n",
      "Epoch [55/200], Batch [208/208], Loss: 0.60416662693023684\n",
      "Validation Loss after Epoch 55: 0.6484066202955426\n",
      "\n",
      "Epoch [56/200], Batch [208/208], Loss: 0.85727334022521977\n",
      "Validation Loss after Epoch 56: 0.6514447770028744\n",
      "\n",
      "Epoch [57/200], Batch [208/208], Loss: 0.67905616760253916\n",
      "Validation Loss after Epoch 57: 0.646985944711937\n",
      "\n",
      "Epoch [58/200], Batch [208/208], Loss: 0.64470303058624273\n",
      "Validation Loss after Epoch 58: 0.6496273942713467\n",
      "\n",
      "Epoch [59/200], Batch [208/208], Loss: 0.65727525949478155\n",
      "Validation Loss after Epoch 59: 0.6470182931648111\n",
      "\n",
      "Epoch [60/200], Batch [208/208], Loss: 0.51702457666397175\n",
      "Validation Loss after Epoch 60: 0.6456439455725113\n",
      "\n",
      "Epoch [61/200], Batch [208/208], Loss: 0.5528751611709595\n",
      "Validation Loss after Epoch 61: 0.6448535109465977\n",
      "\n",
      "Epoch [62/200], Batch [208/208], Loss: 0.56761938333511353\n",
      "Validation Loss after Epoch 62: 0.643060564994812\n",
      "\n",
      "Epoch [63/200], Batch [208/208], Loss: 0.79179191589355476\n",
      "Validation Loss after Epoch 63: 0.6422403831526918\n",
      "\n",
      "Epoch [64/200], Batch [208/208], Loss: 0.57180815935134896\n",
      "Validation Loss after Epoch 64: 0.6432785667338461\n",
      "\n",
      "Epoch [65/200], Batch [208/208], Loss: 0.6795263290405273\n",
      "Validation Loss after Epoch 65: 0.641198457412\n",
      "\n",
      "Epoch [66/200], Batch [208/208], Loss: 0.57181602716445924\n",
      "Validation Loss after Epoch 66: 0.6389085785397943\n",
      "\n",
      "Epoch [67/200], Batch [208/208], Loss: 0.5712982416152954\n",
      "Validation Loss after Epoch 67: 0.6411814475959202\n",
      "\n",
      "Epoch [68/200], Batch [208/208], Loss: 0.57731258869171147\n",
      "Validation Loss after Epoch 68: 0.6406154132114267\n",
      "\n",
      "Epoch [69/200], Batch [208/208], Loss: 0.69624429941177374\n",
      "Validation Loss after Epoch 69: 0.6380541302123159\n",
      "\n",
      "Epoch [70/200], Batch [208/208], Loss: 0.70712482929229747\n",
      "Validation Loss after Epoch 70: 0.6380187728494968\n",
      "\n",
      "Epoch [71/200], Batch [208/208], Loss: 0.64093554019927986\n",
      "Validation Loss after Epoch 71: 0.6369188585371341\n",
      "\n",
      "Epoch [72/200], Batch [208/208], Loss: 0.67775952816009527\n",
      "Validation Loss after Epoch 72: 0.6377914851566531\n",
      "\n",
      "Epoch [73/200], Batch [208/208], Loss: 0.53404402732849124\n",
      "Validation Loss after Epoch 73: 0.6354457803492276\n",
      "\n",
      "Epoch [74/200], Batch [208/208], Loss: 0.73143947124481286\n",
      "Validation Loss after Epoch 74: 0.6366315855170196\n",
      "\n",
      "Epoch [75/200], Batch [208/208], Loss: 0.71003752946853646\n",
      "Validation Loss after Epoch 75: 0.6339801977265556\n",
      "\n",
      "Epoch [76/200], Batch [208/208], Loss: 0.75022864341735845\n",
      "Validation Loss after Epoch 76: 0.6345108044597337\n",
      "\n",
      "Epoch [77/200], Batch [208/208], Loss: 0.66994607448577883\n",
      "Validation Loss after Epoch 77: 0.6345371356550252\n",
      "\n",
      "Epoch [78/200], Batch [208/208], Loss: 0.50598794221878056\n",
      "Validation Loss after Epoch 78: 0.6307326476528959\n",
      "\n",
      "Epoch [79/200], Batch [208/208], Loss: 0.71008890867233287\n",
      "Validation Loss after Epoch 79: 0.6316251957191611\n",
      "\n",
      "Epoch [80/200], Batch [208/208], Loss: 0.57474052906036384\n",
      "Validation Loss after Epoch 80: 0.6317394094647102\n",
      "\n",
      "Epoch [81/200], Batch [208/208], Loss: 0.61744636297225957\n",
      "Validation Loss after Epoch 81: 0.6302920197540859\n",
      "\n",
      "Epoch [82/200], Batch [208/208], Loss: 0.58386600017547615\n",
      "Validation Loss after Epoch 82: 0.6312134288391977\n",
      "\n",
      "Epoch [83/200], Batch [208/208], Loss: 0.44270056486129764\n",
      "Validation Loss after Epoch 83: 0.6298333204017496\n",
      "\n",
      "Epoch [84/200], Batch [208/208], Loss: 0.69969290494918825\n",
      "Validation Loss after Epoch 84: 0.6292733088979181\n",
      "\n",
      "Epoch [85/200], Batch [208/208], Loss: 0.56572532653808595\n",
      "Validation Loss after Epoch 85: 0.6293655313410849\n",
      "\n",
      "Epoch [86/200], Batch [208/208], Loss: 0.67530441284179694\n",
      "Validation Loss after Epoch 86: 0.6309528755691817\n",
      "\n",
      "Epoch [87/200], Batch [208/208], Loss: 0.59562802314758345\n",
      "Validation Loss after Epoch 87: 0.6283259594215537\n",
      "\n",
      "Epoch [88/200], Batch [208/208], Loss: 0.65846359729766857\n",
      "Validation Loss after Epoch 88: 0.6275671619289326\n",
      "\n",
      "Epoch [89/200], Batch [208/208], Loss: 0.58690828084945685\n",
      "Validation Loss after Epoch 89: 0.6264127605366256\n",
      "\n",
      "Epoch [90/200], Batch [208/208], Loss: 0.57899844646453863\n",
      "Validation Loss after Epoch 90: 0.6263847564751247\n",
      "\n",
      "Epoch [91/200], Batch [208/208], Loss: 0.57480299472808843\n",
      "Validation Loss after Epoch 91: 0.6268162755471356\n",
      "\n",
      "Epoch [92/200], Batch [208/208], Loss: 0.61135184764862065\n",
      "Validation Loss after Epoch 92: 0.6238165357202854\n",
      "\n",
      "Epoch [93/200], Batch [208/208], Loss: 0.59852397441864013\n",
      "Validation Loss after Epoch 93: 0.6242317023142329\n",
      "\n",
      "Epoch [94/200], Batch [208/208], Loss: 0.66549015045166025\n",
      "Validation Loss after Epoch 94: 0.627992183532355\n",
      "\n",
      "Epoch [95/200], Batch [208/208], Loss: 0.52197957038879434\n",
      "Validation Loss after Epoch 95: 0.6250026608413121\n",
      "\n",
      "Epoch [96/200], Batch [208/208], Loss: 0.77391517162323457\n",
      "Validation Loss after Epoch 96: 0.6254061606695067\n",
      "\n",
      "Epoch [97/200], Batch [208/208], Loss: 0.56179529428482066\n",
      "Validation Loss after Epoch 97: 0.6236143179659573\n",
      "\n",
      "Epoch [98/200], Batch [208/208], Loss: 0.61087095737457287\n",
      "Validation Loss after Epoch 98: 0.6238716553966954\n",
      "\n",
      "Epoch [99/200], Batch [208/208], Loss: 0.55508732795715336\n",
      "Validation Loss after Epoch 99: 0.6211316636148488\n",
      "\n",
      "Epoch [100/200], Batch [208/208], Loss: 0.67395639419555667\n",
      "Validation Loss after Epoch 100: 0.6228940380069444\n",
      "\n",
      "Epoch [101/200], Batch [208/208], Loss: 0.49303561449050903\n",
      "Validation Loss after Epoch 101: 0.6206745567186823\n",
      "\n",
      "Epoch [102/200], Batch [208/208], Loss: 0.43423998355865483\n",
      "Validation Loss after Epoch 102: 0.6211068230979847\n",
      "\n",
      "Epoch [103/200], Batch [208/208], Loss: 0.67637097835540777\n",
      "Validation Loss after Epoch 103: 0.6218630024846995\n",
      "\n",
      "Epoch [104/200], Batch [208/208], Loss: 0.75597953796386723\n",
      "Validation Loss after Epoch 104: 0.6187086223431353\n",
      "\n",
      "Epoch [105/200], Batch [208/208], Loss: 0.59176594018936167\n",
      "Validation Loss after Epoch 105: 0.6208715776227555\n",
      "\n",
      "Epoch [106/200], Batch [208/208], Loss: 0.66904616355896533\n",
      "Validation Loss after Epoch 106: 0.6202735990848182\n",
      "\n",
      "Epoch [107/200], Batch [208/208], Loss: 0.47474262118339546\n",
      "Validation Loss after Epoch 107: 0.6212022861219803\n",
      "\n",
      "Epoch [108/200], Batch [208/208], Loss: 0.48641425371170044\n",
      "Validation Loss after Epoch 108: 0.6210623197960403\n",
      "\n",
      "Epoch [109/200], Batch [208/208], Loss: 0.70036137104034424\n",
      "Validation Loss after Epoch 109: 0.6172652969945152\n",
      "\n",
      "Epoch [110/200], Batch [208/208], Loss: 0.66813647747039816\n",
      "Validation Loss after Epoch 110: 0.6173662560166053\n",
      "\n",
      "Epoch [111/200], Batch [208/208], Loss: 0.58159780502319346\n",
      "Validation Loss after Epoch 111: 0.6220315959093705\n",
      "\n",
      "Epoch [112/200], Batch [208/208], Loss: 0.55570447444915774\n",
      "Validation Loss after Epoch 112: 0.616718404697922\n",
      "\n",
      "Epoch [113/200], Batch [208/208], Loss: 0.56248706579208373\n",
      "Validation Loss after Epoch 113: 0.6178727537955878\n",
      "\n",
      "Epoch [114/200], Batch [208/208], Loss: 0.44782429933547974\n",
      "Validation Loss after Epoch 114: 0.6179575149743062\n",
      "\n",
      "Epoch [115/200], Batch [208/208], Loss: 0.72006797790527345\n",
      "Validation Loss after Epoch 115: 0.6179353493564533\n",
      "\n",
      "Epoch [116/200], Batch [208/208], Loss: 0.58159708976745644\n",
      "Validation Loss after Epoch 116: 0.6149154732812125\n",
      "\n",
      "Epoch [117/200], Batch [208/208], Loss: 0.55227243900299074\n",
      "Validation Loss after Epoch 117: 0.6163117598812535\n",
      "\n",
      "Epoch [118/200], Batch [208/208], Loss: 0.47763139009475717\n",
      "Validation Loss after Epoch 118: 0.6149513035450341\n",
      "\n",
      "Epoch [119/200], Batch [208/208], Loss: 0.63429999351501463\n",
      "Validation Loss after Epoch 119: 0.6153538412642929\n",
      "\n",
      "Epoch [120/200], Batch [208/208], Loss: 0.50904732942581187\n",
      "Validation Loss after Epoch 120: 0.6159801949869912\n",
      "\n",
      "Epoch [121/200], Batch [208/208], Loss: 0.74703431129455575\n",
      "Validation Loss after Epoch 121: 0.6134680189051718\n",
      "\n",
      "Epoch [122/200], Batch [208/208], Loss: 0.71368205547332767\n",
      "Validation Loss after Epoch 122: 0.6127579369634952\n",
      "\n",
      "Epoch [123/200], Batch [208/208], Loss: 0.73978906869888314\n",
      "Validation Loss after Epoch 123: 0.6110220410913791\n",
      "\n",
      "Epoch [124/200], Batch [208/208], Loss: 0.52861452102661135\n",
      "Validation Loss after Epoch 124: 0.6149767434821939\n",
      "\n",
      "Epoch [125/200], Batch [208/208], Loss: 0.48829150199890137\n",
      "Validation Loss after Epoch 125: 0.612145555469225\n",
      "\n",
      "Epoch [126/200], Batch [208/208], Loss: 0.60139536857604983\n",
      "Validation Loss after Epoch 126: 0.6116492602060426\n",
      "\n",
      "Epoch [127/200], Batch [208/208], Loss: 0.49099221825599674\n",
      "Validation Loss after Epoch 127: 0.6112035884047454\n",
      "\n",
      "Epoch [128/200], Batch [208/208], Loss: 0.63765382766723637\n",
      "Validation Loss after Epoch 128: 0.6121145239416158\n",
      "\n",
      "Early stopping on epoch 127. Best epoch was 122 with val loss: 0.6110.\n"
     ]
    }
   ],
   "source": [
    "# Early stopping parameters\n",
    "patience = 5  # Number of epochs with no improvement after which training will be stopped\n",
    "counter = 0  # To count number of epochs with no improvement\n",
    "best_val_loss = None  # To keep track of best validation loss\n",
    "best_model_state = None  # To store best model's state\n",
    "\n",
    "train_losses = []\n",
    "val_losses = []\n",
    "\n",
    "for epoch in range(EPOCHS):\n",
    "    # training loop\n",
    "    model, epoch_train_loss = training_loop(model, dataset, epoch)\n",
    "    train_losses.append(epoch_train_loss)\n",
    "    \n",
    "    # validation loop\n",
    "    epoch_val_loss = validation_loop(model, dataset, epoch)\n",
    "    val_losses.append(epoch_val_loss)\n",
    "\n",
    "    # Check if this epoch's validation loss is the best we've seen so far.\n",
    "    if best_val_loss is None or epoch_val_loss < best_val_loss:\n",
    "        best_val_loss = epoch_val_loss\n",
    "        best_model_state = copy.deepcopy(model.state_dict())  # Save best model\n",
    "        counter = 0  # Reset counter\n",
    "    else:\n",
    "        counter += 1  # Increment counter as no improvement in validation loss\n",
    "\n",
    "    # If we've had patience number of epochs without improvement, stop training\n",
    "    if counter >= patience:\n",
    "        print(f\"Early stopping on epoch {epoch}. Best epoch was {epoch - counter} with val loss: {best_val_loss:.4f}.\")\n",
    "        break\n",
    "\n",
    "# Load best model weights\n",
    "model.load_state_dict(best_model_state)\n",
    "torch.save(model.state_dict(), f\"{OUT_PATH}/best_model.pt\")  # Save the best model to disk\n",
    "\n"
   ]
  },
  {
   "cell_type": "markdown",
   "id": "62f186fe-aa77-4f32-9332-b46a53d6407b",
   "metadata": {},
   "source": [
    "### Loss visualization"
   ]
  },
  {
   "cell_type": "code",
   "execution_count": 18,
   "id": "5ab4c6a2-d3e5-474d-9a69-b60e59513a6d",
   "metadata": {},
   "outputs": [],
   "source": [
    "def plot_graphs(train_losses, val_losses):\n",
    "    # Monokai color palette\n",
    "    colors = ['#F92672', '#A6E22E', '#66D9EF', '#FD971F']\n",
    "    \n",
    "    # Set the background color and grid color\n",
    "    sns.set_style(\"darkgrid\", {\n",
    "        \"axes.facecolor\": \".1\",  # Dark background\n",
    "        \"grid.color\": \".15\",  # Slightly grayish grid lines\n",
    "        \"axes.labelcolor\": \"white\",\n",
    "        \"xtick.color\": \"white\",\n",
    "        \"ytick.color\": \"white\"\n",
    "    })\n",
    "\n",
    "    epochs = range(1, len(train_losses) + 1)\n",
    "\n",
    "    # Plotting the losses\n",
    "    plt.figure(figsize=(12, 6))\n",
    "\n",
    "    # Set entire background color\n",
    "    fig = plt.gcf()\n",
    "    fig.patch.set_facecolor('.1')  # Color for the whole backgroun\n",
    "\n",
    "    plt.subplot(1, 2, 1)\n",
    "    sns.lineplot(x=epochs, y=train_losses, label='Train Loss', marker='o', color=colors[0])\n",
    "    sns.lineplot(x=epochs, y=val_losses, label='Validation Loss', marker='o', color=colors[1])\n",
    "    plt.title('Training and Validation Loss', color='white')\n",
    "    plt.xlabel('Epochs')\n",
    "    plt.ylabel('Loss')\n",
    "    legend = plt.legend()\n",
    "    for text in legend.get_texts():\n",
    "        text.set_color(\"white\")  # Set the legend text color to white\n",
    "\n",
    "    plt.tight_layout()\n",
    "    plt.show()"
   ]
  },
  {
   "cell_type": "code",
   "execution_count": 19,
   "id": "9d2a845c-f61e-4ae4-9a69-58b0c85f6d73",
   "metadata": {},
   "outputs": [
    {
     "name": "stderr",
     "output_type": "stream",
     "text": [
      "/Users/thibaudperrin/.local/share/virtualenvs/commonlit-evaluate-student-summaries-1rc7Oi8p/lib/python3.11/site-packages/seaborn/_oldcore.py:1498: FutureWarning: is_categorical_dtype is deprecated and will be removed in a future version. Use isinstance(dtype, CategoricalDtype) instead\n",
      "  if pd.api.types.is_categorical_dtype(vector):\n",
      "/Users/thibaudperrin/.local/share/virtualenvs/commonlit-evaluate-student-summaries-1rc7Oi8p/lib/python3.11/site-packages/seaborn/_oldcore.py:1498: FutureWarning: is_categorical_dtype is deprecated and will be removed in a future version. Use isinstance(dtype, CategoricalDtype) instead\n",
      "  if pd.api.types.is_categorical_dtype(vector):\n",
      "/Users/thibaudperrin/.local/share/virtualenvs/commonlit-evaluate-student-summaries-1rc7Oi8p/lib/python3.11/site-packages/seaborn/_oldcore.py:1119: FutureWarning: use_inf_as_na option is deprecated and will be removed in a future version. Convert inf values to NaN before operating instead.\n",
      "  with pd.option_context('mode.use_inf_as_na', True):\n",
      "/Users/thibaudperrin/.local/share/virtualenvs/commonlit-evaluate-student-summaries-1rc7Oi8p/lib/python3.11/site-packages/seaborn/_oldcore.py:1119: FutureWarning: use_inf_as_na option is deprecated and will be removed in a future version. Convert inf values to NaN before operating instead.\n",
      "  with pd.option_context('mode.use_inf_as_na', True):\n",
      "/Users/thibaudperrin/.local/share/virtualenvs/commonlit-evaluate-student-summaries-1rc7Oi8p/lib/python3.11/site-packages/seaborn/_oldcore.py:1498: FutureWarning: is_categorical_dtype is deprecated and will be removed in a future version. Use isinstance(dtype, CategoricalDtype) instead\n",
      "  if pd.api.types.is_categorical_dtype(vector):\n",
      "/Users/thibaudperrin/.local/share/virtualenvs/commonlit-evaluate-student-summaries-1rc7Oi8p/lib/python3.11/site-packages/seaborn/_oldcore.py:1498: FutureWarning: is_categorical_dtype is deprecated and will be removed in a future version. Use isinstance(dtype, CategoricalDtype) instead\n",
      "  if pd.api.types.is_categorical_dtype(vector):\n",
      "/Users/thibaudperrin/.local/share/virtualenvs/commonlit-evaluate-student-summaries-1rc7Oi8p/lib/python3.11/site-packages/seaborn/_oldcore.py:1119: FutureWarning: use_inf_as_na option is deprecated and will be removed in a future version. Convert inf values to NaN before operating instead.\n",
      "  with pd.option_context('mode.use_inf_as_na', True):\n",
      "/Users/thibaudperrin/.local/share/virtualenvs/commonlit-evaluate-student-summaries-1rc7Oi8p/lib/python3.11/site-packages/seaborn/_oldcore.py:1119: FutureWarning: use_inf_as_na option is deprecated and will be removed in a future version. Convert inf values to NaN before operating instead.\n",
      "  with pd.option_context('mode.use_inf_as_na', True):\n"
     ]
    },
    {
     "data": {
      "image/png": "[encoded data removed]",
      "text/plain": [
       "<Figure size 1200x600 with 1 Axes>"
      ]
     },
     "metadata": {},
     "output_type": "display_data"
    }
   ],
   "source": [
    "# After training, call the function to plot\n",
    "plot_graphs(train_losses, val_losses)"
   ]
  },
  {
   "cell_type": "markdown",
   "id": "b28171c7-d418-404a-a7e7-cfb3567c7c12",
   "metadata": {},
   "source": [
    "## Saving torch script"
   ]
  },
  {
   "cell_type": "code",
   "execution_count": 20,
   "id": "6a58131d-0d65-4e15-bd16-c67008f19d80",
   "metadata": {},
   "outputs": [
    {
     "data": {
      "text/plain": [
       "<All keys matched successfully>"
      ]
     },
     "execution_count": 20,
     "metadata": {},
     "output_type": "execute_result"
    }
   ],
   "source": [
    "model.load_state_dict(torch.load(f\"{OUT_PATH}/best_model.pt\"))"
   ]
  },
  {
   "cell_type": "code",
   "execution_count": 21,
   "id": "2a21393b-2e29-436e-bc9e-bc93f32469cc",
   "metadata": {},
   "outputs": [],
   "source": [
    "exemple_batches = dataset.get_batch('train')\n",
    "ex_batch = next(exemple_batches)\n",
    "embeddings_question = ex_batch['embeddings_question']\n",
    "embeddings_text = ex_batch['embeddings_text']\n",
    "embeddings_answer = ex_batch['text']\n",
    "content = ex_batch['content']\n",
    "wording = ex_batch['wording']\n",
    "normalized_lexical_density = ex_batch['normalized_lexical_density']\n",
    "normalized_spell_checker = ex_batch['normalized_spell_checker']\n",
    "normalized_tf_idf_question_score = ex_batch['normalized_tf_idf_question_score']\n",
    "normalized_avg_word_length = ex_batch['normalized_avg_word_length']\n",
    "normalized_smog_index = ex_batch['normalized_smog_index']\n",
    "normalized_coleman_liau_index = ex_batch['normalized_coleman_liau_index']\n",
    "normalized_flesch_reading_ease = ex_batch['normalized_flesch_reading_ease']\n",
    "\n",
    "# Create input\n",
    "input_data = torch.cat(\n",
    "    (\n",
    "        embeddings_text,\n",
    "        embeddings_question,\n",
    "        embeddings_answer\n",
    "    ), dim=1).to('cpu')\n",
    "\n",
    "features = (normalized_lexical_density.to('cpu'), \\\n",
    "            normalized_spell_checker.to('cpu'), \\\n",
    "            normalized_tf_idf_question_score.to('cpu'), \\\n",
    "            normalized_avg_word_length.to('cpu'), \\\n",
    "            normalized_smog_index.to('cpu'), \\\n",
    "            normalized_coleman_liau_index.to('cpu'), \\\n",
    "            normalized_flesch_reading_ease.to('cpu') \\\n",
    "           )"
   ]
  },
  {
   "cell_type": "code",
   "execution_count": 22,
   "id": "72f85c4d-47fb-42d5-8b08-e90af1199874",
   "metadata": {},
   "outputs": [],
   "source": [
    "# Trace the model\n",
    "traced_model = torch.jit.trace(model.to('cpu'), (input_data, features))\n",
    "# Save the traced model\n",
    "traced_model.save(f\"{OUT_PATH}/best_model_script.pt\")"
   ]
  },
  {
   "cell_type": "code",
   "execution_count": 23,
   "id": "7860f40b-e9c7-4f20-9c9f-71ca695f20b7",
   "metadata": {},
   "outputs": [],
   "source": [
    "import math"
   ]
  },
  {
   "cell_type": "code",
   "execution_count": 24,
   "id": "70ad3e0e-5421-4bf2-9b25-6a77b4c40f33",
   "metadata": {},
   "outputs": [],
   "source": [
    "def t_round(x, decimals = 3):\n",
    "    multiplicator = 10**decimals\n",
    "    return torch.round(x * 1000) / 1000"
   ]
  },
  {
   "cell_type": "code",
   "execution_count": 25,
   "id": "8782aac0-bd1d-433b-b849-f4b784bb41ba",
   "metadata": {},
   "outputs": [
    {
     "name": "stdout",
     "output_type": "stream",
     "text": [
      "[-0.826 => -0.922 = -0.096] \t | \t [-0.954 => -1.214 = -0.260]\n",
      "[-1.061 => -0.237 =  0.825] \t | \t [-1.166 => -0.798 =  0.368]\n",
      "[-0.587 => -0.094 =  0.493] \t | \t [-0.533 =>  0.504 =  1.037]\n",
      "[-0.985 => -1.073 = -0.087] \t | \t [-1.023 => -1.000 =  0.023]\n",
      "[-0.013 => -0.002 =  0.010] \t | \t [ 0.084 => -0.045 = -0.130]\n",
      "[-0.911 => -0.922 = -0.010] \t | \t [-1.032 => -1.214 = -0.181]\n",
      "[-0.072 =>  0.285 =  0.357] \t | \t [ 0.015 =>  1.013 =  0.998]\n",
      "[ 1.571 =>  1.531 = -0.040] \t | \t [ 0.895 =>  0.071 = -0.824]\n",
      "[ 0.853 =>  1.659 =  0.806] \t | \t [ 0.495 =>  2.346 =  1.851]\n",
      "[-0.764 => -0.911 = -0.147] \t | \t [-0.720 => -0.082 =  0.638]\n",
      "[-1.071 => -1.102 = -0.032] \t | \t [-1.165 => -0.587 =  0.578]\n",
      "[-1.081 => -1.547 = -0.466] \t | \t [-1.065 => -1.461 = -0.396]\n",
      "[ 0.726 =>  0.206 = -0.520] \t | \t [ 0.790 =>  0.381 = -0.409]\n",
      "[ 1.070 =>  1.324 =  0.254] \t | \t [ 0.164 =>  0.538 =  0.374]\n",
      "[-1.141 => -1.547 = -0.406] \t | \t [-1.260 => -1.461 = -0.201]\n",
      "[-0.583 => -1.205 = -0.621] \t | \t [-0.477 => -1.170 = -0.693]\n",
      "[ 1.137 =>  1.205 =  0.068] \t | \t [ 1.391 =>  2.306 =  0.915]\n",
      "[-1.041 => -0.981 =  0.060] \t | \t [-1.236 => -1.549 = -0.313]\n",
      "[-0.451 =>  0.297 =  0.748] \t | \t [-0.607 => -0.169 =  0.438]\n",
      "[ 0.936 =>  0.376 = -0.559] \t | \t [ 0.540 =>  0.464 = -0.077]\n",
      "[ 0.665 =>  0.607 = -0.058] \t | \t [ 0.471 =>  0.882 =  0.411]\n",
      "[ 0.335 => -0.403 = -0.738] \t | \t [ 0.564 =>  0.221 = -0.343]\n",
      "[-0.098 => -0.296 = -0.198] \t | \t [ 0.020 => -1.133 = -1.154]\n",
      "[ 1.131 =>  0.206 = -0.925] \t | \t [ 0.753 =>  0.381 = -0.373]\n"
     ]
    }
   ],
   "source": [
    "tensor1, tensor2 = model(input_data, features), torch.stack((content, wording), dim=1)\n",
    "\n",
    "\n",
    "for (col1_tensor1, col2_tensor1), (col1_tensor2, col2_tensor2) in zip(tensor1, tensor2):\n",
    "    print(f\"[{col1_tensor1:>6.3f} => {col1_tensor2:>6.3f} = {col1_tensor2-col1_tensor1:>6.3f}] \\t | \\t [{col2_tensor1:>6.3f} => {col2_tensor2:>6.3f} = {col2_tensor2 - col2_tensor1:>6.3f}]\")"
   ]
  },
  {
   "cell_type": "code",
   "execution_count": 26,
   "id": "a30afdbd-630e-4182-97e0-9e0174dbe3b7",
   "metadata": {},
   "outputs": [],
   "source": [
    "# [-0.418 => -0.234 =  0.184] \t | \t [-0.422 => -0.390 =  0.032]\n",
    "# [-0.261 => -0.114 =  0.147] \t | \t [-0.298 => -0.193 =  0.105]\n",
    "# [-0.543 => -0.621 = -0.078] \t | \t [-0.391 => -0.668 = -0.277]\n",
    "# [-0.205 => -0.204 =  0.001] \t | \t [-0.242 => -0.573 = -0.331]\n",
    "# [-0.383 => -0.285 =  0.098] \t | \t [-0.383 => -0.318 =  0.065]\n",
    "# [ 0.008 =>  0.095 =  0.087] \t | \t [-0.194 => -0.167 =  0.027]\n",
    "# [-0.041 =>  0.257 =  0.298] \t | \t [-0.188 => -0.151 =  0.037]\n",
    "# [-0.130 => -0.187 = -0.057] \t | \t [-0.060 =>  0.044 =  0.104]\n",
    "# [-0.370 => -0.464 = -0.094] \t | \t [-0.374 => -0.640 = -0.266]\n",
    "# [-0.434 =>  0.341 =  0.775] \t | \t [-0.396 => -0.182 =  0.214]\n",
    "# [-0.757 => -0.849 = -0.092] \t | \t [-0.694 => -0.820 = -0.126]\n",
    "# [ 0.091 =>  0.250 =  0.159] \t | \t [ 0.057 =>  0.265 =  0.208]"
   ]
  },
  {
   "cell_type": "markdown",
   "id": "f58a7665-b682-436b-a62e-a0365521f75a",
   "metadata": {},
   "source": [
    "## Load the Traced Model"
   ]
  },
  {
   "cell_type": "code",
   "execution_count": 27,
   "id": "113464e4-6ea3-4ce7-9fd0-2b4074602278",
   "metadata": {},
   "outputs": [],
   "source": [
    "loaded_model = torch.jit.load(f\"{OUT_PATH}/best_model_script.pt\").to(device)"
   ]
  },
  {
   "cell_type": "code",
   "execution_count": 28,
   "id": "c45cdfba-440d-4de0-ac11-22382d876f89",
   "metadata": {},
   "outputs": [],
   "source": [
    "features = (normalized_lexical_density.to(device), \\\n",
    "            normalized_spell_checker.to(device), \\\n",
    "            normalized_tf_idf_question_score.to(device), \\\n",
    "            normalized_avg_word_length.to(device), \\\n",
    "            normalized_smog_index.to(device), \\\n",
    "            normalized_coleman_liau_index.to(device), \\\n",
    "            normalized_flesch_reading_ease.to(device) \\\n",
    "           )"
   ]
  },
  {
   "cell_type": "code",
   "execution_count": 29,
   "id": "c66825f1-b925-463f-bec3-f5a3b20646b9",
   "metadata": {},
   "outputs": [
    {
     "data": {
      "text/plain": [
       "tensor([[-0.8255, -0.9540],\n",
       "        [-1.0614, -1.1658],\n",
       "        [-0.5870, -0.5333],\n",
       "        [-0.9855, -1.0229],\n",
       "        [-0.0129,  0.0845],\n",
       "        [-0.9112, -1.0324],\n",
       "        [-0.0723,  0.0149],\n",
       "        [ 1.5710,  0.8955],\n",
       "        [ 0.8527,  0.4949],\n",
       "        [-0.7638, -0.7197],\n",
       "        [-1.0706, -1.1653],\n",
       "        [-1.0807, -1.0652],\n",
       "        [ 0.7260,  0.7898],\n",
       "        [ 1.0703,  0.1640],\n",
       "        [-1.1408, -1.2603],\n",
       "        [-0.5832, -0.4766],\n",
       "        [ 1.1370,  1.3913],\n",
       "        [-1.0409, -1.2358],\n",
       "        [-0.4513, -0.6065],\n",
       "        [ 0.9356,  0.5405],\n",
       "        [ 0.6648,  0.4713],\n",
       "        [ 0.3349,  0.5640],\n",
       "        [-0.0982,  0.0203],\n",
       "        [ 1.1306,  0.7532]], grad_fn=<CatBackward0>)"
      ]
     },
     "execution_count": 29,
     "metadata": {},
     "output_type": "execute_result"
    }
   ],
   "source": [
    "loaded_model(input_data.to(device), features)"
   ]
  },
  {
   "cell_type": "code",
   "execution_count": 30,
   "id": "2e2af4b4-9728-46ab-974c-cc7ec23224bb",
   "metadata": {},
   "outputs": [],
   "source": [
    "def test_model():\n",
    "    test_batches = dataset.get_batch('test')\n",
    "    list_mcrmse = []\n",
    "    list_outputs = []\n",
    "    list_targets = []\n",
    "    for index, test_batch in enumerate(test_batches):\n",
    "        print(f\"\\r [{index}/{len(dataset.test_data) // BATCH_SIZE}]\", end=\"\")\n",
    "        \n",
    "        embeddings_question = test_batch['embeddings_question']\n",
    "        embeddings_text = test_batch['embeddings_text']\n",
    "        embeddings_answer = test_batch['text']\n",
    "        content = test_batch['content']\n",
    "        wording = test_batch['wording']\n",
    "        normalized_lexical_density = test_batch['normalized_lexical_density']\n",
    "        normalized_spell_checker = test_batch['normalized_spell_checker']\n",
    "        normalized_tf_idf_question_score = test_batch['normalized_tf_idf_question_score']\n",
    "        normalized_avg_word_length = test_batch['normalized_avg_word_length']\n",
    "        normalized_smog_index = test_batch['normalized_smog_index']\n",
    "        normalized_coleman_liau_index = test_batch['normalized_coleman_liau_index']\n",
    "        normalized_flesch_reading_ease = test_batch['normalized_flesch_reading_ease']\n",
    "\n",
    "        # Create input\n",
    "        input_data = torch.cat(\n",
    "            (\n",
    "                embeddings_text,\n",
    "                embeddings_question,\n",
    "                embeddings_answer\n",
    "            ), dim=1).to('cpu')\n",
    "        \n",
    "        features = (normalized_lexical_density.to('cpu'), \\\n",
    "                    normalized_spell_checker.to('cpu'), \\\n",
    "                    normalized_tf_idf_question_score.to('cpu'), \\\n",
    "                    normalized_avg_word_length.to('cpu'), \\\n",
    "                    normalized_smog_index.to('cpu'), \\\n",
    "                    normalized_coleman_liau_index.to('cpu'), \\\n",
    "                    normalized_flesch_reading_ease.to('cpu') \\\n",
    "                   )\n",
    "        outputs = loaded_model(input_data, features)\n",
    "        targets = torch.stack(\n",
    "            (\n",
    "                content,\n",
    "                wording\n",
    "            ), dim=1).to('cpu')\n",
    "        \n",
    "        val_mcrmse = MCRMSE(targets, outputs)\n",
    "        list_mcrmse.append(val_mcrmse.item())\n",
    "        list_outputs += outputs.detach().cpu().numpy().tolist()\n",
    "        list_targets += targets.detach().cpu().numpy().tolist()\n",
    "    print()\n",
    "    return list_mcrmse, list_outputs, list_targets\n"
   ]
  },
  {
   "cell_type": "code",
   "execution_count": 31,
   "id": "36518bbf-1146-482f-a148-3ee4f626860c",
   "metadata": {},
   "outputs": [
    {
     "name": "stdout",
     "output_type": "stream",
     "text": [
      " [35/35]\n"
     ]
    }
   ],
   "source": [
    "list_mcrmse, list_pred, list_targets = test_model()"
   ]
  },
  {
   "cell_type": "code",
   "execution_count": 32,
   "id": "a6b145c5-1765-41d0-aa6a-38a0c34a8a03",
   "metadata": {},
   "outputs": [
    {
     "data": {
      "text/plain": [
       "(860, 2, 860, 2)"
      ]
     },
     "execution_count": 32,
     "metadata": {},
     "output_type": "execute_result"
    }
   ],
   "source": [
    "len(list_pred), len(list_pred[0]), len(list_targets), len(list_targets[0])"
   ]
  },
  {
   "cell_type": "code",
   "execution_count": 33,
   "id": "df9b0f83-950b-4fb2-97cb-04c1fdbaadd1",
   "metadata": {
    "scrolled": true
   },
   "outputs": [],
   "source": [
    "def cal_accu(pred, real):\n",
    "    predicted_labels = torch.argmax(pred, dim=1)\n",
    "\n",
    "    # Get the true labels\n",
    "    true_labels = torch.argmax(real, dim=1)\n",
    "    \n",
    "    # Calculate the number of correct predictions\n",
    "    correct = (predicted_labels == true_labels).sum().item()\n",
    "    \n",
    "    # Calculate accuracy\n",
    "    accuracy = correct / pred.size(0) * 100  # pred.size(0) gives the batch size\n",
    "    \n",
    "    print(f\"Accuracy: {accuracy}%\")"
   ]
  },
  {
   "cell_type": "code",
   "execution_count": 34,
   "id": "b56ad30f-6e7f-4f70-b3a6-ec631fd12831",
   "metadata": {},
   "outputs": [
    {
     "name": "stdout",
     "output_type": "stream",
     "text": [
      "Accuracy: 65.34883720930232%\n"
     ]
    }
   ],
   "source": [
    "cal_accu(torch.tensor(list_pred), torch.tensor(list_targets))"
   ]
  },
  {
   "cell_type": "markdown",
   "id": "b2b1ca51-515b-483c-ae92-3ac33f2f54a8",
   "metadata": {},
   "source": [
    "Accuracy: 69.65116279069767%"
   ]
  },
  {
   "cell_type": "code",
   "execution_count": 35,
   "id": "ae610d03-9a00-4b4f-87b6-2de99bb9ef8b",
   "metadata": {},
   "outputs": [
    {
     "data": {
      "text/plain": [
       "0.6116314522094197"
      ]
     },
     "execution_count": 35,
     "metadata": {},
     "output_type": "execute_result"
    }
   ],
   "source": [
    "import math\n",
    "sum(list_mcrmse) / len(list_mcrmse)"
   ]
  },
  {
   "cell_type": "markdown",
   "id": "4fe2b692-f8dd-4f68-aa6a-4b56c9781cce",
   "metadata": {},
   "source": [
    "0.1883068767686685"
   ]
  },
  {
   "cell_type": "code",
   "execution_count": 36,
   "id": "83e6baac-3699-4602-ac14-78a704a8a08e",
   "metadata": {},
   "outputs": [
    {
     "data": {
      "image/png": "[encoded data removed]",
      "text/plain": [
       "<Figure size 640x480 with 1 Axes>"
      ]
     },
     "metadata": {},
     "output_type": "display_data"
    }
   ],
   "source": [
    "plt.ioff()  # Turn off interactive mode\n",
    "plt.plot(list_mcrmse)\n",
    "\n",
    "# Setting axes labels and title\n",
    "plt.xlabel('X-axis Label')\n",
    "plt.ylabel('Y-axis Label')\n",
    "plt.title('Plot Title')\n",
    "# Setting ticks explicitly\n",
    "plt.tick_params(axis='both', labelcolor='black', labelsize='medium')\n",
    "\n",
    "plt.draw()  # Explicitly redraw the figure\n",
    "plt.show()"
   ]
  },
  {
   "cell_type": "code",
   "execution_count": null,
   "id": "d9aeb6dc-c24e-49ac-a4da-0d4b46e458f3",
   "metadata": {},
   "outputs": [],
   "source": []
  }
 ],
 "metadata": {
  "kernelspec": {
   "display_name": "Python 3 (ipykernel)",
   "language": "python",
   "name": "python3"
  },
  "language_info": {
   "codemirror_mode": {
    "name": "ipython",
    "version": 3
   },
   "file_extension": ".py",
   "mimetype": "text/x-python",
   "name": "python",
   "nbconvert_exporter": "python",
   "pygments_lexer": "ipython3",
   "version": "3.11.5"
  }
 },
 "nbformat": 4,
 "nbformat_minor": 5
}
