{
 "cells": [
  {
   "cell_type": "markdown",
   "id": "0a14353b-46a1-4c60-9ee7-080174af9aa7",
   "metadata": {},
   "source": [
    "# Sentence Transformer"
   ]
  },
  {
   "cell_type": "code",
   "execution_count": 1,
   "id": "9c8f10e2-148a-44e1-8cf6-748a75601885",
   "metadata": {},
   "outputs": [],
   "source": [
    "import copy\n",
    "import numpy as np\n",
    "import pandas as pd\n",
    "\n",
    "import torch\n",
    "import torch.nn as nn\n",
    "import torch.nn.functional as F\n",
    "import torch.optim as optim\n",
    "from torch.utils.data import Dataset, DataLoader\n",
    "from datasets import load_from_disk\n",
    "\n",
    "import matplotlib.pyplot as plt \n",
    "import seaborn as sns\n",
    "%matplotlib inline"
   ]
  },
  {
   "cell_type": "markdown",
   "id": "e214c448-b292-4cd7-92e6-740be40bc11d",
   "metadata": {},
   "source": [
    "## GPU"
   ]
  },
  {
   "cell_type": "code",
   "execution_count": 2,
   "id": "959cac82-9842-4968-9597-4c8324936e66",
   "metadata": {},
   "outputs": [
    {
     "name": "stdout",
     "output_type": "stream",
     "text": [
      "zsh:1: command not found: nvidia-smi\n"
     ]
    }
   ],
   "source": [
    "!nvidia-smi"
   ]
  },
  {
   "cell_type": "code",
   "execution_count": 3,
   "id": "eceddb8b-556e-4e20-8137-a4e77efa0490",
   "metadata": {},
   "outputs": [
    {
     "data": {
      "text/plain": [
       "device(type='cpu')"
      ]
     },
     "execution_count": 3,
     "metadata": {},
     "output_type": "execute_result"
    }
   ],
   "source": [
    "# Check if CUDA is available, else use CPU\n",
    "device = torch.device('cuda' if torch.cuda.is_available() else 'cpu')\n",
    "device"
   ]
  },
  {
   "cell_type": "markdown",
   "id": "c5e1345e-a55c-4636-b5ee-1078da5d812d",
   "metadata": {},
   "source": [
    "### Hyperparameters"
   ]
  },
  {
   "cell_type": "code",
   "execution_count": 4,
   "id": "05b6a852-9309-4923-848c-1eda295814ed",
   "metadata": {},
   "outputs": [],
   "source": [
    "# Hyperparameters\n",
    "LEARNING_RATE = 0.000005\n",
    "BATCH_SIZE = 24\n",
    "EPOCHS = 200"
   ]
  },
  {
   "cell_type": "markdown",
   "id": "a2aa67ca-52c8-409e-8862-dac0997bafe0",
   "metadata": {},
   "source": [
    "## Path"
   ]
  },
  {
   "cell_type": "code",
   "execution_count": 5,
   "id": "dac6f086-4f3e-48ea-b64b-f78b9f8acb94",
   "metadata": {},
   "outputs": [],
   "source": [
    "OUT_PATH = '../out'\n",
    "DATA_PATH = '../data'"
   ]
  },
  {
   "cell_type": "markdown",
   "id": "a1fd958f-82f1-4f6b-9a00-97c41e225c30",
   "metadata": {},
   "source": [
    "## Generate dataset and batch"
   ]
  },
  {
   "cell_type": "code",
   "execution_count": 6,
   "id": "fd6d7c30-5744-4c0d-824d-dcc667e50a9f",
   "metadata": {},
   "outputs": [],
   "source": [
    "class PromptDataset(Dataset):\n",
    "\n",
    "    def __init__(self, dataset, device):\n",
    "        self.dataset = dataset\n",
    "        self.device = device\n",
    "\n",
    "    def deserialize_array(self, binary_string, dtype, shape):\n",
    "        return np.frombuffer(binary_string, dtype=dtype).reshape(shape)\n",
    "\n",
    "    def __getitem__(self, index):\n",
    "        data = self.dataset[index]\n",
    "        # retrieve values\n",
    "        student_id = data['student_id']\n",
    "        prompt_id = data['prompt_id']\n",
    "        embeddings_question = torch.tensor(self.deserialize_array(data['embeddings_question'], np.float32, (768,))).to(self.device)\n",
    "        embeddings_text = torch.tensor(self.deserialize_array(data['embeddings_text'], np.float32, (768,))).to(self.device)\n",
    "        text = torch.tensor(self.deserialize_array(data['text'], np.float32, (768,))).to(self.device)\n",
    "        content = torch.tensor(data['content']).to(self.device)\n",
    "        wording = torch.tensor(data['wording']).to(self.device)\n",
    "        normalized_lexical_density = torch.tensor(data['normalized_lexical_density']).unsqueeze(0).to(self.device)\n",
    "        normalized_spell_checker = torch.tensor(data['normalized_spell_checker']).unsqueeze(0).to(self.device)\n",
    "        normalized_tf_idf_question_score = torch.tensor(data['normalized_tf_idf_question_score']).unsqueeze(0).to(self.device)\n",
    "        normalized_avg_word_length = torch.tensor(data['normalized_avg_word_length']).unsqueeze(0).to(self.device)\n",
    "        normalized_smog_index = torch.tensor(data['normalized_smog_index']).unsqueeze(0).to(self.device)\n",
    "        normalized_coleman_liau_index = torch.tensor(data['normalized_coleman_liau_index']).unsqueeze(0).to(self.device)\n",
    "        normalized_flesch_reading_ease = torch.tensor(data['normalized_flesch_reading_ease']).unsqueeze(0).to(self.device)\n",
    "        \n",
    "        return {\n",
    "            'student_id': student_id,\n",
    "            'prompt_id': prompt_id,\n",
    "            'embeddings_question': embeddings_question,\n",
    "            'embeddings_text': embeddings_text,\n",
    "            'text': text,\n",
    "            'content': content,\n",
    "            'wording': wording,\n",
    "            'normalized_lexical_density': normalized_lexical_density,\n",
    "            'normalized_spell_checker': normalized_spell_checker,\n",
    "            'normalized_tf_idf_question_score': normalized_tf_idf_question_score,\n",
    "            'normalized_avg_word_length': normalized_avg_word_length,\n",
    "            'normalized_smog_index': normalized_smog_index,\n",
    "            'normalized_coleman_liau_index': normalized_coleman_liau_index,\n",
    "            'normalized_flesch_reading_ease': normalized_flesch_reading_ease,\n",
    "        }\n",
    "\n",
    "    def __len__(self) -> int :\n",
    "        return self.dataset.num_rows"
   ]
  },
  {
   "cell_type": "code",
   "execution_count": 7,
   "id": "843e316c-df6c-485f-8561-6f890c556f87",
   "metadata": {},
   "outputs": [],
   "source": [
    "class DataLoaderFactory():\n",
    "\n",
    "    def __init__(self, path:str = f\"{DATA_PATH}/hugging_face\", batch_size = 12, device = 'cpu'):\n",
    "        self.batch_size = batch_size\n",
    "        self.dataset = load_from_disk(path, keep_in_memory=True)\n",
    "        self.device = device\n",
    "\n",
    "        print(\"1. Loading dataset: ...\", end=\"\")\n",
    "        dataset = load_from_disk(path, keep_in_memory=True)\n",
    "        print(\"\\r1. Loading dataset: done ✔️\")\n",
    "\n",
    "        print(\"2. Split datasets: ...\", end=\"\")\n",
    "        train_validation_splits = self.dataset['train'].train_test_split(test_size=0.3)\n",
    "        validation_test_splits = train_validation_splits['test'].train_test_split(test_size=0.4)\n",
    "        print(\"\\r2. Preprocess datasets: done ✔️\")\n",
    "\n",
    "        print(\"3. Split datasets: ...\", end=\"\")\n",
    "        self.train_data = PromptDataset(train_validation_splits['train'], self.device)\n",
    "        self.val_data = PromptDataset(validation_test_splits['train'], self.device)\n",
    "        self.test_data = PromptDataset(validation_test_splits['test'], self.device)\n",
    "        print(\"\\r3. Split datasets: done ✔️\")\n",
    "\n",
    "        self.dataloader_train = DataLoader(self.train_data, batch_size=batch_size, shuffle=True)\n",
    "        self.dataloader_val = DataLoader(self.val_data, batch_size=batch_size, shuffle=True)\n",
    "        self.dataloader_test = DataLoader(self.test_data, batch_size=batch_size, shuffle=True)\n",
    "    \n",
    "    \n",
    "    def __len__(self) -> int :\n",
    "        print(\"\\033[95m\\033[1m\\033[4mNumber of data by datasets splits\\033[0m\")\n",
    "        print(f\"Train\\t\\t: {len(self.train_data)}\\t-> {len(self.train_data)/self.batch_size}\")\n",
    "        print(f\"Validation\\t: {len(self.val_data)}\\t\\t-> {len(self.val_data)/self.batch_size}\")\n",
    "        print(f\"Test\\t\\t: {len(self.test_data)}\\t\\t-> {len(self.test_data)/self.batch_size}\")\n",
    "        total = len(self.train_data) + len(self.val_data)\n",
    "        print(f\"Total\\t\\t: {total}\")\n",
    "        return total\n",
    "\n",
    "    def get_batch(self, split):\n",
    "        # choose the correct dataloader\n",
    "        if split == 'train':\n",
    "            dataloader = self.dataloader_train\n",
    "        elif split == 'val':\n",
    "            dataloader = self.dataloader_val\n",
    "        else:\n",
    "            dataloader = self.dataloader_test\n",
    "\n",
    "        for batch in dataloader:\n",
    "            # Move tensors to device\n",
    "            batch_on_device = {k: v for k, v in batch.items()}\n",
    "            yield batch_on_device"
   ]
  },
  {
   "cell_type": "markdown",
   "id": "d18f4fc8-1830-4fab-ae74-d12fb945f374",
   "metadata": {},
   "source": [
    "### Load the dataset"
   ]
  },
  {
   "cell_type": "code",
   "execution_count": 8,
   "id": "f67182de-ccb8-4f77-87e0-5c88be245435",
   "metadata": {},
   "outputs": [
    {
     "name": "stdout",
     "output_type": "stream",
     "text": [
      "1. Loading dataset: done ✔️\n",
      "2. Preprocess datasets: done ✔️\n",
      "3. Split datasets: done ✔️\n",
      "\u001b[95m\u001b[1m\u001b[4mNumber of data by datasets splits\u001b[0m\n",
      "Train\t\t: 5015\t-> 208.95833333333334\n",
      "Validation\t: 1290\t\t-> 53.75\n",
      "Test\t\t: 860\t\t-> 35.833333333333336\n",
      "Total\t\t: 6305\n"
     ]
    },
    {
     "data": {
      "text/plain": [
       "6305"
      ]
     },
     "execution_count": 8,
     "metadata": {},
     "output_type": "execute_result"
    }
   ],
   "source": [
    "dataset = DataLoaderFactory(device=device, batch_size=BATCH_SIZE)\n",
    "len(dataset)"
   ]
  },
  {
   "cell_type": "markdown",
   "id": "1c5e512f-1fad-4c54-80c5-c0500a25f086",
   "metadata": {},
   "source": [
    "### Testing the dataset"
   ]
  },
  {
   "cell_type": "code",
   "execution_count": 9,
   "id": "fded6cee-24b5-4d28-a3df-a857fd1336c7",
   "metadata": {},
   "outputs": [],
   "source": [
    "batch = dataset.get_batch('train')\n",
    "nb = next(batch)"
   ]
  },
  {
   "cell_type": "code",
   "execution_count": 10,
   "id": "1ae8f919-4ba2-46be-be03-d47b248ddd70",
   "metadata": {},
   "outputs": [
    {
     "name": "stdout",
     "output_type": "stream",
     "text": [
      "student_id:              24\n",
      "prompt_id:               24\n",
      "embeddings_question:     torch.Size([24, 768])\n",
      "embeddings_text:         torch.Size([24, 768])\n",
      "text:                    torch.Size([24, 768])\n",
      "content:                 torch.Size([24])\n",
      "wording:                 torch.Size([24])\n",
      "normalized_lexical_density:torch.Size([24, 1])\n",
      "normalized_spell_checker:torch.Size([24, 1])\n",
      "normalized_tf_idf_question_score:torch.Size([24, 1])\n",
      "normalized_avg_word_length:torch.Size([24, 1])\n",
      "normalized_smog_index:   torch.Size([24, 1])\n",
      "normalized_coleman_liau_index:torch.Size([24, 1])\n",
      "normalized_flesch_reading_ease:torch.Size([24, 1])\n"
     ]
    }
   ],
   "source": [
    "print(f\"{'student_id:':<25}{len(nb['student_id'])}\")\n",
    "print(f\"{'prompt_id:':<25}{len(nb['prompt_id'])}\")\n",
    "print(f\"{'embeddings_question:':<25}{nb['embeddings_question'].shape}\")\n",
    "print(f\"{'embeddings_text:':<25}{nb['embeddings_text'].shape}\")\n",
    "print(f\"{'text:':<25}{nb['text'].shape}\")\n",
    "print(f\"{'content:':<25}{nb['content'].shape}\")\n",
    "print(f\"{'wording:':<25}{nb['wording'].shape}\")\n",
    "print(f\"{'normalized_lexical_density:':<25}{nb['normalized_lexical_density'].shape}\")\n",
    "print(f\"{'normalized_spell_checker:':<25}{nb['normalized_spell_checker'].shape}\")\n",
    "print(f\"{'normalized_tf_idf_question_score:':<25}{nb['normalized_tf_idf_question_score'].shape}\")\n",
    "print(f\"{'normalized_avg_word_length:':<25}{nb['normalized_avg_word_length'].shape}\")\n",
    "print(f\"{'normalized_smog_index:':<25}{nb['normalized_smog_index'].shape}\")\n",
    "print(f\"{'normalized_coleman_liau_index:':<25}{nb['normalized_coleman_liau_index'].shape}\")\n",
    "print(f\"{'normalized_flesch_reading_ease:':<25}{nb['normalized_flesch_reading_ease'].shape}\")"
   ]
  },
  {
   "cell_type": "markdown",
   "id": "420d85e7-b1e4-4d22-b043-ee9374286d04",
   "metadata": {},
   "source": [
    "## Training model"
   ]
  },
  {
   "cell_type": "markdown",
   "id": "c0c70332-9c16-499c-9fc3-734f72e2ecf4",
   "metadata": {},
   "source": [
    "1. **Input Layer:** Accept the embeddings of the question, text, and answer. This would result in three separate input layers, each of dimension `[batch_size, embedding_size]`.\n",
    "2. **Concatenate Layer:** Concatenate the embeddings along the feature axis. This results in `[batch_size, 3 * embedding_size]` dimensions.\n",
    "3. **Dense Layers:** Add a couple of Dense layers with suitable dropout layers in between for regularization. For instance:\n",
    "    - Dense layer with `1024` units, `ReLU` activation.\n",
    "    - Dropout layer with rate `0.5`.\n",
    "    - Dense layer with `512` units, ReLU activation.\n",
    "    - Another Dropout layer with rate `0.5`.\n",
    "4. **Output Layer:** Single Dense layer with `2` units (since you want two values between -1 and 1) and a `tanh` activation function.\n",
    "5. **Loss Function:** If the output of your model is a vector with two values between -1 and 1, then you're essentially dealing with multi-output regression. You can use `Mean Squared Error` or `Mean Absolute Error`, but it'll be applied to each output.\n",
    "6. **Optimizer:** Remains the same; options include `Adam`, `RMSprop`, and `SGD`."
   ]
  },
  {
   "cell_type": "markdown",
   "id": "e151c3c0-9d49-423a-9347-e7ed526bdf18",
   "metadata": {},
   "source": [
    "### Define the Model"
   ]
  },
  {
   "cell_type": "code",
   "execution_count": 11,
   "id": "2c51e654-671e-496f-aa2d-c6668fdd8caf",
   "metadata": {},
   "outputs": [],
   "source": [
    "# # Define the Model\n",
    "# class QA_Score_Model(nn.Module):\n",
    "#     def __init__(self, input_dim=3*768+7, dropout_rate=0.5):\n",
    "#         super(QA_Score_Model, self).__init__()\n",
    "\n",
    "#         # Dense Layers\n",
    "#         self.fc1 = nn.Linear(input_dim, 1024)\n",
    "#         self.fc2 = nn.Linear(1024, 512)\n",
    "#         self.fc3 = nn.Linear(512, 2)  # Output 2 values for each instance\n",
    "\n",
    "#         # Dropout\n",
    "#         self.dropout = nn.Dropout(dropout_rate)\n",
    "\n",
    "#     def forward(self, x):\n",
    "#         x = F.relu(self.fc1(x))\n",
    "#         if self.training:\n",
    "#             x = self.dropout(x)\n",
    "#         x = F.relu(self.fc2(x))\n",
    "#         if self.training:\n",
    "#             x = self.dropout(x)\n",
    "#         x = torch.tanh(self.fc3(x))  # tanh to get outputs in range [-1, 1]\n",
    "#         return x"
   ]
  },
  {
   "cell_type": "code",
   "execution_count": 12,
   "id": "3cd958cb-ca28-4a23-9910-93c28ac51584",
   "metadata": {},
   "outputs": [],
   "source": [
    "class QA_Score_Model(nn.Module):\n",
    "    def __init__(self, embedding_dim, dropout_rate=0.5):\n",
    "        super(QA_Score_Model, self).__init__()\n",
    "\n",
    "        # Embedding processors\n",
    "        self.fc_text_question_answer = nn.Linear(embedding_dim * 3, 256*3)\n",
    "        # self.fc_question = nn.Linear(embedding_dim, 256)\n",
    "        # self.fc_answer = nn.Linear(embedding_dim, 256)\n",
    "\n",
    "        # Scalar Processors\n",
    "        self.fc_lexical = nn.Linear(1, 16)\n",
    "        self.fc_spell = nn.Linear(1, 16)\n",
    "        self.fc_tfidf = nn.Linear(1, 16)\n",
    "        self.fc_avg_word_length = nn.Linear(1, 16)\n",
    "        self.fc_smog = nn.Linear(1, 16)\n",
    "        self.fc_coleman = nn.Linear(1, 16)\n",
    "        self.fc_flesch = nn.Linear(1, 16)\n",
    "\n",
    "        # Dropout layers\n",
    "        self.dropout = nn.Dropout(dropout_rate)\n",
    "\n",
    "        # Shared Dense Layers\n",
    "        self.fc1 = nn.Linear(256*3 + 16*7, 512)\n",
    "        self.fc2 = nn.Linear(512, 256)\n",
    "        \n",
    "        # Output Layers\n",
    "        self.out_content = nn.Linear(256, 1)\n",
    "        self.out_wording = nn.Linear(256, 1)\n",
    "        \n",
    "    def forward(self, text_question_answer, features):\n",
    "        lexical, spell, tfidf, avg_word_length, smog, coleman, flesch = features\n",
    "        # Pass through convolutional layers\n",
    "        x_text_question_answer = F.relu(self.fc_text_question_answer(text_question_answer))\n",
    "        # x_question = F.relu(self.fc_question(question))\n",
    "        # x_answer = F.relu(self.fc_answer(answer))\n",
    "\n",
    "        # Pass through scalar processors\n",
    "        x_lexical = F.relu(self.fc_lexical(lexical))\n",
    "        x_spell = F.relu(self.fc_spell(spell))\n",
    "        x_tfidf = F.relu(self.fc_tfidf(tfidf))\n",
    "        x_avg_word_length = F.relu(self.fc_avg_word_length(avg_word_length))\n",
    "        x_smog = F.relu(self.fc_smog(smog))\n",
    "        x_coleman = F.relu(self.fc_coleman(coleman))\n",
    "        x_flesch = F.relu(self.fc_flesch(flesch))\n",
    "        \n",
    "        # Concatenate\n",
    "        x = torch.cat((x_text_question_answer, x_lexical, x_spell, x_tfidf, x_avg_word_length, x_smog, x_coleman, x_flesch), dim=1)\n",
    "        \n",
    "        # Pass through shared dense layers with dropout\n",
    "        x = F.relu(self.fc1(x))\n",
    "        x = self.dropout(x)\n",
    "        x = F.relu(self.fc2(x))\n",
    "        x = self.dropout(x)\n",
    "        \n",
    "        # Output\n",
    "        content = self.out_content(x)\n",
    "        wording = self.out_wording(x)\n",
    "        \n",
    "        return torch.cat((content, wording), dim=1).to(device)"
   ]
  },
  {
   "cell_type": "markdown",
   "id": "aa399d64-ba3a-41b4-ae4d-d699d3a6be37",
   "metadata": {},
   "source": [
    "### MCRMSE loss"
   ]
  },
  {
   "cell_type": "code",
   "execution_count": 13,
   "id": "4dbcf449-f3f2-4cf6-a2e5-6ff55b88e955",
   "metadata": {},
   "outputs": [],
   "source": [
    "class MCRMSELoss(nn.Module):\n",
    "    def __init__(self):\n",
    "        super(MCRMSELoss, self).__init__()\n",
    "\n",
    "    def forward(self, y_true, y_pred):\n",
    "        colwise_mse = torch.mean(torch.square(y_true - y_pred), dim=0)\n",
    "        return torch.mean(torch.sqrt(colwise_mse), dim=0)"
   ]
  },
  {
   "cell_type": "code",
   "execution_count": 14,
   "id": "70e23974-ac03-4d23-a34a-251cf416c730",
   "metadata": {},
   "outputs": [],
   "source": [
    "def MCRMSE(targets, predictions):\n",
    "    \"\"\"\n",
    "    Compute the Mean Columnwise Root Mean Squared Error.\n",
    "    \n",
    "    Parameters:\n",
    "    - targets: Actual target values\n",
    "    - predictions: Model's predictions\n",
    "    \n",
    "    Returns:\n",
    "    - Mean Columnwise RMSE\n",
    "    \"\"\"\n",
    "    # Compute squared error\n",
    "    mse = torch.mean((targets - predictions) ** 2, dim=0)\n",
    "    \n",
    "    # Take square root of each column's MSE\n",
    "    rmse = torch.sqrt(mse)\n",
    "    \n",
    "    # Compute mean of RMSE across all columns\n",
    "    mcrmse = torch.mean(rmse)\n",
    "    \n",
    "    return mcrmse"
   ]
  },
  {
   "cell_type": "markdown",
   "id": "357d2d50-f523-4794-b993-49bf5497a153",
   "metadata": {},
   "source": [
    "### Create an instance of the model, loss function and the optimizer"
   ]
  },
  {
   "cell_type": "code",
   "execution_count": 15,
   "id": "11708a30-f4f4-41bc-b759-918d56b374a3",
   "metadata": {},
   "outputs": [],
   "source": [
    "# Create an instance of the model, loss function and the optimizer\n",
    "model = QA_Score_Model(768)\n",
    "model = model.to(device)\n",
    "criterion = MCRMSELoss()  # Mean Absolute Error less sensitive to outliers # MSELoss Mean Squared Error Loss\n",
    "# criterion = nn.L1Loss()  # Mean Absolute Error less sensitive to outliers # MSELoss Mean Squared Error Loss\n",
    "optimizer = optim.Adam(model.parameters(), lr=LEARNING_RATE)"
   ]
  },
  {
   "cell_type": "markdown",
   "id": "76493c03-5a20-4658-80c6-31a1bcb5c41f",
   "metadata": {},
   "source": [
    "### Training loop"
   ]
  },
  {
   "cell_type": "code",
   "execution_count": 16,
   "id": "51c3c6ec-b433-4efa-a5a5-8e8324d87836",
   "metadata": {},
   "outputs": [],
   "source": [
    "def training_loop(model, dataset, epoch):\n",
    "    model = model.train()\n",
    "    \n",
    "    total_train_loss = 0.0\n",
    "    # total_train_mcrmse = 0.0\n",
    "    \n",
    "    batchs = dataset.get_batch('train')\n",
    "    \n",
    "    num_train_batches = len(dataset.train_data) // BATCH_SIZE\n",
    "    for i, batch in enumerate(batchs):\n",
    "        # Get the batch data\n",
    "        student_id = batch['student_id']\n",
    "        prompt_id = batch['prompt_id']\n",
    "        embeddings_question = batch['embeddings_question']\n",
    "        embeddings_text = batch['embeddings_text']\n",
    "        embeddings_answer = batch['text']\n",
    "        content = batch['content']\n",
    "        wording = batch['wording']\n",
    "        normalized_lexical_density = batch['normalized_lexical_density']\n",
    "        normalized_spell_checker = batch['normalized_spell_checker']\n",
    "        normalized_tf_idf_question_score = batch['normalized_tf_idf_question_score']\n",
    "        normalized_avg_word_length = batch['normalized_avg_word_length']\n",
    "        normalized_smog_index = batch['normalized_smog_index']\n",
    "        normalized_coleman_liau_index = batch['normalized_coleman_liau_index']\n",
    "        normalized_flesch_reading_ease = batch['normalized_flesch_reading_ease']\n",
    "        \n",
    "        # create input targets\n",
    "        input_data = torch.cat(\n",
    "            (\n",
    "                embeddings_text,\n",
    "                embeddings_question,\n",
    "                embeddings_answer\n",
    "            ), dim=1).to(device)\n",
    "        targets = torch.stack(\n",
    "            (\n",
    "                content,\n",
    "                wording\n",
    "            ), dim=1).to(device)\n",
    "        \n",
    "        # Zero the gradients\n",
    "        optimizer.zero_grad()\n",
    "\n",
    "        # Forward pass\n",
    "        features = (normalized_lexical_density, \\\n",
    "                    normalized_spell_checker, \\\n",
    "                    normalized_tf_idf_question_score, \\\n",
    "                    normalized_avg_word_length, \\\n",
    "                    normalized_smog_index, \\\n",
    "                    normalized_coleman_liau_index, \\\n",
    "                    normalized_flesch_reading_ease \\\n",
    "                   )\n",
    "        outputs = model(input_data, features)\n",
    "\n",
    "        # Loss\n",
    "        loss = criterion(targets, outputs)\n",
    "\n",
    "        # Backward pass and optimization\n",
    "        loss.backward()\n",
    "        optimizer.step()\n",
    "\n",
    "        # Print loss (you might want to print every N batches, not every batch)\n",
    "        print(f\"\\rEpoch [{epoch + 1}/{EPOCHS}], Batch [{i}/{num_train_batches}], Loss: {loss.item()}\", end=\"\")        \n",
    "\n",
    "        total_train_loss += loss.item()\n",
    "        # total_train_mcrmse += eval_metric.item()\n",
    "\n",
    "    avg_train_loss = total_train_loss / num_train_batches\n",
    "    # avg_train_mcrmse = total_train_mcrmse / num_train_batches\n",
    "\n",
    "    # return model, avg_train_loss, avg_train_mcrmse\n",
    "    return model, avg_train_loss"
   ]
  },
  {
   "cell_type": "markdown",
   "id": "3938650b-cf46-4e24-88ea-1d46cc827f3f",
   "metadata": {},
   "source": [
    "### Validation loop"
   ]
  },
  {
   "cell_type": "code",
   "execution_count": 17,
   "id": "50b820d0-8dd1-4292-9806-4d20186bb524",
   "metadata": {},
   "outputs": [],
   "source": [
    "def validation_loop(model, dataset, epoch):\n",
    "    print(f\"\\nValidating...\", end=\"\")\n",
    "    # Validation Evaluation\n",
    "    model = model.eval()  # Set the model to evaluation mode\n",
    "    \n",
    "    total_val_loss = 0.0\n",
    "    # total_val_mcrmse = 0.0\n",
    "    \n",
    "    val_batches = dataset.get_batch('val')\n",
    "    \n",
    "    num_val_batches = len(dataset.val_data) // BATCH_SIZE\n",
    "    with torch.no_grad():  # Disable gradient computations\n",
    "        for i, val_batch in enumerate(val_batches):\n",
    "            student_id = val_batch['student_id']\n",
    "            prompt_id = val_batch['prompt_id']\n",
    "            embeddings_question = val_batch['embeddings_question']\n",
    "            embeddings_text = val_batch['embeddings_text']\n",
    "            embeddings_answer = val_batch['text']\n",
    "            content = val_batch['content']\n",
    "            wording = val_batch['wording']\n",
    "            normalized_lexical_density = val_batch['normalized_lexical_density']\n",
    "            normalized_spell_checker = val_batch['normalized_spell_checker']\n",
    "            normalized_tf_idf_question_score = val_batch['normalized_tf_idf_question_score']\n",
    "            normalized_avg_word_length = val_batch['normalized_avg_word_length']\n",
    "            normalized_smog_index = val_batch['normalized_smog_index']\n",
    "            normalized_coleman_liau_index = val_batch['normalized_coleman_liau_index']\n",
    "            normalized_flesch_reading_ease = val_batch['normalized_flesch_reading_ease']\n",
    "\n",
    "            # Create input\n",
    "            val_input_data = torch.cat(\n",
    "                (\n",
    "                    embeddings_text,\n",
    "                    embeddings_question,\n",
    "                    embeddings_answer\n",
    "                ), dim=1).to(device)\n",
    "            val_targets = torch.stack((content, wording), dim=1).to(device)\n",
    "            \n",
    "            features = (normalized_lexical_density, \\\n",
    "                        normalized_spell_checker, \\\n",
    "                        normalized_tf_idf_question_score, \\\n",
    "                        normalized_avg_word_length, \\\n",
    "                        normalized_smog_index, \\\n",
    "                        normalized_coleman_liau_index, \\\n",
    "                        normalized_flesch_reading_ease \\\n",
    "                       )\n",
    "            # Forward pass\n",
    "            val_outputs = model(val_input_data, features)\n",
    "\n",
    "            # Compute MCRMSE loss\n",
    "            val_loss = criterion(val_targets, val_outputs)\n",
    "\n",
    "            total_val_loss += val_loss.item()\n",
    "\n",
    "    avg_val_loss = total_val_loss / num_val_batches\n",
    "\n",
    "    print(f\"\\rValidation Loss after Epoch {epoch + 1}: {avg_val_loss}\\n\")\n",
    "    \n",
    "    # return avg_val_loss, avg_val_mcrmse\n",
    "    return avg_val_loss"
   ]
  },
  {
   "cell_type": "code",
   "execution_count": 18,
   "id": "892f78e8-72a3-48ab-8deb-d3443311b6e2",
   "metadata": {},
   "outputs": [
    {
     "name": "stdout",
     "output_type": "stream",
     "text": [
      "Epoch [1/200], Batch [208/208], Loss: 0.10856866836547852\n",
      "Validation Loss after Epoch 1: 0.10038053778544911\n",
      "\n",
      "Epoch [2/200], Batch [208/208], Loss: 0.08249673247337341\n",
      "Validation Loss after Epoch 2: 0.09723842411108737\n",
      "\n",
      "Epoch [3/200], Batch [208/208], Loss: 0.08089235424995422\n",
      "Validation Loss after Epoch 3: 0.09319310832136082\n",
      "\n",
      "Epoch [4/200], Batch [208/208], Loss: 0.09704092144966125\n",
      "Validation Loss after Epoch 4: 0.0899959849017971\n",
      "\n",
      "Epoch [5/200], Batch [208/208], Loss: 0.07602962106466293\n",
      "Validation Loss after Epoch 5: 0.08630112755411076\n",
      "\n",
      "Epoch [6/200], Batch [208/208], Loss: 0.08908376097679138\n",
      "Validation Loss after Epoch 6: 0.08314270245016746\n",
      "\n",
      "Epoch [7/200], Batch [208/208], Loss: 0.075718849897384646\n",
      "Validation Loss after Epoch 7: 0.08070477126341946\n",
      "\n",
      "Epoch [8/200], Batch [208/208], Loss: 0.074196219444274936\n",
      "Validation Loss after Epoch 8: 0.07921240127311563\n",
      "\n",
      "Epoch [9/200], Batch [208/208], Loss: 0.091319799423217775\n",
      "Validation Loss after Epoch 9: 0.0774454618540575\n",
      "\n",
      "Epoch [10/200], Batch [208/208], Loss: 0.081842765212059026\n",
      "Validation Loss after Epoch 10: 0.07602835067038266\n",
      "\n",
      "Epoch [11/200], Batch [208/208], Loss: 0.071311824023723696\n",
      "Validation Loss after Epoch 11: 0.07488141721993122\n",
      "\n",
      "Epoch [12/200], Batch [208/208], Loss: 0.074346825480461125\n",
      "Validation Loss after Epoch 12: 0.0739375189087301\n",
      "\n",
      "Epoch [13/200], Batch [208/208], Loss: 0.069551244378089966\n",
      "Validation Loss after Epoch 13: 0.07314211776796377\n",
      "\n",
      "Epoch [14/200], Batch [208/208], Loss: 0.069451212882995655\n",
      "Validation Loss after Epoch 14: 0.07255994219262644\n",
      "\n",
      "Epoch [15/200], Batch [208/208], Loss: 0.074609279632568365\n",
      "Validation Loss after Epoch 15: 0.07183821864847867\n",
      "\n",
      "Epoch [16/200], Batch [208/208], Loss: 0.089170336723327644\n",
      "Validation Loss after Epoch 16: 0.07108442696197978\n",
      "\n",
      "Epoch [17/200], Batch [208/208], Loss: 0.057641103863716125\n",
      "Validation Loss after Epoch 17: 0.07057957055996049\n",
      "\n",
      "Epoch [18/200], Batch [208/208], Loss: 0.092580042779445656\n",
      "Validation Loss after Epoch 18: 0.07029864030345431\n",
      "\n",
      "Epoch [19/200], Batch [208/208], Loss: 0.066335394978523254\n",
      "Validation Loss after Epoch 19: 0.07003552550977131\n",
      "\n",
      "Epoch [20/200], Batch [208/208], Loss: 0.072914779186248783\n",
      "Validation Loss after Epoch 20: 0.06938428614499434\n",
      "\n",
      "Epoch [21/200], Batch [208/208], Loss: 0.060209698975086214\n",
      "Validation Loss after Epoch 21: 0.06920692233263322\n",
      "\n",
      "Epoch [22/200], Batch [208/208], Loss: 0.065110214054584565\n",
      "Validation Loss after Epoch 22: 0.06823423286935068\n",
      "\n",
      "Epoch [23/200], Batch [208/208], Loss: 0.072111666202545176\n",
      "Validation Loss after Epoch 23: 0.06852988814407925\n",
      "\n",
      "Epoch [24/200], Batch [208/208], Loss: 0.056828480213880545\n",
      "Validation Loss after Epoch 24: 0.06818714344276572\n",
      "\n",
      "Epoch [25/200], Batch [208/208], Loss: 0.071003586053848274\n",
      "Validation Loss after Epoch 25: 0.06786145016832172\n",
      "\n",
      "Epoch [26/200], Batch [208/208], Loss: 0.059162206947803546\n",
      "Validation Loss after Epoch 26: 0.06766334921121597\n",
      "\n",
      "Epoch [27/200], Batch [208/208], Loss: 0.054531984031200417\n",
      "Validation Loss after Epoch 27: 0.06754578010372396\n",
      "\n",
      "Epoch [28/200], Batch [208/208], Loss: 0.073841273784637454\n",
      "Validation Loss after Epoch 28: 0.06703828043251667\n",
      "\n",
      "Epoch [29/200], Batch [208/208], Loss: 0.085273951292037965\n",
      "Validation Loss after Epoch 29: 0.06698669619717688\n",
      "\n",
      "Epoch [30/200], Batch [208/208], Loss: 0.071995884180068976\n",
      "Validation Loss after Epoch 30: 0.06682323305955473\n",
      "\n",
      "Epoch [31/200], Batch [208/208], Loss: 0.058931369334459305\n",
      "Validation Loss after Epoch 31: 0.06647545204691167\n",
      "\n",
      "Epoch [32/200], Batch [208/208], Loss: 0.073039263486862184\n",
      "Validation Loss after Epoch 32: 0.0660941389934072\n",
      "\n",
      "Epoch [33/200], Batch [208/208], Loss: 0.071610048413276676\n",
      "Validation Loss after Epoch 33: 0.06613331168608845\n",
      "\n",
      "Epoch [34/200], Batch [208/208], Loss: 0.052994716912508015\n",
      "Validation Loss after Epoch 34: 0.06606133563338586\n",
      "\n",
      "Epoch [35/200], Batch [208/208], Loss: 0.077837675809860235\n",
      "Validation Loss after Epoch 35: 0.06584409645424699\n",
      "\n",
      "Epoch [36/200], Batch [208/208], Loss: 0.051315739750862123\n",
      "Validation Loss after Epoch 36: 0.06592615391567068\n",
      "\n",
      "Epoch [37/200], Batch [208/208], Loss: 0.056716229766607285\n",
      "Validation Loss after Epoch 37: 0.06553145905710617\n",
      "\n",
      "Epoch [38/200], Batch [208/208], Loss: 0.080826550722122196\n",
      "Validation Loss after Epoch 38: 0.06586789374925056\n",
      "\n",
      "Epoch [39/200], Batch [208/208], Loss: 0.068353146314620976\n",
      "Validation Loss after Epoch 39: 0.06528002607091418\n",
      "\n",
      "Epoch [40/200], Batch [208/208], Loss: 0.061678357422351845\n",
      "Validation Loss after Epoch 40: 0.06564068414692609\n",
      "\n",
      "Epoch [41/200], Batch [208/208], Loss: 0.071203678846359254\n",
      "Validation Loss after Epoch 41: 0.06489635884480656\n",
      "\n",
      "Epoch [42/200], Batch [208/208], Loss: 0.070327408611774445\n",
      "Validation Loss after Epoch 42: 0.06465168346492749\n",
      "\n",
      "Epoch [43/200], Batch [208/208], Loss: 0.041779410094022755\n",
      "Validation Loss after Epoch 43: 0.06459936309816702\n",
      "\n",
      "Epoch [44/200], Batch [208/208], Loss: 0.056658465415239334\n",
      "Validation Loss after Epoch 44: 0.06425623968243599\n",
      "\n",
      "Epoch [45/200], Batch [208/208], Loss: 0.049362137913703925\n",
      "Validation Loss after Epoch 45: 0.06435705573772485\n",
      "\n",
      "Epoch [46/200], Batch [208/208], Loss: 0.057416323572397234\n",
      "Validation Loss after Epoch 46: 0.06486943476604966\n",
      "\n",
      "Epoch [47/200], Batch [208/208], Loss: 0.051759392023086555\n",
      "Validation Loss after Epoch 47: 0.06401107284539151\n",
      "\n",
      "Epoch [48/200], Batch [208/208], Loss: 0.058510482311248784\n",
      "Validation Loss after Epoch 48: 0.06404195922725606\n",
      "\n",
      "Epoch [49/200], Batch [208/208], Loss: 0.072374135255813625\n",
      "Validation Loss after Epoch 49: 0.06427703678326786\n",
      "\n",
      "Epoch [50/200], Batch [208/208], Loss: 0.075508624315261845\n",
      "Validation Loss after Epoch 50: 0.06382370676915601\n",
      "\n",
      "Epoch [51/200], Batch [208/208], Loss: 0.078451618552207956\n",
      "Validation Loss after Epoch 51: 0.06382300704717636\n",
      "\n",
      "Epoch [52/200], Batch [208/208], Loss: 0.071821466088294986\n",
      "Validation Loss after Epoch 52: 0.06402858641912353\n",
      "\n",
      "Epoch [53/200], Batch [208/208], Loss: 0.059678036719560625\n",
      "Validation Loss after Epoch 53: 0.06325789280938653\n",
      "\n",
      "Epoch [54/200], Batch [208/208], Loss: 0.067124910652637486\n",
      "Validation Loss after Epoch 54: 0.06349376441453988\n",
      "\n",
      "Epoch [55/200], Batch [208/208], Loss: 0.063450187444686896\n",
      "Validation Loss after Epoch 55: 0.06377693195388003\n",
      "\n",
      "Epoch [56/200], Batch [208/208], Loss: 0.068224012851715096\n",
      "Validation Loss after Epoch 56: 0.06383124942768295\n",
      "\n",
      "Epoch [57/200], Batch [208/208], Loss: 0.071965061128139514\n",
      "Validation Loss after Epoch 57: 0.0632443293085638\n",
      "\n",
      "Epoch [58/200], Batch [208/208], Loss: 0.056207790970802314\n",
      "Validation Loss after Epoch 58: 0.06343021159464458\n",
      "\n",
      "Epoch [59/200], Batch [208/208], Loss: 0.078772388398647314\n",
      "Validation Loss after Epoch 59: 0.06310917908009493\n",
      "\n",
      "Epoch [60/200], Batch [208/208], Loss: 0.058119095861911774\n",
      "Validation Loss after Epoch 60: 0.06307027650610456\n",
      "\n",
      "Epoch [61/200], Batch [208/208], Loss: 0.064140938222408395\n",
      "Validation Loss after Epoch 61: 0.06265934732443881\n",
      "\n",
      "Epoch [62/200], Batch [208/208], Loss: 0.051517006009817124\n",
      "Validation Loss after Epoch 62: 0.06345423486716342\n",
      "\n",
      "Epoch [63/200], Batch [208/208], Loss: 0.068480506539344796\n",
      "Validation Loss after Epoch 63: 0.06255657563232025\n",
      "\n",
      "Epoch [64/200], Batch [208/208], Loss: 0.055809095501899724\n",
      "Validation Loss after Epoch 64: 0.06257654276658904\n",
      "\n",
      "Epoch [65/200], Batch [208/208], Loss: 0.057736583054065704\n",
      "Validation Loss after Epoch 65: 0.06276452766274507\n",
      "\n",
      "Epoch [66/200], Batch [208/208], Loss: 0.060880474746227264\n",
      "Validation Loss after Epoch 66: 0.06263387828784168\n",
      "\n",
      "Epoch [67/200], Batch [208/208], Loss: 0.066557884216308696\n",
      "Validation Loss after Epoch 67: 0.06238887177885703\n",
      "\n",
      "Epoch [68/200], Batch [208/208], Loss: 0.062932193279266366\n",
      "Validation Loss after Epoch 68: 0.06255568845092126\n",
      "\n",
      "Epoch [69/200], Batch [208/208], Loss: 0.061089441180229196\n",
      "Validation Loss after Epoch 69: 0.06248723581995604\n",
      "\n",
      "Epoch [70/200], Batch [208/208], Loss: 0.051117811352014546\n",
      "Validation Loss after Epoch 70: 0.062302538035613184\n",
      "\n",
      "Epoch [71/200], Batch [208/208], Loss: 0.073696523904800425\n",
      "Validation Loss after Epoch 71: 0.06240632476390533\n",
      "\n",
      "Epoch [72/200], Batch [208/208], Loss: 0.055259510874748234\n",
      "Validation Loss after Epoch 72: 0.062304355625836354\n",
      "\n",
      "Epoch [73/200], Batch [208/208], Loss: 0.058020129799842834\n",
      "Validation Loss after Epoch 73: 0.06228370634171198\n",
      "\n",
      "Epoch [74/200], Batch [208/208], Loss: 0.054404661059379586\n",
      "Validation Loss after Epoch 74: 0.06230727217669757\n",
      "\n",
      "Epoch [75/200], Batch [208/208], Loss: 0.055077198892831854\n",
      "Validation Loss after Epoch 75: 0.06245050164607336\n",
      "\n",
      "Epoch [76/200], Batch [208/208], Loss: 0.048807933926582336\n",
      "Validation Loss after Epoch 76: 0.06189625864883639\n",
      "\n",
      "Epoch [77/200], Batch [208/208], Loss: 0.051774792373180396\n",
      "Validation Loss after Epoch 77: 0.06196533818289919\n",
      "\n",
      "Epoch [78/200], Batch [208/208], Loss: 0.054630000144243246\n",
      "Validation Loss after Epoch 78: 0.06200439286119533\n",
      "\n",
      "Epoch [79/200], Batch [208/208], Loss: 0.063595473766326996\n",
      "Validation Loss after Epoch 79: 0.06223451542966771\n",
      "\n",
      "Epoch [80/200], Batch [208/208], Loss: 0.070991776883602146\n",
      "Validation Loss after Epoch 80: 0.06168018759421583\n",
      "\n",
      "Epoch [81/200], Batch [208/208], Loss: 0.059494875371456146\n",
      "Validation Loss after Epoch 81: 0.06194236031118429\n",
      "\n",
      "Epoch [82/200], Batch [208/208], Loss: 0.069146856665611276\n",
      "Validation Loss after Epoch 82: 0.061813085498112555\n",
      "\n",
      "Epoch [83/200], Batch [208/208], Loss: 0.058363322168588646\n",
      "Validation Loss after Epoch 83: 0.06181114862831134\n",
      "\n",
      "Epoch [84/200], Batch [208/208], Loss: 0.061024870723485954\n",
      "Validation Loss after Epoch 84: 0.062128453111311176\n",
      "\n",
      "Epoch [85/200], Batch [208/208], Loss: 0.069910153746604926\n",
      "Validation Loss after Epoch 85: 0.06174930656012499\n",
      "\n",
      "Early stopping on epoch 84. Best epoch was 79 with val loss: 0.0617.\n"
     ]
    }
   ],
   "source": [
    "# Early stopping parameters\n",
    "patience = 5  # Number of epochs with no improvement after which training will be stopped\n",
    "counter = 0  # To count number of epochs with no improvement\n",
    "best_val_loss = None  # To keep track of best validation loss\n",
    "best_model_state = None  # To store best model's state\n",
    "\n",
    "train_losses = []\n",
    "val_losses = []\n",
    "\n",
    "for epoch in range(EPOCHS):\n",
    "    # training loop\n",
    "    model, epoch_train_loss = training_loop(model, dataset, epoch)\n",
    "    train_losses.append(epoch_train_loss)\n",
    "    \n",
    "    # validation loop\n",
    "    epoch_val_loss = validation_loop(model, dataset, epoch)\n",
    "    val_losses.append(epoch_val_loss)\n",
    "\n",
    "    # Check if this epoch's validation loss is the best we've seen so far.\n",
    "    if best_val_loss is None or epoch_val_loss < best_val_loss:\n",
    "        best_val_loss = epoch_val_loss\n",
    "        best_model_state = copy.deepcopy(model.state_dict())  # Save best model\n",
    "        counter = 0  # Reset counter\n",
    "    else:\n",
    "        counter += 1  # Increment counter as no improvement in validation loss\n",
    "\n",
    "    # If we've had patience number of epochs without improvement, stop training\n",
    "    if counter >= patience:\n",
    "        print(f\"Early stopping on epoch {epoch}. Best epoch was {epoch - counter} with val loss: {best_val_loss:.4f}.\")\n",
    "        break\n",
    "\n",
    "# Load best model weights\n",
    "model.load_state_dict(best_model_state)\n",
    "torch.save(model.state_dict(), f\"{OUT_PATH}/best_model.pt\")  # Save the best model to disk\n",
    "\n"
   ]
  },
  {
   "cell_type": "markdown",
   "id": "62f186fe-aa77-4f32-9332-b46a53d6407b",
   "metadata": {},
   "source": [
    "### Loss visualization"
   ]
  },
  {
   "cell_type": "code",
   "execution_count": 19,
   "id": "5ab4c6a2-d3e5-474d-9a69-b60e59513a6d",
   "metadata": {},
   "outputs": [],
   "source": [
    "def plot_graphs(train_losses, val_losses):\n",
    "    # Monokai color palette\n",
    "    colors = ['#F92672', '#A6E22E', '#66D9EF', '#FD971F']\n",
    "    \n",
    "    # Set the background color and grid color\n",
    "    sns.set_style(\"darkgrid\", {\n",
    "        \"axes.facecolor\": \".1\",  # Dark background\n",
    "        \"grid.color\": \".15\",  # Slightly grayish grid lines\n",
    "        \"axes.labelcolor\": \"white\",\n",
    "        \"xtick.color\": \"white\",\n",
    "        \"ytick.color\": \"white\"\n",
    "    })\n",
    "\n",
    "    epochs = range(1, len(train_losses) + 1)\n",
    "\n",
    "    # Plotting the losses\n",
    "    plt.figure(figsize=(12, 6))\n",
    "\n",
    "    # Set entire background color\n",
    "    fig = plt.gcf()\n",
    "    fig.patch.set_facecolor('.1')  # Color for the whole backgroun\n",
    "\n",
    "    plt.subplot(1, 2, 1)\n",
    "    sns.lineplot(x=epochs, y=train_losses, label='Train Loss', marker='o', color=colors[0])\n",
    "    sns.lineplot(x=epochs, y=val_losses, label='Validation Loss', marker='o', color=colors[1])\n",
    "    plt.title('Training and Validation Loss', color='white')\n",
    "    plt.xlabel('Epochs')\n",
    "    plt.ylabel('Loss')\n",
    "    legend = plt.legend()\n",
    "    for text in legend.get_texts():\n",
    "        text.set_color(\"white\")  # Set the legend text color to white\n",
    "\n",
    "    plt.tight_layout()\n",
    "    plt.show()"
   ]
  },
  {
   "cell_type": "code",
   "execution_count": 20,
   "id": "9d2a845c-f61e-4ae4-9a69-58b0c85f6d73",
   "metadata": {},
   "outputs": [
    {
     "name": "stderr",
     "output_type": "stream",
     "text": [
      "/Users/thibaudperrin/.local/share/virtualenvs/commonlit-evaluate-student-summaries-1rc7Oi8p/lib/python3.11/site-packages/seaborn/_oldcore.py:1498: FutureWarning: is_categorical_dtype is deprecated and will be removed in a future version. Use isinstance(dtype, CategoricalDtype) instead\n",
      "  if pd.api.types.is_categorical_dtype(vector):\n",
      "/Users/thibaudperrin/.local/share/virtualenvs/commonlit-evaluate-student-summaries-1rc7Oi8p/lib/python3.11/site-packages/seaborn/_oldcore.py:1498: FutureWarning: is_categorical_dtype is deprecated and will be removed in a future version. Use isinstance(dtype, CategoricalDtype) instead\n",
      "  if pd.api.types.is_categorical_dtype(vector):\n",
      "/Users/thibaudperrin/.local/share/virtualenvs/commonlit-evaluate-student-summaries-1rc7Oi8p/lib/python3.11/site-packages/seaborn/_oldcore.py:1119: FutureWarning: use_inf_as_na option is deprecated and will be removed in a future version. Convert inf values to NaN before operating instead.\n",
      "  with pd.option_context('mode.use_inf_as_na', True):\n",
      "/Users/thibaudperrin/.local/share/virtualenvs/commonlit-evaluate-student-summaries-1rc7Oi8p/lib/python3.11/site-packages/seaborn/_oldcore.py:1119: FutureWarning: use_inf_as_na option is deprecated and will be removed in a future version. Convert inf values to NaN before operating instead.\n",
      "  with pd.option_context('mode.use_inf_as_na', True):\n",
      "/Users/thibaudperrin/.local/share/virtualenvs/commonlit-evaluate-student-summaries-1rc7Oi8p/lib/python3.11/site-packages/seaborn/_oldcore.py:1498: FutureWarning: is_categorical_dtype is deprecated and will be removed in a future version. Use isinstance(dtype, CategoricalDtype) instead\n",
      "  if pd.api.types.is_categorical_dtype(vector):\n",
      "/Users/thibaudperrin/.local/share/virtualenvs/commonlit-evaluate-student-summaries-1rc7Oi8p/lib/python3.11/site-packages/seaborn/_oldcore.py:1498: FutureWarning: is_categorical_dtype is deprecated and will be removed in a future version. Use isinstance(dtype, CategoricalDtype) instead\n",
      "  if pd.api.types.is_categorical_dtype(vector):\n",
      "/Users/thibaudperrin/.local/share/virtualenvs/commonlit-evaluate-student-summaries-1rc7Oi8p/lib/python3.11/site-packages/seaborn/_oldcore.py:1119: FutureWarning: use_inf_as_na option is deprecated and will be removed in a future version. Convert inf values to NaN before operating instead.\n",
      "  with pd.option_context('mode.use_inf_as_na', True):\n",
      "/Users/thibaudperrin/.local/share/virtualenvs/commonlit-evaluate-student-summaries-1rc7Oi8p/lib/python3.11/site-packages/seaborn/_oldcore.py:1119: FutureWarning: use_inf_as_na option is deprecated and will be removed in a future version. Convert inf values to NaN before operating instead.\n",
      "  with pd.option_context('mode.use_inf_as_na', True):\n"
     ]
    },
    {
     "data": {
      "image/png": "[encoded data removed]",
      "text/plain": [
       "<Figure size 1200x600 with 1 Axes>"
      ]
     },
     "metadata": {},
     "output_type": "display_data"
    }
   ],
   "source": [
    "# After training, call the function to plot\n",
    "plot_graphs(train_losses, val_losses)"
   ]
  },
  {
   "cell_type": "markdown",
   "id": "b28171c7-d418-404a-a7e7-cfb3567c7c12",
   "metadata": {},
   "source": [
    "## Saving torch script"
   ]
  },
  {
   "cell_type": "code",
   "execution_count": 21,
   "id": "6a58131d-0d65-4e15-bd16-c67008f19d80",
   "metadata": {},
   "outputs": [
    {
     "data": {
      "text/plain": [
       "<All keys matched successfully>"
      ]
     },
     "execution_count": 21,
     "metadata": {},
     "output_type": "execute_result"
    }
   ],
   "source": [
    "model.load_state_dict(torch.load(f\"{OUT_PATH}/best_model.pt\"))"
   ]
  },
  {
   "cell_type": "code",
   "execution_count": 22,
   "id": "2a21393b-2e29-436e-bc9e-bc93f32469cc",
   "metadata": {},
   "outputs": [],
   "source": [
    "exemple_batches = dataset.get_batch('train')\n",
    "ex_batch = next(exemple_batches)\n",
    "embeddings_question = ex_batch['embeddings_question']\n",
    "embeddings_text = ex_batch['embeddings_text']\n",
    "embeddings_answer = ex_batch['text']\n",
    "content = ex_batch['content']\n",
    "wording = ex_batch['wording']\n",
    "normalized_lexical_density = ex_batch['normalized_lexical_density']\n",
    "normalized_spell_checker = ex_batch['normalized_spell_checker']\n",
    "normalized_tf_idf_question_score = ex_batch['normalized_tf_idf_question_score']\n",
    "normalized_avg_word_length = ex_batch['normalized_avg_word_length']\n",
    "normalized_smog_index = ex_batch['normalized_smog_index']\n",
    "normalized_coleman_liau_index = ex_batch['normalized_coleman_liau_index']\n",
    "normalized_flesch_reading_ease = ex_batch['normalized_flesch_reading_ease']\n",
    "\n",
    "# Create input\n",
    "input_data = torch.cat(\n",
    "    (\n",
    "        embeddings_text,\n",
    "        embeddings_question,\n",
    "        embeddings_answer\n",
    "    ), dim=1).to('cpu')\n",
    "\n",
    "features = (normalized_lexical_density.to('cpu'), \\\n",
    "            normalized_spell_checker.to('cpu'), \\\n",
    "            normalized_tf_idf_question_score.to('cpu'), \\\n",
    "            normalized_avg_word_length.to('cpu'), \\\n",
    "            normalized_smog_index.to('cpu'), \\\n",
    "            normalized_coleman_liau_index.to('cpu'), \\\n",
    "            normalized_flesch_reading_ease.to('cpu') \\\n",
    "           )"
   ]
  },
  {
   "cell_type": "code",
   "execution_count": 23,
   "id": "72f85c4d-47fb-42d5-8b08-e90af1199874",
   "metadata": {},
   "outputs": [],
   "source": [
    "# Trace the model\n",
    "traced_model = torch.jit.trace(model.to('cpu'), (input_data, features))\n",
    "# Save the traced model\n",
    "traced_model.save(f\"{OUT_PATH}/best_model_script.pt\")"
   ]
  },
  {
   "cell_type": "code",
   "execution_count": 24,
   "id": "7860f40b-e9c7-4f20-9c9f-71ca695f20b7",
   "metadata": {},
   "outputs": [],
   "source": [
    "import math"
   ]
  },
  {
   "cell_type": "code",
   "execution_count": 25,
   "id": "70ad3e0e-5421-4bf2-9b25-6a77b4c40f33",
   "metadata": {},
   "outputs": [],
   "source": [
    "def t_round(x, decimals = 3):\n",
    "    multiplicator = 10**decimals\n",
    "    return torch.round(x * 1000) / 1000"
   ]
  },
  {
   "cell_type": "code",
   "execution_count": 26,
   "id": "8782aac0-bd1d-433b-b849-f4b784bb41ba",
   "metadata": {},
   "outputs": [
    {
     "name": "stdout",
     "output_type": "stream",
     "text": [
      "[-0.063 => -0.016 =  0.047] \t | \t [-0.080 => -0.017 =  0.063]\n",
      "[-0.061 => -0.038 =  0.023] \t | \t [-0.091 => -0.180 = -0.089]\n",
      "[-0.049 => -0.038 =  0.011] \t | \t [-0.097 => -0.180 = -0.083]\n",
      "[ 0.064 =>  0.084 =  0.021] \t | \t [ 0.020 => -0.068 = -0.088]\n",
      "[ 0.001 => -0.009 = -0.010] \t | \t [ 0.058 =>  0.050 = -0.008]\n",
      "[-0.013 => -0.066 = -0.053] \t | \t [-0.040 => -0.051 = -0.011]\n",
      "[ 0.025 =>  0.030 =  0.005] \t | \t [ 0.035 => -0.017 = -0.052]\n",
      "[-0.045 => -0.021 =  0.024] \t | \t [-0.077 => -0.047 =  0.030]\n",
      "[-0.054 => -0.124 = -0.070] \t | \t [-0.064 => -0.029 =  0.036]\n",
      "[-0.088 => -0.118 = -0.030] \t | \t [-0.084 => -0.087 = -0.004]\n",
      "[ 0.042 =>  0.017 = -0.025] \t | \t [ 0.102 =>  0.127 =  0.025]\n",
      "[-0.060 => -0.090 = -0.030] \t | \t [-0.077 => -0.092 = -0.014]\n",
      "[-0.026 =>  0.030 =  0.056] \t | \t [-0.031 => -0.017 =  0.014]\n",
      "[ 0.030 =>  0.075 =  0.045] \t | \t [-0.023 => -0.013 =  0.010]\n",
      "[-0.049 =>  0.033 =  0.082] \t | \t [-0.032 => -0.105 = -0.073]\n",
      "[ 0.017 => -0.060 = -0.077] \t | \t [ 0.054 => -0.101 = -0.155]\n",
      "[-0.070 => -0.039 =  0.031] \t | \t [-0.069 =>  0.063 =  0.132]\n",
      "[-0.013 =>  0.021 =  0.034] \t | \t [-0.000 =>  0.038 =  0.038]\n",
      "[-0.066 => -0.043 =  0.023] \t | \t [-0.067 => -0.093 = -0.026]\n",
      "[-0.142 => -0.155 = -0.012] \t | \t [-0.145 => -0.146 = -0.001]\n",
      "[ 0.058 =>  0.155 =  0.097] \t | \t [-0.021 =>  0.016 =  0.037]\n",
      "[-0.092 => -0.064 =  0.028] \t | \t [-0.083 => -0.138 = -0.056]\n",
      "[-0.064 => -0.103 = -0.039] \t | \t [-0.064 => -0.075 = -0.011]\n",
      "[ 0.052 => -0.055 = -0.107] \t | \t [ 0.022 =>  0.051 =  0.029]\n"
     ]
    }
   ],
   "source": [
    "tensor1, tensor2 = model(input_data, features), torch.stack((content, wording), dim=1)\n",
    "\n",
    "\n",
    "for (col1_tensor1, col2_tensor1), (col1_tensor2, col2_tensor2) in zip(tensor1, tensor2):\n",
    "    print(f\"[{col1_tensor1:>6.3f} => {col1_tensor2:>6.3f} = {col1_tensor2-col1_tensor1:>6.3f}] \\t | \\t [{col2_tensor1:>6.3f} => {col2_tensor2:>6.3f} = {col2_tensor2 - col2_tensor1:>6.3f}]\")"
   ]
  },
  {
   "cell_type": "code",
   "execution_count": 27,
   "id": "a30afdbd-630e-4182-97e0-9e0174dbe3b7",
   "metadata": {},
   "outputs": [],
   "source": [
    "# [-0.418 => -0.234 =  0.184] \t | \t [-0.422 => -0.390 =  0.032]\n",
    "# [-0.261 => -0.114 =  0.147] \t | \t [-0.298 => -0.193 =  0.105]\n",
    "# [-0.543 => -0.621 = -0.078] \t | \t [-0.391 => -0.668 = -0.277]\n",
    "# [-0.205 => -0.204 =  0.001] \t | \t [-0.242 => -0.573 = -0.331]\n",
    "# [-0.383 => -0.285 =  0.098] \t | \t [-0.383 => -0.318 =  0.065]\n",
    "# [ 0.008 =>  0.095 =  0.087] \t | \t [-0.194 => -0.167 =  0.027]\n",
    "# [-0.041 =>  0.257 =  0.298] \t | \t [-0.188 => -0.151 =  0.037]\n",
    "# [-0.130 => -0.187 = -0.057] \t | \t [-0.060 =>  0.044 =  0.104]\n",
    "# [-0.370 => -0.464 = -0.094] \t | \t [-0.374 => -0.640 = -0.266]\n",
    "# [-0.434 =>  0.341 =  0.775] \t | \t [-0.396 => -0.182 =  0.214]\n",
    "# [-0.757 => -0.849 = -0.092] \t | \t [-0.694 => -0.820 = -0.126]\n",
    "# [ 0.091 =>  0.250 =  0.159] \t | \t [ 0.057 =>  0.265 =  0.208]"
   ]
  },
  {
   "cell_type": "markdown",
   "id": "f58a7665-b682-436b-a62e-a0365521f75a",
   "metadata": {},
   "source": [
    "## Load the Traced Model"
   ]
  },
  {
   "cell_type": "code",
   "execution_count": 28,
   "id": "113464e4-6ea3-4ce7-9fd0-2b4074602278",
   "metadata": {},
   "outputs": [],
   "source": [
    "loaded_model = torch.jit.load(f\"{OUT_PATH}/best_model_script.pt\").to(device)"
   ]
  },
  {
   "cell_type": "code",
   "execution_count": 29,
   "id": "c45cdfba-440d-4de0-ac11-22382d876f89",
   "metadata": {},
   "outputs": [],
   "source": [
    "features = (normalized_lexical_density.to(device), \\\n",
    "            normalized_spell_checker.to(device), \\\n",
    "            normalized_tf_idf_question_score.to(device), \\\n",
    "            normalized_avg_word_length.to(device), \\\n",
    "            normalized_smog_index.to(device), \\\n",
    "            normalized_coleman_liau_index.to(device), \\\n",
    "            normalized_flesch_reading_ease.to(device) \\\n",
    "           )"
   ]
  },
  {
   "cell_type": "code",
   "execution_count": 30,
   "id": "c66825f1-b925-463f-bec3-f5a3b20646b9",
   "metadata": {},
   "outputs": [
    {
     "data": {
      "text/plain": [
       "tensor([[-0.0627, -0.0797],\n",
       "        [-0.0610, -0.0909],\n",
       "        [-0.0487, -0.0968],\n",
       "        [ 0.0636,  0.0197],\n",
       "        [ 0.0009,  0.0579],\n",
       "        [-0.0134, -0.0397],\n",
       "        [ 0.0252,  0.0353],\n",
       "        [-0.0448, -0.0771],\n",
       "        [-0.0540, -0.0643],\n",
       "        [-0.0881, -0.0837],\n",
       "        [ 0.0424,  0.1016],\n",
       "        [-0.0604, -0.0773],\n",
       "        [-0.0263, -0.0308],\n",
       "        [ 0.0299, -0.0233],\n",
       "        [-0.0494, -0.0323],\n",
       "        [ 0.0173,  0.0539],\n",
       "        [-0.0701, -0.0690],\n",
       "        [-0.0131, -0.0004],\n",
       "        [-0.0659, -0.0666],\n",
       "        [-0.1423, -0.1448],\n",
       "        [ 0.0581, -0.0213],\n",
       "        [-0.0923, -0.0827],\n",
       "        [-0.0637, -0.0642],\n",
       "        [ 0.0524,  0.0219]], grad_fn=<CatBackward0>)"
      ]
     },
     "execution_count": 30,
     "metadata": {},
     "output_type": "execute_result"
    }
   ],
   "source": [
    "loaded_model(input_data.to(device), features)"
   ]
  },
  {
   "cell_type": "code",
   "execution_count": 31,
   "id": "2e2af4b4-9728-46ab-974c-cc7ec23224bb",
   "metadata": {},
   "outputs": [],
   "source": [
    "def test_model():\n",
    "    test_batches = dataset.get_batch('test')\n",
    "    list_mcrmse = []\n",
    "    list_outputs = []\n",
    "    list_targets = []\n",
    "    for index, test_batch in enumerate(test_batches):\n",
    "        print(f\"\\r [{index}/{len(dataset.test_data) // BATCH_SIZE}]\", end=\"\")\n",
    "        \n",
    "        embeddings_question = test_batch['embeddings_question']\n",
    "        embeddings_text = test_batch['embeddings_text']\n",
    "        embeddings_answer = test_batch['text']\n",
    "        content = test_batch['content']\n",
    "        wording = test_batch['wording']\n",
    "        normalized_lexical_density = test_batch['normalized_lexical_density']\n",
    "        normalized_spell_checker = test_batch['normalized_spell_checker']\n",
    "        normalized_tf_idf_question_score = test_batch['normalized_tf_idf_question_score']\n",
    "        normalized_avg_word_length = test_batch['normalized_avg_word_length']\n",
    "        normalized_smog_index = test_batch['normalized_smog_index']\n",
    "        normalized_coleman_liau_index = test_batch['normalized_coleman_liau_index']\n",
    "        normalized_flesch_reading_ease = test_batch['normalized_flesch_reading_ease']\n",
    "\n",
    "        # Create input\n",
    "        input_data = torch.cat(\n",
    "            (\n",
    "                embeddings_text,\n",
    "                embeddings_question,\n",
    "                embeddings_answer\n",
    "            ), dim=1).to('cpu')\n",
    "        \n",
    "        features = (normalized_lexical_density.to('cpu'), \\\n",
    "                    normalized_spell_checker.to('cpu'), \\\n",
    "                    normalized_tf_idf_question_score.to('cpu'), \\\n",
    "                    normalized_avg_word_length.to('cpu'), \\\n",
    "                    normalized_smog_index.to('cpu'), \\\n",
    "                    normalized_coleman_liau_index.to('cpu'), \\\n",
    "                    normalized_flesch_reading_ease.to('cpu') \\\n",
    "                   )\n",
    "        outputs = loaded_model(input_data, features)\n",
    "        targets = torch.stack(\n",
    "            (\n",
    "                content,\n",
    "                wording\n",
    "            ), dim=1).to('cpu')\n",
    "        \n",
    "        val_mcrmse = MCRMSE(targets, outputs)\n",
    "        list_mcrmse.append(val_mcrmse.item())\n",
    "        list_outputs += outputs.detach().cpu().numpy().tolist()\n",
    "        list_targets += targets.detach().cpu().numpy().tolist()\n",
    "    print()\n",
    "    return list_mcrmse, list_outputs, list_targets\n"
   ]
  },
  {
   "cell_type": "code",
   "execution_count": 32,
   "id": "36518bbf-1146-482f-a148-3ee4f626860c",
   "metadata": {},
   "outputs": [
    {
     "name": "stdout",
     "output_type": "stream",
     "text": [
      " [35/35]\n"
     ]
    }
   ],
   "source": [
    "list_mcrmse, list_pred, list_targets = test_model()"
   ]
  },
  {
   "cell_type": "code",
   "execution_count": 33,
   "id": "a6b145c5-1765-41d0-aa6a-38a0c34a8a03",
   "metadata": {},
   "outputs": [
    {
     "data": {
      "text/plain": [
       "(860, 2, 860, 2)"
      ]
     },
     "execution_count": 33,
     "metadata": {},
     "output_type": "execute_result"
    }
   ],
   "source": [
    "len(list_pred), len(list_pred[0]), len(list_targets), len(list_targets[0])"
   ]
  },
  {
   "cell_type": "code",
   "execution_count": 34,
   "id": "df9b0f83-950b-4fb2-97cb-04c1fdbaadd1",
   "metadata": {
    "scrolled": true
   },
   "outputs": [],
   "source": [
    "def cal_accu(pred, real):\n",
    "    predicted_labels = torch.argmax(pred, dim=1)\n",
    "\n",
    "    # Get the true labels\n",
    "    true_labels = torch.argmax(real, dim=1)\n",
    "    \n",
    "    # Calculate the number of correct predictions\n",
    "    correct = (predicted_labels == true_labels).sum().item()\n",
    "    \n",
    "    # Calculate accuracy\n",
    "    accuracy = correct / pred.size(0) * 100  # pred.size(0) gives the batch size\n",
    "    \n",
    "    print(f\"Accuracy: {accuracy}%\")"
   ]
  },
  {
   "cell_type": "code",
   "execution_count": 35,
   "id": "b56ad30f-6e7f-4f70-b3a6-ec631fd12831",
   "metadata": {},
   "outputs": [
    {
     "name": "stdout",
     "output_type": "stream",
     "text": [
      "Accuracy: 64.4186046511628%\n"
     ]
    }
   ],
   "source": [
    "cal_accu(torch.tensor(list_pred), torch.tensor(list_targets))"
   ]
  },
  {
   "cell_type": "markdown",
   "id": "b2b1ca51-515b-483c-ae92-3ac33f2f54a8",
   "metadata": {},
   "source": [
    "Accuracy: 69.65116279069767%"
   ]
  },
  {
   "cell_type": "code",
   "execution_count": 36,
   "id": "ae610d03-9a00-4b4f-87b6-2de99bb9ef8b",
   "metadata": {},
   "outputs": [
    {
     "data": {
      "text/plain": [
       "0.06055284964127673"
      ]
     },
     "execution_count": 36,
     "metadata": {},
     "output_type": "execute_result"
    }
   ],
   "source": [
    "import math\n",
    "sum(list_mcrmse) / len(list_mcrmse)"
   ]
  },
  {
   "cell_type": "markdown",
   "id": "4fe2b692-f8dd-4f68-aa6a-4b56c9781cce",
   "metadata": {},
   "source": [
    "0.1883068767686685"
   ]
  },
  {
   "cell_type": "code",
   "execution_count": 37,
   "id": "83e6baac-3699-4602-ac14-78a704a8a08e",
   "metadata": {},
   "outputs": [
    {
     "data": {
      "image/png": "[encoded data removed]",
      "text/plain": [
       "<Figure size 640x480 with 1 Axes>"
      ]
     },
     "metadata": {},
     "output_type": "display_data"
    }
   ],
   "source": [
    "plt.ioff()  # Turn off interactive mode\n",
    "plt.plot(list_mcrmse)\n",
    "\n",
    "# Setting axes labels and title\n",
    "plt.xlabel('X-axis Label')\n",
    "plt.ylabel('Y-axis Label')\n",
    "plt.title('Plot Title')\n",
    "# Setting ticks explicitly\n",
    "plt.tick_params(axis='both', labelcolor='black', labelsize='medium')\n",
    "\n",
    "plt.draw()  # Explicitly redraw the figure\n",
    "plt.show()"
   ]
  },
  {
   "cell_type": "code",
   "execution_count": null,
   "id": "d9aeb6dc-c24e-49ac-a4da-0d4b46e458f3",
   "metadata": {},
   "outputs": [],
   "source": []
  }
 ],
 "metadata": {
  "kernelspec": {
   "display_name": "Python 3 (ipykernel)",
   "language": "python",
   "name": "python3"
  },
  "language_info": {
   "codemirror_mode": {
    "name": "ipython",
    "version": 3
   },
   "file_extension": ".py",
   "mimetype": "text/x-python",
   "name": "python",
   "nbconvert_exporter": "python",
   "pygments_lexer": "ipython3",
   "version": "3.11.5"
  }
 },
 "nbformat": 4,
 "nbformat_minor": 5
}
