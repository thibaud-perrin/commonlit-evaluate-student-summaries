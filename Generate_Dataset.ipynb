{
 "cells": [
  {
   "cell_type": "markdown",
   "id": "1d0fdb40-dc96-4b04-9eb5-6846058124fb",
   "metadata": {},
   "source": [
    "# Generate HuggingFace Dataset"
   ]
  },
  {
   "cell_type": "markdown",
   "id": "94a892dd-38d2-4c00-a8e0-0b3e0391b453",
   "metadata": {},
   "source": [
    "## Imports"
   ]
  },
  {
   "cell_type": "code",
   "execution_count": 92,
   "id": "7cfbd222-4caa-464b-aa3b-f3658a4d31c6",
   "metadata": {},
   "outputs": [],
   "source": [
    "import os\n",
    "\n",
    "import pandas as pd\n",
    "import numpy as np\n",
    "from datasets import Dataset, DatasetDict, load_from_disk\n",
    "\n",
    "from sentence_transformers import SentenceTransformer"
   ]
  },
  {
   "cell_type": "markdown",
   "id": "d5ca02c3-66c8-4e12-8b8e-d1c9ac9a0ebe",
   "metadata": {},
   "source": [
    "## Load dataset"
   ]
  },
  {
   "cell_type": "markdown",
   "id": "7fe0e2ba-dce3-4158-acf5-a4312178d4d9",
   "metadata": {},
   "source": [
    "### Loading prompts train csv"
   ]
  },
  {
   "cell_type": "code",
   "execution_count": 15,
   "id": "658f083e-84de-4f19-9bb8-2345aef61752",
   "metadata": {},
   "outputs": [
    {
     "data": {
      "text/html": [
       "<div>\n",
       "<style scoped>\n",
       "    .dataframe tbody tr th:only-of-type {\n",
       "        vertical-align: middle;\n",
       "    }\n",
       "\n",
       "    .dataframe tbody tr th {\n",
       "        vertical-align: top;\n",
       "    }\n",
       "\n",
       "    .dataframe thead th {\n",
       "        text-align: right;\n",
       "    }\n",
       "</style>\n",
       "<table border=\"1\" class=\"dataframe\">\n",
       "  <thead>\n",
       "    <tr style=\"text-align: right;\">\n",
       "      <th></th>\n",
       "      <th>prompt_id</th>\n",
       "      <th>prompt_question</th>\n",
       "      <th>prompt_title</th>\n",
       "      <th>prompt_text</th>\n",
       "    </tr>\n",
       "  </thead>\n",
       "  <tbody>\n",
       "    <tr>\n",
       "      <th>0</th>\n",
       "      <td>39c16e</td>\n",
       "      <td>Summarize at least 3 elements of an ideal trag...</td>\n",
       "      <td>On Tragedy</td>\n",
       "      <td>Chapter 13 \\r\\nAs the sequel to what has alrea...</td>\n",
       "    </tr>\n",
       "    <tr>\n",
       "      <th>1</th>\n",
       "      <td>3b9047</td>\n",
       "      <td>In complete sentences, summarize the structure...</td>\n",
       "      <td>Egyptian Social Structure</td>\n",
       "      <td>Egyptian society was structured like a pyramid...</td>\n",
       "    </tr>\n",
       "    <tr>\n",
       "      <th>2</th>\n",
       "      <td>814d6b</td>\n",
       "      <td>Summarize how the Third Wave developed over su...</td>\n",
       "      <td>The Third Wave</td>\n",
       "      <td>Background \\r\\nThe Third Wave experiment took ...</td>\n",
       "    </tr>\n",
       "    <tr>\n",
       "      <th>3</th>\n",
       "      <td>ebad26</td>\n",
       "      <td>Summarize the various ways the factory would u...</td>\n",
       "      <td>Excerpt from The Jungle</td>\n",
       "      <td>With one member trimming beef in a cannery, an...</td>\n",
       "    </tr>\n",
       "  </tbody>\n",
       "</table>\n",
       "</div>"
      ],
      "text/plain": [
       "  prompt_id                                    prompt_question  \\\n",
       "0    39c16e  Summarize at least 3 elements of an ideal trag...   \n",
       "1    3b9047  In complete sentences, summarize the structure...   \n",
       "2    814d6b  Summarize how the Third Wave developed over su...   \n",
       "3    ebad26  Summarize the various ways the factory would u...   \n",
       "\n",
       "                prompt_title  \\\n",
       "0                 On Tragedy   \n",
       "1  Egyptian Social Structure   \n",
       "2             The Third Wave   \n",
       "3    Excerpt from The Jungle   \n",
       "\n",
       "                                         prompt_text  \n",
       "0  Chapter 13 \\r\\nAs the sequel to what has alrea...  \n",
       "1  Egyptian society was structured like a pyramid...  \n",
       "2  Background \\r\\nThe Third Wave experiment took ...  \n",
       "3  With one member trimming beef in a cannery, an...  "
      ]
     },
     "execution_count": 15,
     "metadata": {},
     "output_type": "execute_result"
    }
   ],
   "source": [
    "prompts_train = pd.read_csv('./data/prompts_train.csv')\n",
    "prompts_train"
   ]
  },
  {
   "cell_type": "markdown",
   "id": "49d60e40-914a-4e7b-995a-79a7ffefbe14",
   "metadata": {},
   "source": [
    "### Loading summaries train csv"
   ]
  },
  {
   "cell_type": "code",
   "execution_count": 8,
   "id": "78557809-6251-4aa2-ab96-70870966c218",
   "metadata": {},
   "outputs": [
    {
     "data": {
      "text/html": [
       "<div>\n",
       "<style scoped>\n",
       "    .dataframe tbody tr th:only-of-type {\n",
       "        vertical-align: middle;\n",
       "    }\n",
       "\n",
       "    .dataframe tbody tr th {\n",
       "        vertical-align: top;\n",
       "    }\n",
       "\n",
       "    .dataframe thead th {\n",
       "        text-align: right;\n",
       "    }\n",
       "</style>\n",
       "<table border=\"1\" class=\"dataframe\">\n",
       "  <thead>\n",
       "    <tr style=\"text-align: right;\">\n",
       "      <th></th>\n",
       "      <th>student_id</th>\n",
       "      <th>prompt_id</th>\n",
       "      <th>text</th>\n",
       "      <th>content</th>\n",
       "      <th>wording</th>\n",
       "    </tr>\n",
       "  </thead>\n",
       "  <tbody>\n",
       "    <tr>\n",
       "      <th>0</th>\n",
       "      <td>000e8c3c7ddb</td>\n",
       "      <td>814d6b</td>\n",
       "      <td>The third wave was an experimentto see how peo...</td>\n",
       "      <td>0.205683</td>\n",
       "      <td>0.380538</td>\n",
       "    </tr>\n",
       "    <tr>\n",
       "      <th>1</th>\n",
       "      <td>0020ae56ffbf</td>\n",
       "      <td>ebad26</td>\n",
       "      <td>They would rub it up with soda to make the sme...</td>\n",
       "      <td>-0.548304</td>\n",
       "      <td>0.506755</td>\n",
       "    </tr>\n",
       "    <tr>\n",
       "      <th>2</th>\n",
       "      <td>004e978e639e</td>\n",
       "      <td>3b9047</td>\n",
       "      <td>In Egypt, there were many occupations and soci...</td>\n",
       "      <td>3.128928</td>\n",
       "      <td>4.231226</td>\n",
       "    </tr>\n",
       "    <tr>\n",
       "      <th>3</th>\n",
       "      <td>005ab0199905</td>\n",
       "      <td>3b9047</td>\n",
       "      <td>The highest class was Pharaohs these people we...</td>\n",
       "      <td>-0.210614</td>\n",
       "      <td>-0.471415</td>\n",
       "    </tr>\n",
       "    <tr>\n",
       "      <th>4</th>\n",
       "      <td>0070c9e7af47</td>\n",
       "      <td>814d6b</td>\n",
       "      <td>The Third Wave developed  rapidly because the ...</td>\n",
       "      <td>3.272894</td>\n",
       "      <td>3.219757</td>\n",
       "    </tr>\n",
       "  </tbody>\n",
       "</table>\n",
       "</div>"
      ],
      "text/plain": [
       "     student_id prompt_id                                               text  \\\n",
       "0  000e8c3c7ddb    814d6b  The third wave was an experimentto see how peo...   \n",
       "1  0020ae56ffbf    ebad26  They would rub it up with soda to make the sme...   \n",
       "2  004e978e639e    3b9047  In Egypt, there were many occupations and soci...   \n",
       "3  005ab0199905    3b9047  The highest class was Pharaohs these people we...   \n",
       "4  0070c9e7af47    814d6b  The Third Wave developed  rapidly because the ...   \n",
       "\n",
       "    content   wording  \n",
       "0  0.205683  0.380538  \n",
       "1 -0.548304  0.506755  \n",
       "2  3.128928  4.231226  \n",
       "3 -0.210614 -0.471415  \n",
       "4  3.272894  3.219757  "
      ]
     },
     "execution_count": 8,
     "metadata": {},
     "output_type": "execute_result"
    }
   ],
   "source": [
    "summaries_train = pd.read_csv('./data/summaries_train.csv')\n",
    "summaries_train.head()"
   ]
  },
  {
   "cell_type": "markdown",
   "id": "5383de2d-db1e-4ff5-8339-fc03d7fbf0e8",
   "metadata": {},
   "source": [
    "## Generate HF Dataset"
   ]
  },
  {
   "cell_type": "markdown",
   "id": "312d7844-375b-454d-8e87-042f3da13fad",
   "metadata": {},
   "source": [
    "### Load sentence transformers model"
   ]
  },
  {
   "cell_type": "code",
   "execution_count": 22,
   "id": "496f00a9-3e1f-4587-b21d-62f79c33d0f2",
   "metadata": {},
   "outputs": [],
   "source": [
    "model = SentenceTransformer('all-mpnet-base-v2')"
   ]
  },
  {
   "cell_type": "markdown",
   "id": "a0602d7a-04fd-46c8-95f5-4eb0af28f196",
   "metadata": {},
   "source": [
    "### Preprocess prompts dataset"
   ]
  },
  {
   "cell_type": "code",
   "execution_count": 58,
   "id": "e04c8112-8b95-4f30-acdf-35054384aa3e",
   "metadata": {},
   "outputs": [],
   "source": [
    "def preprocess_prompts(prompts_df: pd.DataFrame) -> pd.DataFrame:\n",
    "    # init an empty new  dataFrame\n",
    "    new_data = pd.DataFrame({\n",
    "        'prompt_id': [],\n",
    "        'prompt_question': [],\n",
    "        # 'prompt_title': [],\n",
    "        'prompt_text': []\n",
    "    })\n",
    "\n",
    "    for index, row in prompts_df.iterrows():\n",
    "        # retrieve columns\n",
    "        prompt_id = row['prompt_id']\n",
    "        prompt_question = row['prompt_question']\n",
    "        # prompt_title = row['prompt_title'] # we do not need the title\n",
    "        prompt_text = row['prompt_text']\n",
    "\n",
    "        # we are creating a batch of the sentences we want to get embeddings\n",
    "        sentences = [prompt_question, prompt_text]\n",
    "\n",
    "        # calling model embedding\n",
    "        embeddings = model.encode(sentences)\n",
    "\n",
    "        # Create a new row\n",
    "        new_row = pd.DataFrame({'prompt_id': [prompt_id], 'prompt_question': [embeddings[0]], 'prompt_text': [embeddings[1]]})\n",
    "        \n",
    "        # Append the row\n",
    "        new_data = pd.concat([new_data.loc[:], new_row], ignore_index=True)\n",
    "\n",
    "    path = f\"./data/preprocessed_data\"\n",
    "    os.makedirs(path, exist_ok=True)\n",
    "    new_data.to_pickle(f\"{path}/prompts_train.pickle\")\n",
    "    return new_data"
   ]
  },
  {
   "cell_type": "code",
   "execution_count": 59,
   "id": "2542520c-d671-4014-834a-7886f48569c9",
   "metadata": {},
   "outputs": [
    {
     "data": {
      "text/html": [
       "<div>\n",
       "<style scoped>\n",
       "    .dataframe tbody tr th:only-of-type {\n",
       "        vertical-align: middle;\n",
       "    }\n",
       "\n",
       "    .dataframe tbody tr th {\n",
       "        vertical-align: top;\n",
       "    }\n",
       "\n",
       "    .dataframe thead th {\n",
       "        text-align: right;\n",
       "    }\n",
       "</style>\n",
       "<table border=\"1\" class=\"dataframe\">\n",
       "  <thead>\n",
       "    <tr style=\"text-align: right;\">\n",
       "      <th></th>\n",
       "      <th>prompt_id</th>\n",
       "      <th>prompt_question</th>\n",
       "      <th>prompt_text</th>\n",
       "    </tr>\n",
       "  </thead>\n",
       "  <tbody>\n",
       "    <tr>\n",
       "      <th>0</th>\n",
       "      <td>39c16e</td>\n",
       "      <td>[0.0091599105, -0.029818784, 0.0031730002, 0.0...</td>\n",
       "      <td>[-0.010795923, 0.025710443, -0.015630066, 0.01...</td>\n",
       "    </tr>\n",
       "    <tr>\n",
       "      <th>1</th>\n",
       "      <td>3b9047</td>\n",
       "      <td>[-0.012024703, 0.016922273, 0.015488309, 0.002...</td>\n",
       "      <td>[0.058067385, 0.042484563, 0.012715496, 0.0067...</td>\n",
       "    </tr>\n",
       "    <tr>\n",
       "      <th>2</th>\n",
       "      <td>814d6b</td>\n",
       "      <td>[0.054656938, -0.06503344, 0.011860348, -0.053...</td>\n",
       "      <td>[0.04722372, 0.06517054, 0.00032050064, -0.025...</td>\n",
       "    </tr>\n",
       "    <tr>\n",
       "      <th>3</th>\n",
       "      <td>ebad26</td>\n",
       "      <td>[0.0067965747, 0.07661588, -0.009160591, 0.033...</td>\n",
       "      <td>[-0.013152148, 0.059951786, -0.0068048476, -0....</td>\n",
       "    </tr>\n",
       "  </tbody>\n",
       "</table>\n",
       "</div>"
      ],
      "text/plain": [
       "  prompt_id                                    prompt_question  \\\n",
       "0    39c16e  [0.0091599105, -0.029818784, 0.0031730002, 0.0...   \n",
       "1    3b9047  [-0.012024703, 0.016922273, 0.015488309, 0.002...   \n",
       "2    814d6b  [0.054656938, -0.06503344, 0.011860348, -0.053...   \n",
       "3    ebad26  [0.0067965747, 0.07661588, -0.009160591, 0.033...   \n",
       "\n",
       "                                         prompt_text  \n",
       "0  [-0.010795923, 0.025710443, -0.015630066, 0.01...  \n",
       "1  [0.058067385, 0.042484563, 0.012715496, 0.0067...  \n",
       "2  [0.04722372, 0.06517054, 0.00032050064, -0.025...  \n",
       "3  [-0.013152148, 0.059951786, -0.0068048476, -0....  "
      ]
     },
     "execution_count": 59,
     "metadata": {},
     "output_type": "execute_result"
    }
   ],
   "source": [
    "preprocessed_prompts_train = preprocess_prompts(prompts_train)\n",
    "preprocessed_prompts_train"
   ]
  },
  {
   "cell_type": "markdown",
   "id": "3ecfc8f7-0988-4001-8a67-1ea89d46d48c",
   "metadata": {},
   "source": [
    "### Preprocess summaries dataset"
   ]
  },
  {
   "cell_type": "code",
   "execution_count": 63,
   "id": "bfa88488-5738-4b1a-baa6-49313f0a05fc",
   "metadata": {},
   "outputs": [],
   "source": [
    "def normalize_value(x, min=-2, max=4):\n",
    "    return 2*((x-min)/(max-min))-1"
   ]
  },
  {
   "cell_type": "code",
   "execution_count": 84,
   "id": "dbf96349-ab2e-4c2f-8be0-66fdbcd68fb0",
   "metadata": {},
   "outputs": [],
   "source": [
    "def preprocess_summaries(summaries_df: pd.DataFrame, prompts_df: pd.DataFrame) -> pd.DataFrame :\n",
    "    # init an empty new  dataFrame\n",
    "    new_data = pd.DataFrame({\n",
    "        'student_id': [],\n",
    "        'prompt_id': [],\n",
    "        'prompt_question': [],\n",
    "        'prompt_text': [],\n",
    "        'text': [],\n",
    "        'content': [],\n",
    "        'wording': [],\n",
    "        'normalized_content': [],\n",
    "        'normalized_wording': []\n",
    "    })\n",
    "    \n",
    "    for index, row in summaries_df.iterrows():\n",
    "        print(f\"\\r{index+1}/{len(summaries_df)}\", end=\"\")\n",
    "        # retrieve columns\n",
    "        student_id = row[\"student_id\"]\n",
    "        prompt_id = row[\"prompt_id\"]\n",
    "        text = row[\"text\"]\n",
    "        content = row[\"content\"]\n",
    "        wording = row[\"wording\"]\n",
    "        normalized_content = normalize_value(content)\n",
    "        normalized_wording = normalize_value(wording)\n",
    "\n",
    "        # we are creating a batch of the sentences we want to get embeddings\n",
    "        sentences = [text]\n",
    "\n",
    "        # calling model embedding\n",
    "        embeddings = model.encode(sentences)\n",
    "\n",
    "        prompt_row = prompts_df.loc[prompts_df['prompt_id'] == prompt_id]\n",
    "        prompt_question, prompt_text = prompt_row['prompt_question'].item(), prompt_row['prompt_text'].item()\n",
    "\n",
    "        # Create a new row\n",
    "        new_row = pd.DataFrame({\n",
    "            'student_id': [student_id],\n",
    "            'prompt_id': [prompt_id],\n",
    "            'prompt_question': [prompt_question],\n",
    "            'prompt_text': [prompt_text],\n",
    "            'text': [embeddings[0]],\n",
    "            'content': [content],\n",
    "            'wording': [wording],\n",
    "            'normalized_content': [normalized_content],\n",
    "            'normalized_wording': [normalized_wording]\n",
    "        })\n",
    "        \n",
    "        # Append the row\n",
    "        new_data = pd.concat([new_data.loc[:], new_row], ignore_index=True)\n",
    "\n",
    "    path = f\"./data/preprocessed_data\"\n",
    "    os.makedirs(path, exist_ok=True)\n",
    "    new_data.to_pickle(f\"{path}/summaries_train.pickle\") \n",
    "    return new_data"
   ]
  },
  {
   "cell_type": "code",
   "execution_count": 85,
   "id": "c6c1ca60-ce30-4fe2-8b16-13b5b4677814",
   "metadata": {},
   "outputs": [
    {
     "name": "stdout",
     "output_type": "stream",
     "text": [
      "7165/7165"
     ]
    },
    {
     "data": {
      "text/html": [
       "<div>\n",
       "<style scoped>\n",
       "    .dataframe tbody tr th:only-of-type {\n",
       "        vertical-align: middle;\n",
       "    }\n",
       "\n",
       "    .dataframe tbody tr th {\n",
       "        vertical-align: top;\n",
       "    }\n",
       "\n",
       "    .dataframe thead th {\n",
       "        text-align: right;\n",
       "    }\n",
       "</style>\n",
       "<table border=\"1\" class=\"dataframe\">\n",
       "  <thead>\n",
       "    <tr style=\"text-align: right;\">\n",
       "      <th></th>\n",
       "      <th>student_id</th>\n",
       "      <th>prompt_id</th>\n",
       "      <th>prompt_question</th>\n",
       "      <th>prompt_text</th>\n",
       "      <th>text</th>\n",
       "      <th>content</th>\n",
       "      <th>wording</th>\n",
       "      <th>normalized_content</th>\n",
       "      <th>normalized_wording</th>\n",
       "    </tr>\n",
       "  </thead>\n",
       "  <tbody>\n",
       "    <tr>\n",
       "      <th>0</th>\n",
       "      <td>fffbccfd8a08</td>\n",
       "      <td>ebad26</td>\n",
       "      <td>[0.0067965747, 0.07661588, -0.009160591, 0.033...</td>\n",
       "      <td>[-0.013152148, 0.059951786, -0.0068048476, -0....</td>\n",
       "      <td>[0.0332336, 0.12647918, 0.0012254969, -0.01061...</td>\n",
       "      <td>1.771596</td>\n",
       "      <td>0.547742</td>\n",
       "      <td>0.257199</td>\n",
       "      <td>-0.150753</td>\n",
       "    </tr>\n",
       "  </tbody>\n",
       "</table>\n",
       "</div>"
      ],
      "text/plain": [
       "     student_id prompt_id                                    prompt_question  \\\n",
       "0  fffbccfd8a08    ebad26  [0.0067965747, 0.07661588, -0.009160591, 0.033...   \n",
       "\n",
       "                                         prompt_text  \\\n",
       "0  [-0.013152148, 0.059951786, -0.0068048476, -0....   \n",
       "\n",
       "                                                text   content   wording  \\\n",
       "0  [0.0332336, 0.12647918, 0.0012254969, -0.01061...  1.771596  0.547742   \n",
       "\n",
       "   normalized_content  normalized_wording  \n",
       "0            0.257199           -0.150753  "
      ]
     },
     "execution_count": 85,
     "metadata": {},
     "output_type": "execute_result"
    }
   ],
   "source": [
    "preprocess_summaries_train = preprocess_summaries(summaries_train, preprocessed_prompts_train)\n",
    "preprocess_summaries_train"
   ]
  },
  {
   "cell_type": "code",
   "execution_count": 94,
   "id": "a86cc04a-4dd9-4024-9f02-e902938c0866",
   "metadata": {},
   "outputs": [],
   "source": [
    "preprocess_summaries_train = pd.read_pickle(\"./data/preprocessed_data/summaries_train.pickle\")"
   ]
  },
  {
   "cell_type": "code",
   "execution_count": 95,
   "id": "218939e4-182a-4c19-9b0c-0be1dd4a4e5f",
   "metadata": {},
   "outputs": [
    {
     "data": {
      "text/html": [
       "<div>\n",
       "<style scoped>\n",
       "    .dataframe tbody tr th:only-of-type {\n",
       "        vertical-align: middle;\n",
       "    }\n",
       "\n",
       "    .dataframe tbody tr th {\n",
       "        vertical-align: top;\n",
       "    }\n",
       "\n",
       "    .dataframe thead th {\n",
       "        text-align: right;\n",
       "    }\n",
       "</style>\n",
       "<table border=\"1\" class=\"dataframe\">\n",
       "  <thead>\n",
       "    <tr style=\"text-align: right;\">\n",
       "      <th></th>\n",
       "      <th>student_id</th>\n",
       "      <th>prompt_id</th>\n",
       "      <th>prompt_question</th>\n",
       "      <th>prompt_text</th>\n",
       "      <th>text</th>\n",
       "      <th>content</th>\n",
       "      <th>wording</th>\n",
       "      <th>normalized_content</th>\n",
       "      <th>normalized_wording</th>\n",
       "    </tr>\n",
       "  </thead>\n",
       "  <tbody>\n",
       "    <tr>\n",
       "      <th>0</th>\n",
       "      <td>000e8c3c7ddb</td>\n",
       "      <td>814d6b</td>\n",
       "      <td>[0.054656938, -0.06503344, 0.011860348, -0.053...</td>\n",
       "      <td>[0.04722372, 0.06517054, 0.00032050064, -0.025...</td>\n",
       "      <td>[0.041094355, -0.006460443, 0.008264857, -0.06...</td>\n",
       "      <td>0.205683</td>\n",
       "      <td>0.380538</td>\n",
       "      <td>-0.264772</td>\n",
       "      <td>-0.206487</td>\n",
       "    </tr>\n",
       "    <tr>\n",
       "      <th>1</th>\n",
       "      <td>0020ae56ffbf</td>\n",
       "      <td>ebad26</td>\n",
       "      <td>[0.0067965747, 0.07661588, -0.009160591, 0.033...</td>\n",
       "      <td>[-0.013152148, 0.059951786, -0.0068048476, -0....</td>\n",
       "      <td>[0.033534568, 0.112103865, 0.013419032, 0.0166...</td>\n",
       "      <td>-0.548304</td>\n",
       "      <td>0.506755</td>\n",
       "      <td>-0.516101</td>\n",
       "      <td>-0.164415</td>\n",
       "    </tr>\n",
       "    <tr>\n",
       "      <th>2</th>\n",
       "      <td>004e978e639e</td>\n",
       "      <td>3b9047</td>\n",
       "      <td>[-0.012024703, 0.016922273, 0.015488309, 0.002...</td>\n",
       "      <td>[0.058067385, 0.042484563, 0.012715496, 0.0067...</td>\n",
       "      <td>[0.022079999, 0.030259458, 0.016786981, 0.0001...</td>\n",
       "      <td>3.128928</td>\n",
       "      <td>4.231226</td>\n",
       "      <td>0.709643</td>\n",
       "      <td>1.077075</td>\n",
       "    </tr>\n",
       "    <tr>\n",
       "      <th>3</th>\n",
       "      <td>005ab0199905</td>\n",
       "      <td>3b9047</td>\n",
       "      <td>[-0.012024703, 0.016922273, 0.015488309, 0.002...</td>\n",
       "      <td>[0.058067385, 0.042484563, 0.012715496, 0.0067...</td>\n",
       "      <td>[0.041241955, -0.01394414, 0.015658101, 0.0315...</td>\n",
       "      <td>-0.210614</td>\n",
       "      <td>-0.471415</td>\n",
       "      <td>-0.403538</td>\n",
       "      <td>-0.490472</td>\n",
       "    </tr>\n",
       "    <tr>\n",
       "      <th>4</th>\n",
       "      <td>0070c9e7af47</td>\n",
       "      <td>814d6b</td>\n",
       "      <td>[0.054656938, -0.06503344, 0.011860348, -0.053...</td>\n",
       "      <td>[0.04722372, 0.06517054, 0.00032050064, -0.025...</td>\n",
       "      <td>[0.008337094, 0.04310772, 0.0132706165, -0.052...</td>\n",
       "      <td>3.272894</td>\n",
       "      <td>3.219757</td>\n",
       "      <td>0.757631</td>\n",
       "      <td>0.739919</td>\n",
       "    </tr>\n",
       "    <tr>\n",
       "      <th>...</th>\n",
       "      <td>...</td>\n",
       "      <td>...</td>\n",
       "      <td>...</td>\n",
       "      <td>...</td>\n",
       "      <td>...</td>\n",
       "      <td>...</td>\n",
       "      <td>...</td>\n",
       "      <td>...</td>\n",
       "      <td>...</td>\n",
       "    </tr>\n",
       "    <tr>\n",
       "      <th>7160</th>\n",
       "      <td>ff7c7e70df07</td>\n",
       "      <td>ebad26</td>\n",
       "      <td>[0.0067965747, 0.07661588, -0.009160591, 0.033...</td>\n",
       "      <td>[-0.013152148, 0.059951786, -0.0068048476, -0....</td>\n",
       "      <td>[0.035653163, 0.043147907, -0.030623915, -0.00...</td>\n",
       "      <td>0.205683</td>\n",
       "      <td>0.380538</td>\n",
       "      <td>-0.264772</td>\n",
       "      <td>-0.206487</td>\n",
       "    </tr>\n",
       "    <tr>\n",
       "      <th>7161</th>\n",
       "      <td>ffc34d056498</td>\n",
       "      <td>3b9047</td>\n",
       "      <td>[-0.012024703, 0.016922273, 0.015488309, 0.002...</td>\n",
       "      <td>[0.058067385, 0.042484563, 0.012715496, 0.0067...</td>\n",
       "      <td>[-0.035234254, 0.033364758, 0.02028155, 0.0068...</td>\n",
       "      <td>-0.308448</td>\n",
       "      <td>0.048171</td>\n",
       "      <td>-0.436149</td>\n",
       "      <td>-0.317276</td>\n",
       "    </tr>\n",
       "    <tr>\n",
       "      <th>7162</th>\n",
       "      <td>ffd1576d2e1b</td>\n",
       "      <td>3b9047</td>\n",
       "      <td>[-0.012024703, 0.016922273, 0.015488309, 0.002...</td>\n",
       "      <td>[0.058067385, 0.042484563, 0.012715496, 0.0067...</td>\n",
       "      <td>[0.022816774, 0.011155369, -0.0006411369, 0.02...</td>\n",
       "      <td>-1.408180</td>\n",
       "      <td>-0.493603</td>\n",
       "      <td>-0.802727</td>\n",
       "      <td>-0.497868</td>\n",
       "    </tr>\n",
       "    <tr>\n",
       "      <th>7163</th>\n",
       "      <td>ffe4a98093b2</td>\n",
       "      <td>39c16e</td>\n",
       "      <td>[0.0091599105, -0.029818784, 0.0031730002, 0.0...</td>\n",
       "      <td>[-0.010795923, 0.025710443, -0.015630066, 0.01...</td>\n",
       "      <td>[0.012417577, -0.052821647, -0.0033073293, -0....</td>\n",
       "      <td>-0.393310</td>\n",
       "      <td>0.627128</td>\n",
       "      <td>-0.464437</td>\n",
       "      <td>-0.124291</td>\n",
       "    </tr>\n",
       "    <tr>\n",
       "      <th>7164</th>\n",
       "      <td>fffbccfd8a08</td>\n",
       "      <td>ebad26</td>\n",
       "      <td>[0.0067965747, 0.07661588, -0.009160591, 0.033...</td>\n",
       "      <td>[-0.013152148, 0.059951786, -0.0068048476, -0....</td>\n",
       "      <td>[0.0332336, 0.12647918, 0.0012254969, -0.01061...</td>\n",
       "      <td>1.771596</td>\n",
       "      <td>0.547742</td>\n",
       "      <td>0.257199</td>\n",
       "      <td>-0.150753</td>\n",
       "    </tr>\n",
       "  </tbody>\n",
       "</table>\n",
       "<p>7165 rows × 9 columns</p>\n",
       "</div>"
      ],
      "text/plain": [
       "        student_id prompt_id  \\\n",
       "0     000e8c3c7ddb    814d6b   \n",
       "1     0020ae56ffbf    ebad26   \n",
       "2     004e978e639e    3b9047   \n",
       "3     005ab0199905    3b9047   \n",
       "4     0070c9e7af47    814d6b   \n",
       "...            ...       ...   \n",
       "7160  ff7c7e70df07    ebad26   \n",
       "7161  ffc34d056498    3b9047   \n",
       "7162  ffd1576d2e1b    3b9047   \n",
       "7163  ffe4a98093b2    39c16e   \n",
       "7164  fffbccfd8a08    ebad26   \n",
       "\n",
       "                                        prompt_question  \\\n",
       "0     [0.054656938, -0.06503344, 0.011860348, -0.053...   \n",
       "1     [0.0067965747, 0.07661588, -0.009160591, 0.033...   \n",
       "2     [-0.012024703, 0.016922273, 0.015488309, 0.002...   \n",
       "3     [-0.012024703, 0.016922273, 0.015488309, 0.002...   \n",
       "4     [0.054656938, -0.06503344, 0.011860348, -0.053...   \n",
       "...                                                 ...   \n",
       "7160  [0.0067965747, 0.07661588, -0.009160591, 0.033...   \n",
       "7161  [-0.012024703, 0.016922273, 0.015488309, 0.002...   \n",
       "7162  [-0.012024703, 0.016922273, 0.015488309, 0.002...   \n",
       "7163  [0.0091599105, -0.029818784, 0.0031730002, 0.0...   \n",
       "7164  [0.0067965747, 0.07661588, -0.009160591, 0.033...   \n",
       "\n",
       "                                            prompt_text  \\\n",
       "0     [0.04722372, 0.06517054, 0.00032050064, -0.025...   \n",
       "1     [-0.013152148, 0.059951786, -0.0068048476, -0....   \n",
       "2     [0.058067385, 0.042484563, 0.012715496, 0.0067...   \n",
       "3     [0.058067385, 0.042484563, 0.012715496, 0.0067...   \n",
       "4     [0.04722372, 0.06517054, 0.00032050064, -0.025...   \n",
       "...                                                 ...   \n",
       "7160  [-0.013152148, 0.059951786, -0.0068048476, -0....   \n",
       "7161  [0.058067385, 0.042484563, 0.012715496, 0.0067...   \n",
       "7162  [0.058067385, 0.042484563, 0.012715496, 0.0067...   \n",
       "7163  [-0.010795923, 0.025710443, -0.015630066, 0.01...   \n",
       "7164  [-0.013152148, 0.059951786, -0.0068048476, -0....   \n",
       "\n",
       "                                                   text   content   wording  \\\n",
       "0     [0.041094355, -0.006460443, 0.008264857, -0.06...  0.205683  0.380538   \n",
       "1     [0.033534568, 0.112103865, 0.013419032, 0.0166... -0.548304  0.506755   \n",
       "2     [0.022079999, 0.030259458, 0.016786981, 0.0001...  3.128928  4.231226   \n",
       "3     [0.041241955, -0.01394414, 0.015658101, 0.0315... -0.210614 -0.471415   \n",
       "4     [0.008337094, 0.04310772, 0.0132706165, -0.052...  3.272894  3.219757   \n",
       "...                                                 ...       ...       ...   \n",
       "7160  [0.035653163, 0.043147907, -0.030623915, -0.00...  0.205683  0.380538   \n",
       "7161  [-0.035234254, 0.033364758, 0.02028155, 0.0068... -0.308448  0.048171   \n",
       "7162  [0.022816774, 0.011155369, -0.0006411369, 0.02... -1.408180 -0.493603   \n",
       "7163  [0.012417577, -0.052821647, -0.0033073293, -0.... -0.393310  0.627128   \n",
       "7164  [0.0332336, 0.12647918, 0.0012254969, -0.01061...  1.771596  0.547742   \n",
       "\n",
       "      normalized_content  normalized_wording  \n",
       "0              -0.264772           -0.206487  \n",
       "1              -0.516101           -0.164415  \n",
       "2               0.709643            1.077075  \n",
       "3              -0.403538           -0.490472  \n",
       "4               0.757631            0.739919  \n",
       "...                  ...                 ...  \n",
       "7160           -0.264772           -0.206487  \n",
       "7161           -0.436149           -0.317276  \n",
       "7162           -0.802727           -0.497868  \n",
       "7163           -0.464437           -0.124291  \n",
       "7164            0.257199           -0.150753  \n",
       "\n",
       "[7165 rows x 9 columns]"
      ]
     },
     "execution_count": 95,
     "metadata": {},
     "output_type": "execute_result"
    }
   ],
   "source": [
    "preprocess_summaries_train"
   ]
  },
  {
   "cell_type": "markdown",
   "id": "194de095-ba2c-4ca2-bdf7-be3e9204b92a",
   "metadata": {},
   "source": [
    "### Serialize and deserialize functions"
   ]
  },
  {
   "cell_type": "code",
   "execution_count": 96,
   "id": "e081d7c2-f824-4643-8769-e9e400f64552",
   "metadata": {},
   "outputs": [],
   "source": [
    "def serialize_array(arr):\n",
    "    return arr.tobytes()\n",
    "    \n",
    "def deserialize_array(binary_string, dtype, shape):\n",
    "    return np.frombuffer(binary_string, dtype=dtype).reshape(shape)"
   ]
  },
  {
   "cell_type": "code",
   "execution_count": 97,
   "id": "6664ef03-0b0e-45f3-87cf-e8f464015c0e",
   "metadata": {},
   "outputs": [],
   "source": [
    "def preprocess_data(data):\n",
    "    data['prompt_question'] = data['prompt_question'].apply(serialize_array)\n",
    "    data['prompt_text'] = data['prompt_text'].apply(serialize_array)\n",
    "    data['text'] = data['text'].apply(serialize_array)\n",
    "    return data"
   ]
  },
  {
   "cell_type": "code",
   "execution_count": 98,
   "id": "18e5be9f-43b1-4614-a6ed-676aaf632f69",
   "metadata": {},
   "outputs": [],
   "source": [
    "preprocess_summaries_train = preprocess_data(preprocess_summaries_train)"
   ]
  },
  {
   "cell_type": "markdown",
   "id": "6432a82c-ba06-41a9-b153-06eda8530afc",
   "metadata": {},
   "source": [
    "### Converting the pandas dataset to huggingFace dataset"
   ]
  },
  {
   "cell_type": "code",
   "execution_count": 99,
   "id": "7ff22dd7-c9eb-4dd5-95ac-2b0169d74aa2",
   "metadata": {},
   "outputs": [],
   "source": [
    "train_dataset = Dataset.from_pandas(preprocess_summaries_train)"
   ]
  },
  {
   "cell_type": "code",
   "execution_count": 100,
   "id": "1e55ee54-ca5f-46ab-93dc-c3c2988abcc7",
   "metadata": {},
   "outputs": [],
   "source": [
    "dataset = {\n",
    "    'train': train_dataset,\n",
    "}"
   ]
  },
  {
   "cell_type": "code",
   "execution_count": 101,
   "id": "72994f5b-f125-4640-b6c6-c4f25610dc7c",
   "metadata": {},
   "outputs": [
    {
     "data": {
      "application/vnd.jupyter.widget-view+json": {
       "model_id": "345a2ca4e9274280a7facacaf52b0444",
       "version_major": 2,
       "version_minor": 0
      },
      "text/plain": [
       "Saving the dataset (0/1 shards):   0%|          | 0/7165 [00:00<?, ? examples/s]"
      ]
     },
     "metadata": {},
     "output_type": "display_data"
    }
   ],
   "source": [
    "dataset = DatasetDict(dataset)\n",
    "path = './data/hugging_face/'\n",
    "os.makedirs(path, exist_ok=True)\n",
    "dataset.save_to_disk(path)"
   ]
  },
  {
   "cell_type": "markdown",
   "id": "1b311976-aa79-41db-997d-f2e8f6f1c1a1",
   "metadata": {},
   "source": [
    "### Test the HF dataset"
   ]
  },
  {
   "cell_type": "code",
   "execution_count": 102,
   "id": "80070679-e2df-490c-b8b2-55be5beb36a3",
   "metadata": {},
   "outputs": [],
   "source": [
    "# Later you can load the entire DatasetDict back from disk like this\n",
    "dataset_dict = DatasetDict.load_from_disk(path)"
   ]
  },
  {
   "cell_type": "code",
   "execution_count": 103,
   "id": "16d10c37-4863-4434-a853-7b2a77a8d98b",
   "metadata": {},
   "outputs": [
    {
     "name": "stdout",
     "output_type": "stream",
     "text": [
      "DatasetDict({\n",
      "    train: Dataset({\n",
      "        features: ['student_id', 'prompt_id', 'prompt_question', 'prompt_text', 'text', 'content', 'wording', 'normalized_content', 'normalized_wording'],\n",
      "        num_rows: 7165\n",
      "    })\n",
      "})\n",
      "\n",
      "(768,)\n",
      "\n",
      "(768,)\n",
      "\n",
      "(768,)\n",
      "\n",
      "0.205682506482641\n",
      "\n",
      "-0.2647724978391196\n"
     ]
    }
   ],
   "source": [
    "print(dataset_dict)\n",
    "print()\n",
    "print(deserialize_array(dataset_dict['train'][0]['prompt_question'], np.float32, (768)).shape)\n",
    "print()\n",
    "print(deserialize_array(dataset_dict['train'][0]['prompt_text'], np.float32, (768)).shape)\n",
    "print()\n",
    "print(deserialize_array(dataset_dict['train'][0]['text'], np.float32, (768)).shape)\n",
    "print()\n",
    "print(dataset_dict['train'][0]['content'])\n",
    "print()\n",
    "print(dataset_dict['train'][0]['normalized_content'])"
   ]
  },
  {
   "cell_type": "code",
   "execution_count": null,
   "id": "c82417da-4b5e-4aeb-8c1a-3f465786b379",
   "metadata": {},
   "outputs": [],
   "source": []
  }
 ],
 "metadata": {
  "kernelspec": {
   "display_name": "Python 3 (ipykernel)",
   "language": "python",
   "name": "python3"
  },
  "language_info": {
   "codemirror_mode": {
    "name": "ipython",
    "version": 3
   },
   "file_extension": ".py",
   "mimetype": "text/x-python",
   "name": "python",
   "nbconvert_exporter": "python",
   "pygments_lexer": "ipython3",
   "version": "3.11.2"
  }
 },
 "nbformat": 4,
 "nbformat_minor": 5
}
