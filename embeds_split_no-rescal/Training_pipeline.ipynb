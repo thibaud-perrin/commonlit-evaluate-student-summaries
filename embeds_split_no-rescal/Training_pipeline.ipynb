{
 "cells": [
  {
   "cell_type": "markdown",
   "id": "0a14353b-46a1-4c60-9ee7-080174af9aa7",
   "metadata": {},
   "source": [
    "# Sentence Transformer"
   ]
  },
  {
   "cell_type": "code",
   "execution_count": 1,
   "id": "9c8f10e2-148a-44e1-8cf6-748a75601885",
   "metadata": {},
   "outputs": [],
   "source": [
    "import copy\n",
    "import numpy as np\n",
    "import pandas as pd\n",
    "\n",
    "import torch\n",
    "import torch.nn as nn\n",
    "import torch.nn.functional as F\n",
    "import torch.optim as optim\n",
    "from torch.utils.data import Dataset, DataLoader\n",
    "from datasets import load_from_disk\n",
    "\n",
    "import matplotlib.pyplot as plt \n",
    "import seaborn as sns\n",
    "%matplotlib inline"
   ]
  },
  {
   "cell_type": "markdown",
   "id": "e214c448-b292-4cd7-92e6-740be40bc11d",
   "metadata": {},
   "source": [
    "## GPU"
   ]
  },
  {
   "cell_type": "code",
   "execution_count": 2,
   "id": "959cac82-9842-4968-9597-4c8324936e66",
   "metadata": {},
   "outputs": [
    {
     "name": "stdout",
     "output_type": "stream",
     "text": [
      "zsh:1: command not found: nvidia-smi\n"
     ]
    }
   ],
   "source": [
    "!nvidia-smi"
   ]
  },
  {
   "cell_type": "code",
   "execution_count": 3,
   "id": "eceddb8b-556e-4e20-8137-a4e77efa0490",
   "metadata": {},
   "outputs": [
    {
     "data": {
      "text/plain": [
       "device(type='cpu')"
      ]
     },
     "execution_count": 3,
     "metadata": {},
     "output_type": "execute_result"
    }
   ],
   "source": [
    "# Check if CUDA is available, else use CPU\n",
    "device = torch.device('cuda' if torch.cuda.is_available() else 'cpu')\n",
    "device"
   ]
  },
  {
   "cell_type": "markdown",
   "id": "c5e1345e-a55c-4636-b5ee-1078da5d812d",
   "metadata": {},
   "source": [
    "### Hyperparameters"
   ]
  },
  {
   "cell_type": "code",
   "execution_count": 4,
   "id": "05b6a852-9309-4923-848c-1eda295814ed",
   "metadata": {},
   "outputs": [],
   "source": [
    "# Hyperparameters\n",
    "LEARNING_RATE = 0.00001\n",
    "BATCH_SIZE = 24\n",
    "EPOCHS = 200"
   ]
  },
  {
   "cell_type": "markdown",
   "id": "a2aa67ca-52c8-409e-8862-dac0997bafe0",
   "metadata": {},
   "source": [
    "## Path"
   ]
  },
  {
   "cell_type": "code",
   "execution_count": 5,
   "id": "dac6f086-4f3e-48ea-b64b-f78b9f8acb94",
   "metadata": {},
   "outputs": [],
   "source": [
    "OUT_PATH = '../out'\n",
    "DATA_PATH = '../data'\n",
    "MODEL_NAME = 'model-split-norescale.pt'\n",
    "MODEL_SCRIPT_NAME = 'model-split-norescale_script.pt'"
   ]
  },
  {
   "cell_type": "markdown",
   "id": "a1fd958f-82f1-4f6b-9a00-97c41e225c30",
   "metadata": {},
   "source": [
    "## Generate dataset and batch"
   ]
  },
  {
   "cell_type": "code",
   "execution_count": 6,
   "id": "fd6d7c30-5744-4c0d-824d-dcc667e50a9f",
   "metadata": {},
   "outputs": [],
   "source": [
    "class PromptDataset(Dataset):\n",
    "\n",
    "    def __init__(self, dataset, device):\n",
    "        self.dataset = dataset\n",
    "        self.device = device\n",
    "\n",
    "    def deserialize_array(self, binary_string, dtype, shape):\n",
    "        return np.frombuffer(binary_string, dtype=dtype).reshape(shape)\n",
    "\n",
    "    def __getitem__(self, index):\n",
    "        data = self.dataset[index]\n",
    "        # retrieve values\n",
    "        student_id = data['student_id']\n",
    "        prompt_id = data['prompt_id']\n",
    "        embeddings_question = torch.tensor(self.deserialize_array(data['embeddings_question'], np.float32, (768,))).to(self.device)\n",
    "        embeddings_text = torch.tensor(self.deserialize_array(data['embeddings_text'], np.float32, (768,))).to(self.device)\n",
    "        text = torch.tensor(self.deserialize_array(data['text'], np.float32, (768,))).to(self.device)\n",
    "        content = torch.tensor(data['content']).to(self.device)\n",
    "        wording = torch.tensor(data['wording']).to(self.device)\n",
    "        normalized_lexical_density = torch.tensor(data['normalized_lexical_density']).unsqueeze(0).to(self.device)\n",
    "        normalized_spell_checker = torch.tensor(data['normalized_spell_checker']).unsqueeze(0).to(self.device)\n",
    "        normalized_tf_idf_question_score = torch.tensor(data['normalized_tf_idf_question_score']).unsqueeze(0).to(self.device)\n",
    "        normalized_avg_word_length = torch.tensor(data['normalized_avg_word_length']).unsqueeze(0).to(self.device)\n",
    "        normalized_smog_index = torch.tensor(data['normalized_smog_index']).unsqueeze(0).to(self.device)\n",
    "        normalized_coleman_liau_index = torch.tensor(data['normalized_coleman_liau_index']).unsqueeze(0).to(self.device)\n",
    "        normalized_flesch_reading_ease = torch.tensor(data['normalized_flesch_reading_ease']).unsqueeze(0).to(self.device)\n",
    "        \n",
    "        return {\n",
    "            'student_id': student_id,\n",
    "            'prompt_id': prompt_id,\n",
    "            'embeddings_question': embeddings_question,\n",
    "            'embeddings_text': embeddings_text,\n",
    "            'text': text,\n",
    "            'content': content,\n",
    "            'wording': wording,\n",
    "            'normalized_lexical_density': normalized_lexical_density,\n",
    "            'normalized_spell_checker': normalized_spell_checker,\n",
    "            'normalized_tf_idf_question_score': normalized_tf_idf_question_score,\n",
    "            'normalized_avg_word_length': normalized_avg_word_length,\n",
    "            'normalized_smog_index': normalized_smog_index,\n",
    "            'normalized_coleman_liau_index': normalized_coleman_liau_index,\n",
    "            'normalized_flesch_reading_ease': normalized_flesch_reading_ease,\n",
    "        }\n",
    "\n",
    "    def __len__(self) -> int :\n",
    "        return self.dataset.num_rows"
   ]
  },
  {
   "cell_type": "code",
   "execution_count": 7,
   "id": "843e316c-df6c-485f-8561-6f890c556f87",
   "metadata": {},
   "outputs": [],
   "source": [
    "class DataLoaderFactory():\n",
    "\n",
    "    def __init__(self, path:str = f\"{DATA_PATH}/hugging_face\", batch_size = 12, device = 'cpu'):\n",
    "        self.batch_size = batch_size\n",
    "        self.dataset = load_from_disk(path, keep_in_memory=True)\n",
    "        self.device = device\n",
    "\n",
    "        print(\"1. Loading dataset: ...\", end=\"\")\n",
    "        dataset = load_from_disk(path, keep_in_memory=True)\n",
    "        print(\"\\r1. Loading dataset: done ✔️\")\n",
    "\n",
    "        print(\"2. Split datasets: ...\", end=\"\")\n",
    "        train_validation_splits = self.dataset['train'].train_test_split(test_size=0.3)\n",
    "        validation_test_splits = train_validation_splits['test'].train_test_split(test_size=0.4)\n",
    "        print(\"\\r2. Preprocess datasets: done ✔️\")\n",
    "\n",
    "        print(\"3. Split datasets: ...\", end=\"\")\n",
    "        self.train_data = PromptDataset(train_validation_splits['train'], self.device)\n",
    "        self.val_data = PromptDataset(validation_test_splits['train'], self.device)\n",
    "        self.test_data = PromptDataset(validation_test_splits['test'], self.device)\n",
    "        print(\"\\r3. Split datasets: done ✔️\")\n",
    "\n",
    "        self.dataloader_train = DataLoader(self.train_data, batch_size=batch_size, shuffle=True)\n",
    "        self.dataloader_val = DataLoader(self.val_data, batch_size=batch_size, shuffle=True)\n",
    "        self.dataloader_test = DataLoader(self.test_data, batch_size=batch_size, shuffle=True)\n",
    "    \n",
    "    \n",
    "    def __len__(self) -> int :\n",
    "        print(\"\\033[95m\\033[1m\\033[4mNumber of data by datasets splits\\033[0m\")\n",
    "        print(f\"Train\\t\\t: {len(self.train_data)}\\t-> {len(self.train_data)/self.batch_size}\")\n",
    "        print(f\"Validation\\t: {len(self.val_data)}\\t\\t-> {len(self.val_data)/self.batch_size}\")\n",
    "        print(f\"Test\\t\\t: {len(self.test_data)}\\t\\t-> {len(self.test_data)/self.batch_size}\")\n",
    "        total = len(self.train_data) + len(self.val_data)\n",
    "        print(f\"Total\\t\\t: {total}\")\n",
    "        return total\n",
    "\n",
    "    def get_batch(self, split):\n",
    "        # choose the correct dataloader\n",
    "        if split == 'train':\n",
    "            dataloader = self.dataloader_train\n",
    "        elif split == 'val':\n",
    "            dataloader = self.dataloader_val\n",
    "        else:\n",
    "            dataloader = self.dataloader_test\n",
    "\n",
    "        for batch in dataloader:\n",
    "            # Move tensors to device\n",
    "            batch_on_device = {k: v for k, v in batch.items()}\n",
    "            yield batch_on_device"
   ]
  },
  {
   "cell_type": "markdown",
   "id": "d18f4fc8-1830-4fab-ae74-d12fb945f374",
   "metadata": {},
   "source": [
    "### Load the dataset"
   ]
  },
  {
   "cell_type": "code",
   "execution_count": 8,
   "id": "f67182de-ccb8-4f77-87e0-5c88be245435",
   "metadata": {},
   "outputs": [
    {
     "name": "stdout",
     "output_type": "stream",
     "text": [
      "1. Loading dataset: done ✔️\n",
      "2. Preprocess datasets: done ✔️\n",
      "3. Split datasets: done ✔️\n",
      "\u001b[95m\u001b[1m\u001b[4mNumber of data by datasets splits\u001b[0m\n",
      "Train\t\t: 5015\t-> 208.95833333333334\n",
      "Validation\t: 1290\t\t-> 53.75\n",
      "Test\t\t: 860\t\t-> 35.833333333333336\n",
      "Total\t\t: 6305\n"
     ]
    },
    {
     "data": {
      "text/plain": [
       "6305"
      ]
     },
     "execution_count": 8,
     "metadata": {},
     "output_type": "execute_result"
    }
   ],
   "source": [
    "dataset = DataLoaderFactory(device=device, batch_size=BATCH_SIZE)\n",
    "len(dataset)"
   ]
  },
  {
   "cell_type": "markdown",
   "id": "1c5e512f-1fad-4c54-80c5-c0500a25f086",
   "metadata": {},
   "source": [
    "### Testing the dataset"
   ]
  },
  {
   "cell_type": "code",
   "execution_count": 9,
   "id": "fded6cee-24b5-4d28-a3df-a857fd1336c7",
   "metadata": {},
   "outputs": [],
   "source": [
    "batch = dataset.get_batch('train')\n",
    "nb = next(batch)"
   ]
  },
  {
   "cell_type": "code",
   "execution_count": 10,
   "id": "1ae8f919-4ba2-46be-be03-d47b248ddd70",
   "metadata": {},
   "outputs": [
    {
     "name": "stdout",
     "output_type": "stream",
     "text": [
      "student_id:              24\n",
      "prompt_id:               24\n",
      "embeddings_question:     torch.Size([24, 768])\n",
      "embeddings_text:         torch.Size([24, 768])\n",
      "text:                    torch.Size([24, 768])\n",
      "content:                 torch.Size([24])\n",
      "wording:                 torch.Size([24])\n",
      "normalized_lexical_density:torch.Size([24, 1])\n",
      "normalized_spell_checker:torch.Size([24, 1])\n",
      "normalized_tf_idf_question_score:torch.Size([24, 1])\n",
      "normalized_avg_word_length:torch.Size([24, 1])\n",
      "normalized_smog_index:   torch.Size([24, 1])\n",
      "normalized_coleman_liau_index:torch.Size([24, 1])\n",
      "normalized_flesch_reading_ease:torch.Size([24, 1])\n"
     ]
    }
   ],
   "source": [
    "print(f\"{'student_id:':<25}{len(nb['student_id'])}\")\n",
    "print(f\"{'prompt_id:':<25}{len(nb['prompt_id'])}\")\n",
    "print(f\"{'embeddings_question:':<25}{nb['embeddings_question'].shape}\")\n",
    "print(f\"{'embeddings_text:':<25}{nb['embeddings_text'].shape}\")\n",
    "print(f\"{'text:':<25}{nb['text'].shape}\")\n",
    "print(f\"{'content:':<25}{nb['content'].shape}\")\n",
    "print(f\"{'wording:':<25}{nb['wording'].shape}\")\n",
    "print(f\"{'normalized_lexical_density:':<25}{nb['normalized_lexical_density'].shape}\")\n",
    "print(f\"{'normalized_spell_checker:':<25}{nb['normalized_spell_checker'].shape}\")\n",
    "print(f\"{'normalized_tf_idf_question_score:':<25}{nb['normalized_tf_idf_question_score'].shape}\")\n",
    "print(f\"{'normalized_avg_word_length:':<25}{nb['normalized_avg_word_length'].shape}\")\n",
    "print(f\"{'normalized_smog_index:':<25}{nb['normalized_smog_index'].shape}\")\n",
    "print(f\"{'normalized_coleman_liau_index:':<25}{nb['normalized_coleman_liau_index'].shape}\")\n",
    "print(f\"{'normalized_flesch_reading_ease:':<25}{nb['normalized_flesch_reading_ease'].shape}\")"
   ]
  },
  {
   "cell_type": "markdown",
   "id": "420d85e7-b1e4-4d22-b043-ee9374286d04",
   "metadata": {},
   "source": [
    "## Training model"
   ]
  },
  {
   "cell_type": "markdown",
   "id": "c0c70332-9c16-499c-9fc3-734f72e2ecf4",
   "metadata": {},
   "source": [
    "1. **Input Layer:** Accept the embeddings of the question, text, and answer. This would result in three separate input layers, each of dimension `[batch_size, embedding_size]`.\n",
    "2. **Concatenate Layer:** Concatenate the embeddings along the feature axis. This results in `[batch_size, 3 * embedding_size]` dimensions.\n",
    "3. **Dense Layers:** Add a couple of Dense layers with suitable dropout layers in between for regularization. For instance:\n",
    "    - Dense layer with `1024` units, `ReLU` activation.\n",
    "    - Dropout layer with rate `0.5`.\n",
    "    - Dense layer with `512` units, ReLU activation.\n",
    "    - Another Dropout layer with rate `0.5`.\n",
    "4. **Output Layer:** Single Dense layer with `2` units (since you want two values between -1 and 1) and a `tanh` activation function.\n",
    "5. **Loss Function:** If the output of your model is a vector with two values between -1 and 1, then you're essentially dealing with multi-output regression. You can use `Mean Squared Error` or `Mean Absolute Error`, but it'll be applied to each output.\n",
    "6. **Optimizer:** Remains the same; options include `Adam`, `RMSprop`, and `SGD`."
   ]
  },
  {
   "cell_type": "markdown",
   "id": "e151c3c0-9d49-423a-9347-e7ed526bdf18",
   "metadata": {},
   "source": [
    "### Define the Model"
   ]
  },
  {
   "cell_type": "code",
   "execution_count": 11,
   "id": "2c51e654-671e-496f-aa2d-c6668fdd8caf",
   "metadata": {},
   "outputs": [],
   "source": [
    "# # Define the Model\n",
    "# class QA_Score_Model(nn.Module):\n",
    "#     def __init__(self, input_dim=3*768+7, dropout_rate=0.5):\n",
    "#         super(QA_Score_Model, self).__init__()\n",
    "\n",
    "#         # Dense Layers\n",
    "#         self.fc1 = nn.Linear(input_dim, 1024)\n",
    "#         self.fc2 = nn.Linear(1024, 512)\n",
    "#         self.fc3 = nn.Linear(512, 2)  # Output 2 values for each instance\n",
    "\n",
    "#         # Dropout\n",
    "#         self.dropout = nn.Dropout(dropout_rate)\n",
    "\n",
    "#     def forward(self, x):\n",
    "#         x = F.relu(self.fc1(x))\n",
    "#         if self.training:\n",
    "#             x = self.dropout(x)\n",
    "#         x = F.relu(self.fc2(x))\n",
    "#         if self.training:\n",
    "#             x = self.dropout(x)\n",
    "#         x = torch.tanh(self.fc3(x))  # tanh to get outputs in range [-1, 1]\n",
    "#         return x"
   ]
  },
  {
   "cell_type": "code",
   "execution_count": 12,
   "id": "3cd958cb-ca28-4a23-9910-93c28ac51584",
   "metadata": {},
   "outputs": [],
   "source": [
    "class QA_Score_Model(nn.Module):\n",
    "    def __init__(self, embedding_dim, dropout_rate=0.5):\n",
    "        super(QA_Score_Model, self).__init__()\n",
    "\n",
    "        # Embedding processors\n",
    "        self.fc_text = nn.Linear(embedding_dim, 256)\n",
    "        self.fc_question = nn.Linear(embedding_dim, 256)\n",
    "        self.fc_answer = nn.Linear(embedding_dim, 256)\n",
    "\n",
    "        # Scalar Processors\n",
    "        self.fc_lexical = nn.Linear(1, 16)\n",
    "        self.fc_spell = nn.Linear(1, 16)\n",
    "        self.fc_tfidf = nn.Linear(1, 16)\n",
    "        self.fc_avg_word_length = nn.Linear(1, 16)\n",
    "        self.fc_smog = nn.Linear(1, 16)\n",
    "        self.fc_coleman = nn.Linear(1, 16)\n",
    "        self.fc_flesch = nn.Linear(1, 16)\n",
    "\n",
    "        # Dropout layers\n",
    "        self.dropout = nn.Dropout(dropout_rate)\n",
    "\n",
    "        # Shared Dense Layers\n",
    "        self.fc1 = nn.Linear(256*3 + 16*7, 512)\n",
    "        self.fc2 = nn.Linear(512, 256)\n",
    "        \n",
    "        # Output Layers\n",
    "        self.out_content = nn.Linear(256, 1)\n",
    "        self.out_wording = nn.Linear(256, 1)\n",
    "        \n",
    "    def forward(self, text, question, answer, features):\n",
    "        lexical, spell, tfidf, avg_word_length, smog, coleman, flesch = features\n",
    "        # Pass through convolutional layers\n",
    "        x_text = F.relu(self.fc_text(text))\n",
    "        x_question = F.relu(self.fc_question(question))\n",
    "        x_answer = F.relu(self.fc_answer(answer))\n",
    "\n",
    "        # Pass through scalar processors\n",
    "        x_lexical = F.relu(self.fc_lexical(lexical))\n",
    "        x_spell = F.relu(self.fc_spell(spell))\n",
    "        x_tfidf = F.relu(self.fc_tfidf(tfidf))\n",
    "        x_avg_word_length = F.relu(self.fc_avg_word_length(avg_word_length))\n",
    "        x_smog = F.relu(self.fc_smog(smog))\n",
    "        x_coleman = F.relu(self.fc_coleman(coleman))\n",
    "        x_flesch = F.relu(self.fc_flesch(flesch))\n",
    "        \n",
    "        # Concatenate\n",
    "        x = torch.cat((x_text, x_question, x_answer, x_lexical, x_spell, x_tfidf, x_avg_word_length, x_smog, x_coleman, x_flesch), dim=1)\n",
    "        \n",
    "        # Pass through shared dense layers with dropout\n",
    "        x = F.relu(self.fc1(x))\n",
    "        x = self.dropout(x)\n",
    "        x = F.relu(self.fc2(x))\n",
    "        x = self.dropout(x)\n",
    "        \n",
    "        # Output\n",
    "        content = self.out_content(x) # ?? tanh\n",
    "        wording = self.out_wording(x)\n",
    "        \n",
    "        return torch.cat((content, wording), dim=1).to(device)"
   ]
  },
  {
   "cell_type": "markdown",
   "id": "aa399d64-ba3a-41b4-ae4d-d699d3a6be37",
   "metadata": {},
   "source": [
    "### MCRMSE loss"
   ]
  },
  {
   "cell_type": "code",
   "execution_count": 13,
   "id": "4dbcf449-f3f2-4cf6-a2e5-6ff55b88e955",
   "metadata": {},
   "outputs": [],
   "source": [
    "class MCRMSELoss(nn.Module):\n",
    "    def __init__(self):\n",
    "        super(MCRMSELoss, self).__init__()\n",
    "\n",
    "    def forward(self, y_true, y_pred):\n",
    "        colwise_mse = torch.mean(torch.square(y_true - y_pred), dim=0)\n",
    "        return torch.mean(torch.sqrt(colwise_mse), dim=0)"
   ]
  },
  {
   "cell_type": "code",
   "execution_count": 14,
   "id": "70e23974-ac03-4d23-a34a-251cf416c730",
   "metadata": {},
   "outputs": [],
   "source": [
    "def MCRMSE(targets, predictions):\n",
    "    \"\"\"\n",
    "    Compute the Mean Columnwise Root Mean Squared Error.\n",
    "    \n",
    "    Parameters:\n",
    "    - targets: Actual target values\n",
    "    - predictions: Model's predictions\n",
    "    \n",
    "    Returns:\n",
    "    - Mean Columnwise RMSE\n",
    "    \"\"\"\n",
    "    # Compute squared error\n",
    "    mse = torch.mean((targets - predictions) ** 2, dim=0)\n",
    "    \n",
    "    # Take square root of each column's MSE\n",
    "    rmse = torch.sqrt(mse)\n",
    "    \n",
    "    # Compute mean of RMSE across all columns\n",
    "    mcrmse = torch.mean(rmse)\n",
    "    \n",
    "    return mcrmse"
   ]
  },
  {
   "cell_type": "markdown",
   "id": "357d2d50-f523-4794-b993-49bf5497a153",
   "metadata": {},
   "source": [
    "### Create an instance of the model, loss function and the optimizer"
   ]
  },
  {
   "cell_type": "code",
   "execution_count": 15,
   "id": "11708a30-f4f4-41bc-b759-918d56b374a3",
   "metadata": {},
   "outputs": [],
   "source": [
    "# Create an instance of the model, loss function and the optimizer\n",
    "model = QA_Score_Model(768)\n",
    "model = model.to(device)\n",
    "criterion = MCRMSELoss()  # Mean Absolute Error less sensitive to outliers # MSELoss Mean Squared Error Loss\n",
    "optimizer = optim.Adam(model.parameters(), lr=LEARNING_RATE)"
   ]
  },
  {
   "cell_type": "markdown",
   "id": "76493c03-5a20-4658-80c6-31a1bcb5c41f",
   "metadata": {},
   "source": [
    "### Training loop"
   ]
  },
  {
   "cell_type": "code",
   "execution_count": 16,
   "id": "51c3c6ec-b433-4efa-a5a5-8e8324d87836",
   "metadata": {},
   "outputs": [],
   "source": [
    "def training_loop(model, dataset, epoch):\n",
    "    model = model.train()\n",
    "    \n",
    "    total_train_loss = 0.0\n",
    "    # total_train_mcrmse = 0.0\n",
    "    \n",
    "    batchs = dataset.get_batch('train')\n",
    "    \n",
    "    num_train_batches = len(dataset.train_data) // BATCH_SIZE\n",
    "    for i, batch in enumerate(batchs):\n",
    "        # Get the batch data\n",
    "        student_id = batch['student_id']\n",
    "        prompt_id = batch['prompt_id']\n",
    "        embeddings_question = batch['embeddings_question']\n",
    "        embeddings_text = batch['embeddings_text']\n",
    "        embeddings_answer = batch['text']\n",
    "        content = batch['content']\n",
    "        wording = batch['wording']\n",
    "        normalized_lexical_density = batch['normalized_lexical_density']\n",
    "        normalized_spell_checker = batch['normalized_spell_checker']\n",
    "        normalized_tf_idf_question_score = batch['normalized_tf_idf_question_score']\n",
    "        normalized_avg_word_length = batch['normalized_avg_word_length']\n",
    "        normalized_smog_index = batch['normalized_smog_index']\n",
    "        normalized_coleman_liau_index = batch['normalized_coleman_liau_index']\n",
    "        normalized_flesch_reading_ease = batch['normalized_flesch_reading_ease']\n",
    "        \n",
    "        targets = torch.stack(\n",
    "            (\n",
    "                content,\n",
    "                wording\n",
    "            ), dim=1).to(device)\n",
    "        \n",
    "        # Zero the gradients\n",
    "        optimizer.zero_grad()\n",
    "\n",
    "        # Forward pass\n",
    "        features = (normalized_lexical_density, \\\n",
    "                    normalized_spell_checker, \\\n",
    "                    normalized_tf_idf_question_score, \\\n",
    "                    normalized_avg_word_length, \\\n",
    "                    normalized_smog_index, \\\n",
    "                    normalized_coleman_liau_index, \\\n",
    "                    normalized_flesch_reading_ease \\\n",
    "                   )\n",
    "        outputs = model(embeddings_text.to(device), \\\n",
    "                        embeddings_question.to(device),\\\n",
    "                        embeddings_answer.to(device), \\\n",
    "                        features \\\n",
    "                       )\n",
    "\n",
    "        # Loss\n",
    "        loss = criterion(targets, outputs)\n",
    "\n",
    "        # Backward pass and optimization\n",
    "        loss.backward()\n",
    "        optimizer.step()\n",
    "\n",
    "        # Print loss (you might want to print every N batches, not every batch)\n",
    "        print(f\"\\rEpoch [{epoch + 1}/{EPOCHS}], Batch [{i}/{num_train_batches}], Loss: {loss.item()}\", end=\"\")        \n",
    "\n",
    "        total_train_loss += loss.item()\n",
    "\n",
    "    avg_train_loss = total_train_loss / num_train_batches\n",
    "\n",
    "    return model, avg_train_loss"
   ]
  },
  {
   "cell_type": "markdown",
   "id": "3938650b-cf46-4e24-88ea-1d46cc827f3f",
   "metadata": {},
   "source": [
    "### Validation loop"
   ]
  },
  {
   "cell_type": "code",
   "execution_count": 17,
   "id": "50b820d0-8dd1-4292-9806-4d20186bb524",
   "metadata": {},
   "outputs": [],
   "source": [
    "def validation_loop(model, dataset, epoch):\n",
    "    print(f\"\\nValidating...\", end=\"\")\n",
    "    # Validation Evaluation\n",
    "    model = model.eval()  # Set the model to evaluation mode\n",
    "    \n",
    "    total_val_loss = 0.0\n",
    "    # total_val_mcrmse = 0.0\n",
    "    \n",
    "    val_batches = dataset.get_batch('val')\n",
    "    \n",
    "    num_val_batches = len(dataset.val_data) // BATCH_SIZE\n",
    "    with torch.no_grad():  # Disable gradient computations\n",
    "        for i, val_batch in enumerate(val_batches):\n",
    "            student_id = val_batch['student_id']\n",
    "            prompt_id = val_batch['prompt_id']\n",
    "            embeddings_question = val_batch['embeddings_question']\n",
    "            embeddings_text = val_batch['embeddings_text']\n",
    "            embeddings_answer = val_batch['text']\n",
    "            content = val_batch['content']\n",
    "            wording = val_batch['wording']\n",
    "            normalized_lexical_density = val_batch['normalized_lexical_density']\n",
    "            normalized_spell_checker = val_batch['normalized_spell_checker']\n",
    "            normalized_tf_idf_question_score = val_batch['normalized_tf_idf_question_score']\n",
    "            normalized_avg_word_length = val_batch['normalized_avg_word_length']\n",
    "            normalized_smog_index = val_batch['normalized_smog_index']\n",
    "            normalized_coleman_liau_index = val_batch['normalized_coleman_liau_index']\n",
    "            normalized_flesch_reading_ease = val_batch['normalized_flesch_reading_ease']\n",
    "\n",
    "            val_targets = torch.stack((content, wording), dim=1).to(device)\n",
    "            \n",
    "            features = (normalized_lexical_density, \\\n",
    "                        normalized_spell_checker, \\\n",
    "                        normalized_tf_idf_question_score, \\\n",
    "                        normalized_avg_word_length, \\\n",
    "                        normalized_smog_index, \\\n",
    "                        normalized_coleman_liau_index, \\\n",
    "                        normalized_flesch_reading_ease \\\n",
    "                       )\n",
    "            # Forward pass\n",
    "            val_outputs = model(\n",
    "                    embeddings_text.to(device), \\\n",
    "                    embeddings_question.to(device), \\\n",
    "                    embeddings_answer.to(device), \\\n",
    "                features \\\n",
    "            )\n",
    "\n",
    "            # Compute MCRMSE loss\n",
    "            val_loss = criterion(val_targets, val_outputs)\n",
    "\n",
    "            total_val_loss += val_loss.item()\n",
    "\n",
    "    avg_val_loss = total_val_loss / num_val_batches\n",
    "\n",
    "    print(f\"\\rValidation Loss after Epoch {epoch + 1}: {avg_val_loss}\\n\")\n",
    "    \n",
    "    return avg_val_loss"
   ]
  },
  {
   "cell_type": "code",
   "execution_count": 18,
   "id": "892f78e8-72a3-48ab-8deb-d3443311b6e2",
   "metadata": {},
   "outputs": [
    {
     "name": "stdout",
     "output_type": "stream",
     "text": [
      "Epoch [1/200], Batch [208/208], Loss: 0.9306304454803467\n",
      "Validation Loss after Epoch 1: 1.0490405154678057\n",
      "\n",
      "Epoch [2/200], Batch [208/208], Loss: 1.0618879795074463\n",
      "Validation Loss after Epoch 2: 1.0335014012624633\n",
      "\n",
      "Epoch [3/200], Batch [208/208], Loss: 0.9776597023010254\n",
      "Validation Loss after Epoch 3: 1.008165381989389\n",
      "\n",
      "Epoch [4/200], Batch [208/208], Loss: 1.1880934238433838\n",
      "Validation Loss after Epoch 4: 0.972589540031721\n",
      "\n",
      "Epoch [5/200], Batch [208/208], Loss: 0.9563508629798889\n",
      "Validation Loss after Epoch 5: 0.9289270695650352\n",
      "\n",
      "Epoch [6/200], Batch [208/208], Loss: 0.7601507306098938\n",
      "Validation Loss after Epoch 6: 0.8782658093380478\n",
      "\n",
      "Epoch [7/200], Batch [208/208], Loss: 0.7842084169387817\n",
      "Validation Loss after Epoch 7: 0.8281978233805243\n",
      "\n",
      "Epoch [8/200], Batch [208/208], Loss: 1.0572006702423096\n",
      "Validation Loss after Epoch 8: 0.7914249402172161\n",
      "\n",
      "Epoch [9/200], Batch [208/208], Loss: 0.7132922410964966\n",
      "Validation Loss after Epoch 9: 0.7651802650037801\n",
      "\n",
      "Epoch [10/200], Batch [208/208], Loss: 0.7040550708770752\n",
      "Validation Loss after Epoch 10: 0.7496897432039369\n",
      "\n",
      "Epoch [11/200], Batch [208/208], Loss: 0.6875907778739929\n",
      "Validation Loss after Epoch 11: 0.7410227695725998\n",
      "\n",
      "Epoch [12/200], Batch [208/208], Loss: 0.97778075933456424\n",
      "Validation Loss after Epoch 12: 0.7276086852235614\n",
      "\n",
      "Epoch [13/200], Batch [208/208], Loss: 0.7335610389709473\n",
      "Validation Loss after Epoch 13: 0.7218055123428129\n",
      "\n",
      "Epoch [14/200], Batch [208/208], Loss: 0.61883157491683966\n",
      "Validation Loss after Epoch 14: 0.7168395232479527\n",
      "\n",
      "Epoch [15/200], Batch [208/208], Loss: 0.8762201070785522\n",
      "Validation Loss after Epoch 15: 0.7100140846000528\n",
      "\n",
      "Epoch [16/200], Batch [208/208], Loss: 0.75050014257431037\n",
      "Validation Loss after Epoch 16: 0.7027915581217352\n",
      "\n",
      "Epoch [17/200], Batch [208/208], Loss: 0.53575491905212415\n",
      "Validation Loss after Epoch 17: 0.6989119221579354\n",
      "\n",
      "Epoch [18/200], Batch [208/208], Loss: 0.52528071403503426\n",
      "Validation Loss after Epoch 18: 0.6925764241308536\n",
      "\n",
      "Epoch [19/200], Batch [208/208], Loss: 0.84024620056152344\n",
      "Validation Loss after Epoch 19: 0.6916890200578941\n",
      "\n",
      "Epoch [20/200], Batch [208/208], Loss: 0.76758611202239995\n",
      "Validation Loss after Epoch 20: 0.6859826946033621\n",
      "\n",
      "Epoch [21/200], Batch [208/208], Loss: 0.83160889148712164\n",
      "Validation Loss after Epoch 21: 0.6823964163942157\n",
      "\n",
      "Epoch [22/200], Batch [208/208], Loss: 0.65375757217407236\n",
      "Validation Loss after Epoch 22: 0.6790483256555954\n",
      "\n",
      "Epoch [23/200], Batch [208/208], Loss: 0.78591489791870126\n",
      "Validation Loss after Epoch 23: 0.6752411981798568\n",
      "\n",
      "Epoch [24/200], Batch [208/208], Loss: 0.62487864494323733\n",
      "Validation Loss after Epoch 24: 0.6734018730667403\n",
      "\n",
      "Epoch [25/200], Batch [208/208], Loss: 0.59488350152969365\n",
      "Validation Loss after Epoch 25: 0.6677910426877579\n",
      "\n",
      "Epoch [26/200], Batch [208/208], Loss: 0.7555018067359924\n",
      "Validation Loss after Epoch 26: 0.6696054946701482\n",
      "\n",
      "Epoch [27/200], Batch [208/208], Loss: 0.47774344682693483\n",
      "Validation Loss after Epoch 27: 0.6646911243222794\n",
      "\n",
      "Epoch [28/200], Batch [208/208], Loss: 0.6008319854736328\n",
      "Validation Loss after Epoch 28: 0.6619305172056522\n",
      "\n",
      "Epoch [29/200], Batch [208/208], Loss: 0.6559588909149172\n",
      "Validation Loss after Epoch 29: 0.6623194628166702\n",
      "\n",
      "Epoch [30/200], Batch [208/208], Loss: 0.58032846450805666\n",
      "Validation Loss after Epoch 30: 0.659948541308349\n",
      "\n",
      "Epoch [31/200], Batch [208/208], Loss: 0.73745018243789674\n",
      "Validation Loss after Epoch 31: 0.6542302173263622\n",
      "\n",
      "Epoch [32/200], Batch [208/208], Loss: 0.64887791872024546\n",
      "Validation Loss after Epoch 32: 0.655384786848752\n",
      "\n",
      "Epoch [33/200], Batch [208/208], Loss: 0.7111198902130127\n",
      "Validation Loss after Epoch 33: 0.653519258746561\n",
      "\n",
      "Epoch [34/200], Batch [208/208], Loss: 0.55668705701828976\n",
      "Validation Loss after Epoch 34: 0.6516633624175809\n",
      "\n",
      "Epoch [35/200], Batch [208/208], Loss: 0.83190572261810375\n",
      "Validation Loss after Epoch 35: 0.6494115501079919\n",
      "\n",
      "Epoch [36/200], Batch [208/208], Loss: 0.78194850683212284\n",
      "Validation Loss after Epoch 36: 0.6489998135926589\n",
      "\n",
      "Epoch [37/200], Batch [208/208], Loss: 0.61351227760314944\n",
      "Validation Loss after Epoch 37: 0.6465299298178475\n",
      "\n",
      "Epoch [38/200], Batch [208/208], Loss: 0.69927453994750985\n",
      "Validation Loss after Epoch 38: 0.6462837513887657\n",
      "\n",
      "Epoch [39/200], Batch [208/208], Loss: 0.53089421987533577\n",
      "Validation Loss after Epoch 39: 0.6434160206677779\n",
      "\n",
      "Epoch [40/200], Batch [208/208], Loss: 0.62096393108367926\n",
      "Validation Loss after Epoch 40: 0.6409162918351731\n",
      "\n",
      "Epoch [41/200], Batch [208/208], Loss: 0.62678617238998414\n",
      "Validation Loss after Epoch 41: 0.6408579810610358\n",
      "\n",
      "Epoch [42/200], Batch [208/208], Loss: 0.61489772796630863\n",
      "Validation Loss after Epoch 42: 0.6380206318396442\n",
      "\n",
      "Epoch [43/200], Batch [208/208], Loss: 0.67711466550827034\n",
      "Validation Loss after Epoch 43: 0.6386471396347262\n",
      "\n",
      "Epoch [44/200], Batch [208/208], Loss: 0.69390922784805325\n",
      "Validation Loss after Epoch 44: 0.6362372108225552\n",
      "\n",
      "Epoch [45/200], Batch [208/208], Loss: 0.49980410933494576\n",
      "Validation Loss after Epoch 45: 0.6383562706551462\n",
      "\n",
      "Epoch [46/200], Batch [208/208], Loss: 0.48964083194732666\n",
      "Validation Loss after Epoch 46: 0.6386216777675556\n",
      "\n",
      "Epoch [47/200], Batch [208/208], Loss: 0.6990202665328987\n",
      "Validation Loss after Epoch 47: 0.6334587746071365\n",
      "\n",
      "Epoch [48/200], Batch [208/208], Loss: 0.60260778665542624\n",
      "Validation Loss after Epoch 48: 0.6348779522023111\n",
      "\n",
      "Epoch [49/200], Batch [208/208], Loss: 0.61100447177886964\n",
      "Validation Loss after Epoch 49: 0.6329243374320696\n",
      "\n",
      "Epoch [50/200], Batch [208/208], Loss: 0.76887178421020513\n",
      "Validation Loss after Epoch 50: 0.6330990650743809\n",
      "\n",
      "Epoch [51/200], Batch [208/208], Loss: 0.61139833927154546\n",
      "Validation Loss after Epoch 51: 0.6300733404339485\n",
      "\n",
      "Epoch [52/200], Batch [208/208], Loss: 0.58079087734222415\n",
      "Validation Loss after Epoch 52: 0.6337735652923584\n",
      "\n",
      "Epoch [53/200], Batch [208/208], Loss: 0.58498531579971315\n",
      "Validation Loss after Epoch 53: 0.6279002366200933\n",
      "\n",
      "Epoch [54/200], Batch [208/208], Loss: 0.60831964015960693\n",
      "Validation Loss after Epoch 54: 0.6303462149961939\n",
      "\n",
      "Epoch [55/200], Batch [208/208], Loss: 0.53705680370330815\n",
      "Validation Loss after Epoch 55: 0.6274926538737315\n",
      "\n",
      "Epoch [56/200], Batch [208/208], Loss: 0.53252613544464117\n",
      "Validation Loss after Epoch 56: 0.6268143755085064\n",
      "\n",
      "Epoch [57/200], Batch [208/208], Loss: 0.64356923103332525\n",
      "Validation Loss after Epoch 57: 0.6290330352648249\n",
      "\n",
      "Epoch [58/200], Batch [208/208], Loss: 0.7016485929489136\n",
      "Validation Loss after Epoch 58: 0.6258501376745835\n",
      "\n",
      "Epoch [59/200], Batch [208/208], Loss: 0.63946545124053967\n",
      "Validation Loss after Epoch 59: 0.6245407254066108\n",
      "\n",
      "Epoch [60/200], Batch [208/208], Loss: 0.63441789150238047\n",
      "Validation Loss after Epoch 60: 0.6269145934086926\n",
      "\n",
      "Epoch [61/200], Batch [208/208], Loss: 0.65416848659515386\n",
      "Validation Loss after Epoch 61: 0.6268786062609475\n",
      "\n",
      "Epoch [62/200], Batch [208/208], Loss: 0.72001886367797853\n",
      "Validation Loss after Epoch 62: 0.6232639033839388\n",
      "\n",
      "Epoch [63/200], Batch [208/208], Loss: 0.71552944183349615\n",
      "Validation Loss after Epoch 63: 0.6230374462199662\n",
      "\n",
      "Epoch [64/200], Batch [208/208], Loss: 0.55038708448410036\n",
      "Validation Loss after Epoch 64: 0.6239366154625731\n",
      "\n",
      "Epoch [65/200], Batch [208/208], Loss: 0.62303757667541526\n",
      "Validation Loss after Epoch 65: 0.6216369411855374\n",
      "\n",
      "Epoch [66/200], Batch [208/208], Loss: 0.62391901016235356\n",
      "Validation Loss after Epoch 66: 0.6197771829254223\n",
      "\n",
      "Epoch [67/200], Batch [208/208], Loss: 0.56135380268096924\n",
      "Validation Loss after Epoch 67: 0.618307889632459\n",
      "\n",
      "Epoch [68/200], Batch [208/208], Loss: 0.51354652643203744\n",
      "Validation Loss after Epoch 68: 0.6180180755426299\n",
      "\n",
      "Epoch [69/200], Batch [208/208], Loss: 0.54153537750244146\n",
      "Validation Loss after Epoch 69: 0.6177351322938811\n",
      "\n",
      "Epoch [70/200], Batch [208/208], Loss: 0.66233825683593757\n",
      "Validation Loss after Epoch 70: 0.6174579892518386\n",
      "\n",
      "Epoch [71/200], Batch [208/208], Loss: 0.55648195743560797\n",
      "Validation Loss after Epoch 71: 0.6190047258476041\n",
      "\n",
      "Epoch [72/200], Batch [208/208], Loss: 0.53793239593505866\n",
      "Validation Loss after Epoch 72: 0.6156285663820663\n",
      "\n",
      "Epoch [73/200], Batch [208/208], Loss: 0.50521647930145264\n",
      "Validation Loss after Epoch 73: 0.6160504722370291\n",
      "\n",
      "Epoch [74/200], Batch [208/208], Loss: 0.55771547555923464\n",
      "Validation Loss after Epoch 74: 0.6146644651889801\n",
      "\n",
      "Epoch [75/200], Batch [208/208], Loss: 0.52318072319030766\n",
      "Validation Loss after Epoch 75: 0.6166064913542766\n",
      "\n",
      "Epoch [76/200], Batch [208/208], Loss: 0.53733819723129276\n",
      "Validation Loss after Epoch 76: 0.6137425764551703\n",
      "\n",
      "Epoch [77/200], Batch [208/208], Loss: 0.62705361843109134\n",
      "Validation Loss after Epoch 77: 0.6145291092260828\n",
      "\n",
      "Epoch [78/200], Batch [208/208], Loss: 0.58744704723358154\n",
      "Validation Loss after Epoch 78: 0.6149090556603558\n",
      "\n",
      "Epoch [79/200], Batch [208/208], Loss: 0.65585148334503175\n",
      "Validation Loss after Epoch 79: 0.6155603674222838\n",
      "\n",
      "Epoch [80/200], Batch [208/208], Loss: 0.68765366077423157\n",
      "Validation Loss after Epoch 80: 0.6121159117176848\n",
      "\n",
      "Epoch [81/200], Batch [208/208], Loss: 0.39717292785644535\n",
      "Validation Loss after Epoch 81: 0.6136922780072914\n",
      "\n",
      "Epoch [82/200], Batch [208/208], Loss: 0.45997762680053714\n",
      "Validation Loss after Epoch 82: 0.6130687268275135\n",
      "\n",
      "Epoch [83/200], Batch [208/208], Loss: 0.43523693084716797\n",
      "Validation Loss after Epoch 83: 0.6098772444815006\n",
      "\n",
      "Epoch [84/200], Batch [208/208], Loss: 0.56623417139053344\n",
      "Validation Loss after Epoch 84: 0.6097865273367684\n",
      "\n",
      "Epoch [85/200], Batch [208/208], Loss: 0.54339003562927254\n",
      "Validation Loss after Epoch 85: 0.6108898267431079\n",
      "\n",
      "Epoch [86/200], Batch [208/208], Loss: 0.52739733457565317\n",
      "Validation Loss after Epoch 86: 0.6114782848448124\n",
      "\n",
      "Epoch [87/200], Batch [208/208], Loss: 0.59875559806823737\n",
      "Validation Loss after Epoch 87: 0.6125682041330157\n",
      "\n",
      "Epoch [88/200], Batch [208/208], Loss: 0.56363147497177126\n",
      "Validation Loss after Epoch 88: 0.609830951353289\n",
      "\n",
      "Epoch [89/200], Batch [208/208], Loss: 0.73733675479888926\n",
      "Validation Loss after Epoch 89: 0.6085828542709351\n",
      "\n",
      "Epoch [90/200], Batch [208/208], Loss: 0.59818041324615484\n",
      "Validation Loss after Epoch 90: 0.607697346300449\n",
      "\n",
      "Epoch [91/200], Batch [208/208], Loss: 0.53770899772644046\n",
      "Validation Loss after Epoch 91: 0.6098276590401271\n",
      "\n",
      "Epoch [92/200], Batch [208/208], Loss: 0.64394670724868777\n",
      "Validation Loss after Epoch 92: 0.6105329692363739\n",
      "\n",
      "Epoch [93/200], Batch [208/208], Loss: 0.50692594051361085\n",
      "Validation Loss after Epoch 93: 0.6062238300746342\n",
      "\n",
      "Epoch [94/200], Batch [208/208], Loss: 0.50894993543624885\n",
      "Validation Loss after Epoch 94: 0.6087338024715208\n",
      "\n",
      "Epoch [95/200], Batch [208/208], Loss: 0.50579220056533813\n",
      "Validation Loss after Epoch 95: 0.6058300244358351\n",
      "\n",
      "Epoch [96/200], Batch [208/208], Loss: 0.52543312311172496\n",
      "Validation Loss after Epoch 96: 0.605372613331057\n",
      "\n",
      "Epoch [97/200], Batch [208/208], Loss: 0.62736409902572637\n",
      "Validation Loss after Epoch 97: 0.6050061859049887\n",
      "\n",
      "Epoch [98/200], Batch [208/208], Loss: 0.55290657281875615\n",
      "Validation Loss after Epoch 98: 0.6074984596585328\n",
      "\n",
      "Epoch [99/200], Batch [208/208], Loss: 0.55125099420547495\n",
      "Validation Loss after Epoch 99: 0.6058177031436056\n",
      "\n",
      "Epoch [100/200], Batch [208/208], Loss: 0.46764349937438965\n",
      "Validation Loss after Epoch 100: 0.6030670831788261\n",
      "\n",
      "Epoch [101/200], Batch [208/208], Loss: 0.61205053329467774\n",
      "Validation Loss after Epoch 101: 0.6056448980322424\n",
      "\n",
      "Epoch [102/200], Batch [208/208], Loss: 0.57227683067321785\n",
      "Validation Loss after Epoch 102: 0.6055565712586889\n",
      "\n",
      "Epoch [103/200], Batch [208/208], Loss: 0.55862021446228036\n",
      "Validation Loss after Epoch 103: 0.6059281438026788\n",
      "\n",
      "Epoch [104/200], Batch [208/208], Loss: 0.71284675598144533\n",
      "Validation Loss after Epoch 104: 0.6039698714355253\n",
      "\n",
      "Epoch [105/200], Batch [208/208], Loss: 0.57297915220260624\n",
      "Validation Loss after Epoch 105: 0.6022937297821045\n",
      "\n",
      "Epoch [106/200], Batch [208/208], Loss: 0.69715195894241336\n",
      "Validation Loss after Epoch 106: 0.6027204220025044\n",
      "\n",
      "Epoch [107/200], Batch [208/208], Loss: 0.62462174892425547\n",
      "Validation Loss after Epoch 107: 0.6025914971558552\n",
      "\n",
      "Epoch [108/200], Batch [208/208], Loss: 0.52470463514328276\n",
      "Validation Loss after Epoch 108: 0.6040645292345083\n",
      "\n",
      "Epoch [109/200], Batch [208/208], Loss: 0.54359155893325813\n",
      "Validation Loss after Epoch 109: 0.6014704310669089\n",
      "\n",
      "Epoch [110/200], Batch [208/208], Loss: 0.55673593282699586\n",
      "Validation Loss after Epoch 110: 0.6016603668905655\n",
      "\n",
      "Epoch [111/200], Batch [208/208], Loss: 0.54601073265075683\n",
      "Validation Loss after Epoch 111: 0.6015610824216087\n",
      "\n",
      "Epoch [112/200], Batch [208/208], Loss: 0.44343754649162296\n",
      "Validation Loss after Epoch 112: 0.6014502385877213\n",
      "\n",
      "Epoch [113/200], Batch [208/208], Loss: 0.60188186168670656\n",
      "Validation Loss after Epoch 113: 0.6030886999841006\n",
      "\n",
      "Epoch [114/200], Batch [208/208], Loss: 0.49470770359039307\n",
      "Validation Loss after Epoch 114: 0.5993240858024022\n",
      "\n",
      "Epoch [115/200], Batch [208/208], Loss: 0.48386815190315247\n",
      "Validation Loss after Epoch 115: 0.5992405909412312\n",
      "\n",
      "Epoch [116/200], Batch [208/208], Loss: 0.51855033636093147\n",
      "Validation Loss after Epoch 116: 0.6045976129342925\n",
      "\n",
      "Epoch [117/200], Batch [208/208], Loss: 0.51765698194503786\n",
      "Validation Loss after Epoch 117: 0.6017399076020943\n",
      "\n",
      "Epoch [118/200], Batch [208/208], Loss: 0.49115183949470525\n",
      "Validation Loss after Epoch 118: 0.6007631887804787\n",
      "\n",
      "Epoch [119/200], Batch [208/208], Loss: 0.58227801322937014\n",
      "Validation Loss after Epoch 119: 0.597233552415416\n",
      "\n",
      "Epoch [120/200], Batch [208/208], Loss: 0.53353023529052733\n",
      "Validation Loss after Epoch 120: 0.601095865357597\n",
      "\n",
      "Epoch [121/200], Batch [208/208], Loss: 0.55682933330535897\n",
      "Validation Loss after Epoch 121: 0.6026102759928074\n",
      "\n",
      "Epoch [122/200], Batch [208/208], Loss: 0.68002235889434815\n",
      "Validation Loss after Epoch 122: 0.5999553113613488\n",
      "\n",
      "Epoch [123/200], Batch [208/208], Loss: 0.42712661623954773\n",
      "Validation Loss after Epoch 123: 0.5981629001644423\n",
      "\n",
      "Epoch [124/200], Batch [208/208], Loss: 0.48169344663619995\n",
      "Validation Loss after Epoch 124: 0.593987246166985\n",
      "\n",
      "Epoch [125/200], Batch [208/208], Loss: 0.52463924884796147\n",
      "Validation Loss after Epoch 125: 0.5980487988804871\n",
      "\n",
      "Epoch [126/200], Batch [208/208], Loss: 0.64372611045837454\n",
      "Validation Loss after Epoch 126: 0.596796306236735\n",
      "\n",
      "Epoch [127/200], Batch [208/208], Loss: 0.50217092037200937\n",
      "Validation Loss after Epoch 127: 0.5984853432988221\n",
      "\n",
      "Epoch [128/200], Batch [208/208], Loss: 0.46677345037460327\n",
      "Validation Loss after Epoch 128: 0.6000797669842558\n",
      "\n",
      "Epoch [129/200], Batch [208/208], Loss: 0.51017534732818623\n",
      "Validation Loss after Epoch 129: 0.6006651194590442\n",
      "\n",
      "Early stopping on epoch 128. Best epoch was 123 with val loss: 0.5940.\n"
     ]
    }
   ],
   "source": [
    "# Early stopping parameters\n",
    "patience = 5  # Number of epochs with no improvement after which training will be stopped\n",
    "counter = 0  # To count number of epochs with no improvement\n",
    "best_val_loss = None  # To keep track of best validation loss\n",
    "best_model_state = None  # To store best model's state\n",
    "\n",
    "train_losses = []\n",
    "val_losses = []\n",
    "\n",
    "for epoch in range(EPOCHS):\n",
    "    # training loop\n",
    "    model, epoch_train_loss = training_loop(model, dataset, epoch)\n",
    "    train_losses.append(epoch_train_loss)\n",
    "    \n",
    "    # validation loop\n",
    "    epoch_val_loss = validation_loop(model, dataset, epoch)\n",
    "    val_losses.append(epoch_val_loss)\n",
    "\n",
    "    # Check if this epoch's validation loss is the best we've seen so far.\n",
    "    if best_val_loss is None or epoch_val_loss < best_val_loss:\n",
    "        best_val_loss = epoch_val_loss\n",
    "        best_model_state = copy.deepcopy(model.state_dict())  # Save best model\n",
    "        counter = 0  # Reset counter\n",
    "    else:\n",
    "        counter += 1  # Increment counter as no improvement in validation loss\n",
    "\n",
    "    # If we've had patience number of epochs without improvement, stop training\n",
    "    if counter >= patience:\n",
    "        print(f\"Early stopping on epoch {epoch}. Best epoch was {epoch - counter} with val loss: {best_val_loss:.4f}.\")\n",
    "        break\n",
    "\n",
    "# Load best model weights\n",
    "model.load_state_dict(best_model_state)\n",
    "torch.save(model.state_dict(), f\"{OUT_PATH}/{MODEL_NAME}\")  # Save the best model to disk\n",
    "\n"
   ]
  },
  {
   "cell_type": "markdown",
   "id": "62f186fe-aa77-4f32-9332-b46a53d6407b",
   "metadata": {},
   "source": [
    "### Loss visualization"
   ]
  },
  {
   "cell_type": "code",
   "execution_count": 19,
   "id": "5ab4c6a2-d3e5-474d-9a69-b60e59513a6d",
   "metadata": {},
   "outputs": [],
   "source": [
    "def plot_graphs(train_losses, val_losses):\n",
    "    # Monokai color palette\n",
    "    colors = ['#F92672', '#A6E22E', '#66D9EF', '#FD971F']\n",
    "    \n",
    "    # Set the background color and grid color\n",
    "    sns.set_style(\"darkgrid\", {\n",
    "        \"axes.facecolor\": \".1\",  # Dark background\n",
    "        \"grid.color\": \".15\",  # Slightly grayish grid lines\n",
    "        \"axes.labelcolor\": \"white\",\n",
    "        \"xtick.color\": \"white\",\n",
    "        \"ytick.color\": \"white\"\n",
    "    })\n",
    "\n",
    "    epochs = range(1, len(train_losses) + 1)\n",
    "\n",
    "    # Plotting the losses\n",
    "    plt.figure(figsize=(12, 6))\n",
    "\n",
    "    # Set entire background color\n",
    "    fig = plt.gcf()\n",
    "    fig.patch.set_facecolor('.1')  # Color for the whole backgroun\n",
    "\n",
    "    plt.subplot(1, 2, 1)\n",
    "    sns.lineplot(x=epochs, y=train_losses, label='Train Loss', marker='o', color=colors[0])\n",
    "    sns.lineplot(x=epochs, y=val_losses, label='Validation Loss', marker='o', color=colors[1])\n",
    "    plt.title('Training and Validation Loss', color='white')\n",
    "    plt.xlabel('Epochs')\n",
    "    plt.ylabel('Loss')\n",
    "    legend = plt.legend()\n",
    "    for text in legend.get_texts():\n",
    "        text.set_color(\"white\")  # Set the legend text color to white\n",
    "\n",
    "    plt.tight_layout()\n",
    "    plt.show()"
   ]
  },
  {
   "cell_type": "code",
   "execution_count": 20,
   "id": "9d2a845c-f61e-4ae4-9a69-58b0c85f6d73",
   "metadata": {},
   "outputs": [
    {
     "name": "stderr",
     "output_type": "stream",
     "text": [
      "/Users/thibaudperrin/.local/share/virtualenvs/commonlit-evaluate-student-summaries-1rc7Oi8p/lib/python3.11/site-packages/seaborn/_oldcore.py:1498: FutureWarning: is_categorical_dtype is deprecated and will be removed in a future version. Use isinstance(dtype, CategoricalDtype) instead\n",
      "  if pd.api.types.is_categorical_dtype(vector):\n",
      "/Users/thibaudperrin/.local/share/virtualenvs/commonlit-evaluate-student-summaries-1rc7Oi8p/lib/python3.11/site-packages/seaborn/_oldcore.py:1498: FutureWarning: is_categorical_dtype is deprecated and will be removed in a future version. Use isinstance(dtype, CategoricalDtype) instead\n",
      "  if pd.api.types.is_categorical_dtype(vector):\n",
      "/Users/thibaudperrin/.local/share/virtualenvs/commonlit-evaluate-student-summaries-1rc7Oi8p/lib/python3.11/site-packages/seaborn/_oldcore.py:1119: FutureWarning: use_inf_as_na option is deprecated and will be removed in a future version. Convert inf values to NaN before operating instead.\n",
      "  with pd.option_context('mode.use_inf_as_na', True):\n",
      "/Users/thibaudperrin/.local/share/virtualenvs/commonlit-evaluate-student-summaries-1rc7Oi8p/lib/python3.11/site-packages/seaborn/_oldcore.py:1119: FutureWarning: use_inf_as_na option is deprecated and will be removed in a future version. Convert inf values to NaN before operating instead.\n",
      "  with pd.option_context('mode.use_inf_as_na', True):\n",
      "/Users/thibaudperrin/.local/share/virtualenvs/commonlit-evaluate-student-summaries-1rc7Oi8p/lib/python3.11/site-packages/seaborn/_oldcore.py:1498: FutureWarning: is_categorical_dtype is deprecated and will be removed in a future version. Use isinstance(dtype, CategoricalDtype) instead\n",
      "  if pd.api.types.is_categorical_dtype(vector):\n",
      "/Users/thibaudperrin/.local/share/virtualenvs/commonlit-evaluate-student-summaries-1rc7Oi8p/lib/python3.11/site-packages/seaborn/_oldcore.py:1498: FutureWarning: is_categorical_dtype is deprecated and will be removed in a future version. Use isinstance(dtype, CategoricalDtype) instead\n",
      "  if pd.api.types.is_categorical_dtype(vector):\n",
      "/Users/thibaudperrin/.local/share/virtualenvs/commonlit-evaluate-student-summaries-1rc7Oi8p/lib/python3.11/site-packages/seaborn/_oldcore.py:1119: FutureWarning: use_inf_as_na option is deprecated and will be removed in a future version. Convert inf values to NaN before operating instead.\n",
      "  with pd.option_context('mode.use_inf_as_na', True):\n",
      "/Users/thibaudperrin/.local/share/virtualenvs/commonlit-evaluate-student-summaries-1rc7Oi8p/lib/python3.11/site-packages/seaborn/_oldcore.py:1119: FutureWarning: use_inf_as_na option is deprecated and will be removed in a future version. Convert inf values to NaN before operating instead.\n",
      "  with pd.option_context('mode.use_inf_as_na', True):\n"
     ]
    },
    {
     "data": {
      "image/png": "[encoded data removed]",
      "text/plain": [
       "<Figure size 1200x600 with 1 Axes>"
      ]
     },
     "metadata": {},
     "output_type": "display_data"
    }
   ],
   "source": [
    "# After training, call the function to plot\n",
    "plot_graphs(train_losses, val_losses)"
   ]
  },
  {
   "cell_type": "markdown",
   "id": "b28171c7-d418-404a-a7e7-cfb3567c7c12",
   "metadata": {},
   "source": [
    "## Saving torch script"
   ]
  },
  {
   "cell_type": "code",
   "execution_count": 21,
   "id": "6a58131d-0d65-4e15-bd16-c67008f19d80",
   "metadata": {},
   "outputs": [
    {
     "data": {
      "text/plain": [
       "<All keys matched successfully>"
      ]
     },
     "execution_count": 21,
     "metadata": {},
     "output_type": "execute_result"
    }
   ],
   "source": [
    "model.load_state_dict(torch.load(f\"{OUT_PATH}/{MODEL_NAME}\"))"
   ]
  },
  {
   "cell_type": "code",
   "execution_count": 22,
   "id": "2a21393b-2e29-436e-bc9e-bc93f32469cc",
   "metadata": {},
   "outputs": [],
   "source": [
    "exemple_batches = dataset.get_batch('train')\n",
    "ex_batch = next(exemple_batches)\n",
    "embeddings_question = ex_batch['embeddings_question']\n",
    "embeddings_text = ex_batch['embeddings_text']\n",
    "embeddings_answer = ex_batch['text']\n",
    "content = ex_batch['content']\n",
    "wording = ex_batch['wording']\n",
    "normalized_lexical_density = ex_batch['normalized_lexical_density']\n",
    "normalized_spell_checker = ex_batch['normalized_spell_checker']\n",
    "normalized_tf_idf_question_score = ex_batch['normalized_tf_idf_question_score']\n",
    "normalized_avg_word_length = ex_batch['normalized_avg_word_length']\n",
    "normalized_smog_index = ex_batch['normalized_smog_index']\n",
    "normalized_coleman_liau_index = ex_batch['normalized_coleman_liau_index']\n",
    "normalized_flesch_reading_ease = ex_batch['normalized_flesch_reading_ease']\n",
    "\n",
    "features = (normalized_lexical_density.to('cpu'), \\\n",
    "            normalized_spell_checker.to('cpu'), \\\n",
    "            normalized_tf_idf_question_score.to('cpu'), \\\n",
    "            normalized_avg_word_length.to('cpu'), \\\n",
    "            normalized_smog_index.to('cpu'), \\\n",
    "            normalized_coleman_liau_index.to('cpu'), \\\n",
    "            normalized_flesch_reading_ease.to('cpu') \\\n",
    "           )"
   ]
  },
  {
   "cell_type": "code",
   "execution_count": 23,
   "id": "72f85c4d-47fb-42d5-8b08-e90af1199874",
   "metadata": {},
   "outputs": [],
   "source": [
    "# Trace the model\n",
    "traced_model = torch.jit.trace(model.to('cpu'), (embeddings_text.to('cpu'), embeddings_question.to('cpu'), embeddings_answer.to('cpu'), features))\n",
    "# Save the traced model\n",
    "traced_model.save(f\"{OUT_PATH}/{MODEL_SCRIPT_NAME}\")"
   ]
  },
  {
   "cell_type": "code",
   "execution_count": 24,
   "id": "7860f40b-e9c7-4f20-9c9f-71ca695f20b7",
   "metadata": {},
   "outputs": [],
   "source": [
    "import math"
   ]
  },
  {
   "cell_type": "code",
   "execution_count": 25,
   "id": "70ad3e0e-5421-4bf2-9b25-6a77b4c40f33",
   "metadata": {},
   "outputs": [],
   "source": [
    "def t_round(x, decimals = 3):\n",
    "    multiplicator = 10**decimals\n",
    "    return torch.round(x * 1000) / 1000"
   ]
  },
  {
   "cell_type": "code",
   "execution_count": 26,
   "id": "8782aac0-bd1d-433b-b849-f4b784bb41ba",
   "metadata": {},
   "outputs": [
    {
     "name": "stdout",
     "output_type": "stream",
     "text": [
      "[ 0.474 =>  0.297 = -0.177] \t | \t [ 0.579 => -0.169 = -0.748]\n",
      "[ 2.086 =>  1.874 = -0.212] \t | \t [ 2.041 =>  2.801 =  0.760]\n",
      "[ 1.515 =>  1.738 =  0.224] \t | \t [ 1.114 =>  0.539 = -0.575]\n",
      "[ 0.185 =>  0.376 =  0.191] \t | \t [ 0.851 =>  0.464 = -0.387]\n",
      "[-0.504 => -0.500 =  0.004] \t | \t [-0.349 => -0.457 = -0.108]\n",
      "[-0.861 => -0.902 = -0.041] \t | \t [-0.946 => -0.917 =  0.030]\n",
      "[ 0.823 =>  1.622 =  0.799] \t | \t [ 0.204 => -0.478 = -0.683]\n",
      "[-1.208 => -1.547 = -0.339] \t | \t [-1.267 => -1.461 = -0.195]\n",
      "[ 0.972 =>  0.607 = -0.365] \t | \t [ 0.688 =>  0.882 =  0.194]\n",
      "[-0.032 =>  0.297 =  0.329] \t | \t [ 0.164 => -0.169 = -0.333]\n",
      "[ 1.647 =>  1.814 =  0.166] \t | \t [ 0.513 =>  0.027 = -0.486]\n",
      "[ 0.131 =>  0.329 =  0.197] \t | \t [-0.099 => -1.053 = -0.955]\n",
      "[ 0.872 =>  0.906 =  0.034] \t | \t [-0.080 => -0.009 =  0.071]\n",
      "[ 0.565 =>  0.842 =  0.277] \t | \t [ 0.254 => -0.679 = -0.933]\n",
      "[-0.654 => -1.468 = -0.814] \t | \t [-0.851 => -0.829 =  0.022]\n",
      "[ 1.297 =>  1.269 = -0.028] \t | \t [ 1.099 =>  0.537 = -0.562]\n",
      "[-1.158 => -1.547 = -0.390] \t | \t [-1.325 => -1.461 = -0.136]\n",
      "[-1.150 => -0.640 =  0.510] \t | \t [-1.402 => -1.383 =  0.019]\n",
      "[ 0.306 =>  0.297 = -0.009] \t | \t [ 0.190 => -0.169 = -0.358]\n",
      "[-0.201 =>  0.468 =  0.669] \t | \t [-0.469 => -0.086 =  0.383]\n",
      "[-0.644 => -0.382 =  0.261] \t | \t [-1.086 => -1.795 = -0.710]\n",
      "[-1.396 => -1.488 = -0.092] \t | \t [-1.056 => -1.126 = -0.070]\n",
      "[-0.895 => -1.547 = -0.652] \t | \t [-0.762 => -1.461 = -0.699]\n",
      "[ 0.460 =>  0.847 =  0.387] \t | \t [-0.295 =>  0.423 =  0.718]\n"
     ]
    }
   ],
   "source": [
    "tensor1, tensor2 = model(embeddings_text.to('cpu'), embeddings_question.to('cpu'), embeddings_answer.to('cpu'), features), torch.stack((content, wording), dim=1)\n",
    "\n",
    "for (col1_tensor1, col2_tensor1), (col1_tensor2, col2_tensor2) in zip(tensor1, tensor2):\n",
    "    print(f\"[{col1_tensor1:>6.3f} => {col1_tensor2:>6.3f} = {col1_tensor2-col1_tensor1:>6.3f}] \\t | \\t [{col2_tensor1:>6.3f} => {col2_tensor2:>6.3f} = {col2_tensor2 - col2_tensor1:>6.3f}]\")"
   ]
  },
  {
   "cell_type": "code",
   "execution_count": 27,
   "id": "a30afdbd-630e-4182-97e0-9e0174dbe3b7",
   "metadata": {},
   "outputs": [],
   "source": [
    "# [-0.418 => -0.234 =  0.184] \t | \t [-0.422 => -0.390 =  0.032]\n",
    "# [-0.261 => -0.114 =  0.147] \t | \t [-0.298 => -0.193 =  0.105]\n",
    "# [-0.543 => -0.621 = -0.078] \t | \t [-0.391 => -0.668 = -0.277]\n",
    "# [-0.205 => -0.204 =  0.001] \t | \t [-0.242 => -0.573 = -0.331]\n",
    "# [-0.383 => -0.285 =  0.098] \t | \t [-0.383 => -0.318 =  0.065]\n",
    "# [ 0.008 =>  0.095 =  0.087] \t | \t [-0.194 => -0.167 =  0.027]\n",
    "# [-0.041 =>  0.257 =  0.298] \t | \t [-0.188 => -0.151 =  0.037]\n",
    "# [-0.130 => -0.187 = -0.057] \t | \t [-0.060 =>  0.044 =  0.104]\n",
    "# [-0.370 => -0.464 = -0.094] \t | \t [-0.374 => -0.640 = -0.266]\n",
    "# [-0.434 =>  0.341 =  0.775] \t | \t [-0.396 => -0.182 =  0.214]\n",
    "# [-0.757 => -0.849 = -0.092] \t | \t [-0.694 => -0.820 = -0.126]\n",
    "# [ 0.091 =>  0.250 =  0.159] \t | \t [ 0.057 =>  0.265 =  0.208]"
   ]
  },
  {
   "cell_type": "markdown",
   "id": "f58a7665-b682-436b-a62e-a0365521f75a",
   "metadata": {},
   "source": [
    "## Load the Traced Model"
   ]
  },
  {
   "cell_type": "code",
   "execution_count": 28,
   "id": "113464e4-6ea3-4ce7-9fd0-2b4074602278",
   "metadata": {},
   "outputs": [],
   "source": [
    "loaded_model = torch.jit.load(f\"{OUT_PATH}/{MODEL_SCRIPT_NAME}\").to(device)"
   ]
  },
  {
   "cell_type": "code",
   "execution_count": 29,
   "id": "c45cdfba-440d-4de0-ac11-22382d876f89",
   "metadata": {},
   "outputs": [],
   "source": [
    "features = (normalized_lexical_density.to(device), \\\n",
    "            normalized_spell_checker.to(device), \\\n",
    "            normalized_tf_idf_question_score.to(device), \\\n",
    "            normalized_avg_word_length.to(device), \\\n",
    "            normalized_smog_index.to(device), \\\n",
    "            normalized_coleman_liau_index.to(device), \\\n",
    "            normalized_flesch_reading_ease.to(device) \\\n",
    "           )"
   ]
  },
  {
   "cell_type": "code",
   "execution_count": 31,
   "id": "c66825f1-b925-463f-bec3-f5a3b20646b9",
   "metadata": {},
   "outputs": [
    {
     "data": {
      "text/plain": [
       "tensor([[ 0.4737,  0.5789],\n",
       "        [ 2.0861,  2.0414],\n",
       "        [ 1.5146,  1.1141],\n",
       "        [ 0.1851,  0.8510],\n",
       "        [-0.5045, -0.3488],\n",
       "        [-0.8612, -0.9462],\n",
       "        [ 0.8228,  0.2044],\n",
       "        [-1.2085, -1.2666],\n",
       "        [ 0.9716,  0.6876],\n",
       "        [-0.0322,  0.1639],\n",
       "        [ 1.6473,  0.5133],\n",
       "        [ 0.1313, -0.0987],\n",
       "        [ 0.8721, -0.0798],\n",
       "        [ 0.5651,  0.2541],\n",
       "        [-0.6537, -0.8511],\n",
       "        [ 1.2966,  1.0991],\n",
       "        [-1.1576, -1.3249],\n",
       "        [-1.1499, -1.4018],\n",
       "        [ 0.3059,  0.1896],\n",
       "        [-0.2010, -0.4688],\n",
       "        [-0.6435, -1.0856],\n",
       "        [-1.3957, -1.0559],\n",
       "        [-0.8955, -0.7619],\n",
       "        [ 0.4597, -0.2946]], grad_fn=<CatBackward0>)"
      ]
     },
     "execution_count": 31,
     "metadata": {},
     "output_type": "execute_result"
    }
   ],
   "source": [
    "loaded_model(embeddings_text.to(device), embeddings_question.to(device), embeddings_answer.to(device), features)"
   ]
  },
  {
   "cell_type": "code",
   "execution_count": 32,
   "id": "2e2af4b4-9728-46ab-974c-cc7ec23224bb",
   "metadata": {},
   "outputs": [],
   "source": [
    "def test_model():\n",
    "    test_batches = dataset.get_batch('test')\n",
    "    list_mcrmse = []\n",
    "    list_outputs = []\n",
    "    list_targets = []\n",
    "    for index, test_batch in enumerate(test_batches):\n",
    "        print(f\"\\r [{index}/{len(dataset.test_data) // BATCH_SIZE}]\", end=\"\")\n",
    "        \n",
    "        embeddings_question = test_batch['embeddings_question']\n",
    "        embeddings_text = test_batch['embeddings_text']\n",
    "        embeddings_answer = test_batch['text']\n",
    "        content = test_batch['content']\n",
    "        wording = test_batch['wording']\n",
    "        normalized_lexical_density = test_batch['normalized_lexical_density']\n",
    "        normalized_spell_checker = test_batch['normalized_spell_checker']\n",
    "        normalized_tf_idf_question_score = test_batch['normalized_tf_idf_question_score']\n",
    "        normalized_avg_word_length = test_batch['normalized_avg_word_length']\n",
    "        normalized_smog_index = test_batch['normalized_smog_index']\n",
    "        normalized_coleman_liau_index = test_batch['normalized_coleman_liau_index']\n",
    "        normalized_flesch_reading_ease = test_batch['normalized_flesch_reading_ease']\n",
    "        \n",
    "        features = (normalized_lexical_density.to('cpu'), \\\n",
    "                    normalized_spell_checker.to('cpu'), \\\n",
    "                    normalized_tf_idf_question_score.to('cpu'), \\\n",
    "                    normalized_avg_word_length.to('cpu'), \\\n",
    "                    normalized_smog_index.to('cpu'), \\\n",
    "                    normalized_coleman_liau_index.to('cpu'), \\\n",
    "                    normalized_flesch_reading_ease.to('cpu') \\\n",
    "                   )\n",
    "        outputs = loaded_model(embeddings_text.to('cpu'), \\\n",
    "                               embeddings_question.to('cpu'), \\\n",
    "                               embeddings_answer.to('cpu'), \\\n",
    "                               features \\\n",
    "                              )\n",
    "        targets = torch.stack(\n",
    "            (\n",
    "                content,\n",
    "                wording\n",
    "            ), dim=1).to('cpu')\n",
    "        \n",
    "        val_mcrmse = MCRMSE(targets, outputs)\n",
    "        list_mcrmse.append(val_mcrmse.item())\n",
    "        list_outputs += outputs.detach().cpu().numpy().tolist()\n",
    "        list_targets += targets.detach().cpu().numpy().tolist()\n",
    "    print()\n",
    "    return list_mcrmse, list_outputs, list_targets\n"
   ]
  },
  {
   "cell_type": "code",
   "execution_count": 33,
   "id": "36518bbf-1146-482f-a148-3ee4f626860c",
   "metadata": {},
   "outputs": [
    {
     "name": "stdout",
     "output_type": "stream",
     "text": [
      " [35/35]\n"
     ]
    }
   ],
   "source": [
    "list_mcrmse, list_pred, list_targets = test_model()"
   ]
  },
  {
   "cell_type": "code",
   "execution_count": 34,
   "id": "a6b145c5-1765-41d0-aa6a-38a0c34a8a03",
   "metadata": {},
   "outputs": [
    {
     "data": {
      "text/plain": [
       "(860, 2, 860, 2)"
      ]
     },
     "execution_count": 34,
     "metadata": {},
     "output_type": "execute_result"
    }
   ],
   "source": [
    "len(list_pred), len(list_pred[0]), len(list_targets), len(list_targets[0])"
   ]
  },
  {
   "cell_type": "code",
   "execution_count": 35,
   "id": "df9b0f83-950b-4fb2-97cb-04c1fdbaadd1",
   "metadata": {
    "scrolled": true
   },
   "outputs": [],
   "source": [
    "def cal_accu(pred, real):\n",
    "    predicted_labels = torch.argmax(pred, dim=1)\n",
    "\n",
    "    # Get the true labels\n",
    "    true_labels = torch.argmax(real, dim=1)\n",
    "    \n",
    "    # Calculate the number of correct predictions\n",
    "    correct = (predicted_labels == true_labels).sum().item()\n",
    "    \n",
    "    # Calculate accuracy\n",
    "    accuracy = correct / pred.size(0) * 100  # pred.size(0) gives the batch size\n",
    "    \n",
    "    print(f\"Accuracy: {accuracy}%\")"
   ]
  },
  {
   "cell_type": "code",
   "execution_count": 36,
   "id": "b56ad30f-6e7f-4f70-b3a6-ec631fd12831",
   "metadata": {},
   "outputs": [
    {
     "name": "stdout",
     "output_type": "stream",
     "text": [
      "Accuracy: 66.3953488372093%\n"
     ]
    }
   ],
   "source": [
    "cal_accu(torch.tensor(list_pred), torch.tensor(list_targets))"
   ]
  },
  {
   "cell_type": "markdown",
   "id": "b2b1ca51-515b-483c-ae92-3ac33f2f54a8",
   "metadata": {},
   "source": [
    "Accuracy: 69.65116279069767%"
   ]
  },
  {
   "cell_type": "code",
   "execution_count": 37,
   "id": "ae610d03-9a00-4b4f-87b6-2de99bb9ef8b",
   "metadata": {},
   "outputs": [
    {
     "data": {
      "text/plain": [
       "0.592870788441764"
      ]
     },
     "execution_count": 37,
     "metadata": {},
     "output_type": "execute_result"
    }
   ],
   "source": [
    "import math\n",
    "sum(list_mcrmse) / len(list_mcrmse)"
   ]
  },
  {
   "cell_type": "markdown",
   "id": "4fe2b692-f8dd-4f68-aa6a-4b56c9781cce",
   "metadata": {},
   "source": [
    "0.1883068767686685"
   ]
  },
  {
   "cell_type": "code",
   "execution_count": 38,
   "id": "83e6baac-3699-4602-ac14-78a704a8a08e",
   "metadata": {},
   "outputs": [
    {
     "data": {
      "image/png": "[encoded data removed]",
      "text/plain": [
       "<Figure size 640x480 with 1 Axes>"
      ]
     },
     "metadata": {},
     "output_type": "display_data"
    }
   ],
   "source": [
    "plt.ioff()  # Turn off interactive mode\n",
    "plt.plot(list_mcrmse)\n",
    "\n",
    "# Setting axes labels and title\n",
    "plt.xlabel('X-axis Label')\n",
    "plt.ylabel('Y-axis Label')\n",
    "plt.title('Plot Title')\n",
    "# Setting ticks explicitly\n",
    "plt.tick_params(axis='both', labelcolor='black', labelsize='medium')\n",
    "\n",
    "plt.draw()  # Explicitly redraw the figure\n",
    "plt.show()"
   ]
  },
  {
   "cell_type": "code",
   "execution_count": null,
   "id": "d9aeb6dc-c24e-49ac-a4da-0d4b46e458f3",
   "metadata": {},
   "outputs": [],
   "source": []
  }
 ],
 "metadata": {
  "kernelspec": {
   "display_name": "Python 3 (ipykernel)",
   "language": "python",
   "name": "python3"
  },
  "language_info": {
   "codemirror_mode": {
    "name": "ipython",
    "version": 3
   },
   "file_extension": ".py",
   "mimetype": "text/x-python",
   "name": "python",
   "nbconvert_exporter": "python",
   "pygments_lexer": "ipython3",
   "version": "3.11.5"
  }
 },
 "nbformat": 4,
 "nbformat_minor": 5
}
